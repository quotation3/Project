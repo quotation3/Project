{
  "nbformat": 4,
  "nbformat_minor": 0,
  "metadata": {
    "colab": {
      "name": "한국은행논문구현_tone_rate상관관계분석_시각화.ipynb",
      "provenance": [],
      "mount_file_id": "1_kn5LTpgbcGB5oJihv5CVd5FxCKgLsyK",
      "authorship_tag": "ABX9TyN2qQ6R7KdyLutw4hMKIxUR",
      "include_colab_link": true
    },
    "kernelspec": {
      "name": "python3",
      "display_name": "Python 3"
    }
  },
  "cells": [
    {
      "cell_type": "markdown",
      "metadata": {
        "id": "view-in-github",
        "colab_type": "text"
      },
      "source": [
        "<a href=\"https://colab.research.google.com/github/quotation3/project/blob/master/%ED%95%9C%EA%B5%AD%EC%9D%80%ED%96%89%EB%85%BC%EB%AC%B8%EA%B5%AC%ED%98%84_tone_rate%EC%83%81%EA%B4%80%EA%B4%80%EA%B3%84%EB%B6%84%EC%84%9D_%EC%8B%9C%EA%B0%81%ED%99%94.ipynb\" target=\"_parent\"><img src=\"https://colab.research.google.com/assets/colab-badge.svg\" alt=\"Open In Colab\"/></a>"
      ]
    },
    {
      "cell_type": "code",
      "metadata": {
        "id": "S2RIrn8M2U6D",
        "colab_type": "code",
        "colab": {}
      },
      "source": [
        "import pandas as pd\n",
        "import numpy as np\n",
        "import matplotlib.pyplot as plt\n",
        "import scipy.stats as stats\n",
        "import matplotlib.ticker as ticker\n",
        "import matplotlib.dates as mdates\n",
        "from datetime import datetime"
      ],
      "execution_count": 94,
      "outputs": []
    },
    {
      "cell_type": "code",
      "metadata": {
        "id": "u9A1oKa6pYmh",
        "colab_type": "code",
        "colab": {}
      },
      "source": [
        "tone = pd.read_csv('/content/drive/My Drive/Colab Notebooks/tone_doc.csv')\n",
        "rate = pd.read_csv('/content/drive/My Drive/Colab Notebooks/policy_rate.csv')"
      ],
      "execution_count": 95,
      "outputs": []
    },
    {
      "cell_type": "markdown",
      "metadata": {
        "id": "GC1tZDe4Rm83",
        "colab_type": "text"
      },
      "source": [
        "\n",
        "#의사록 발행날짜와 금리 상관관계"
      ]
    },
    {
      "cell_type": "code",
      "metadata": {
        "id": "MpJyBxtJqkEq",
        "colab_type": "code",
        "colab": {}
      },
      "source": [
        "# 데이터 전처리\n",
        "rate = rate.drop([0,1,2,3])\n",
        "tone.columns=['date','tone']\n",
        "rate.columns=['date','rate']\n",
        "tone['date'] = pd.to_datetime(tone['date'], format = \"%Y%m%d\").dt.strftime('%Y-%m-%d')"
      ],
      "execution_count": 96,
      "outputs": []
    },
    {
      "cell_type": "code",
      "metadata": {
        "id": "I8EWB9_yr46I",
        "colab_type": "code",
        "colab": {
          "base_uri": "https://localhost:8080/",
          "height": 419
        },
        "outputId": "4f476037-70ab-4f4d-973c-fe2b376e71e3"
      },
      "source": [
        "# tone과 rate를 합침 (의사록 날짜만으로 비교)\n",
        "tone_rate = pd.merge(tone,rate, on='date', how='inner')\n",
        "tone_rate"
      ],
      "execution_count": 97,
      "outputs": [
        {
          "output_type": "execute_result",
          "data": {
            "text/html": [
              "<div>\n",
              "<style scoped>\n",
              "    .dataframe tbody tr th:only-of-type {\n",
              "        vertical-align: middle;\n",
              "    }\n",
              "\n",
              "    .dataframe tbody tr th {\n",
              "        vertical-align: top;\n",
              "    }\n",
              "\n",
              "    .dataframe thead th {\n",
              "        text-align: right;\n",
              "    }\n",
              "</style>\n",
              "<table border=\"1\" class=\"dataframe\">\n",
              "  <thead>\n",
              "    <tr style=\"text-align: right;\">\n",
              "      <th></th>\n",
              "      <th>date</th>\n",
              "      <th>tone</th>\n",
              "      <th>rate</th>\n",
              "    </tr>\n",
              "  </thead>\n",
              "  <tbody>\n",
              "    <tr>\n",
              "      <th>0</th>\n",
              "      <td>2005-05-12</td>\n",
              "      <td>-0.272727</td>\n",
              "      <td>3.25</td>\n",
              "    </tr>\n",
              "    <tr>\n",
              "      <th>1</th>\n",
              "      <td>2005-06-09</td>\n",
              "      <td>0.111111</td>\n",
              "      <td>3.25</td>\n",
              "    </tr>\n",
              "    <tr>\n",
              "      <th>2</th>\n",
              "      <td>2005-07-07</td>\n",
              "      <td>0.142857</td>\n",
              "      <td>3.25</td>\n",
              "    </tr>\n",
              "    <tr>\n",
              "      <th>3</th>\n",
              "      <td>2005-08-11</td>\n",
              "      <td>0.625000</td>\n",
              "      <td>3.25</td>\n",
              "    </tr>\n",
              "    <tr>\n",
              "      <th>4</th>\n",
              "      <td>2005-09-08</td>\n",
              "      <td>0.333333</td>\n",
              "      <td>3.25</td>\n",
              "    </tr>\n",
              "    <tr>\n",
              "      <th>...</th>\n",
              "      <td>...</td>\n",
              "      <td>...</td>\n",
              "      <td>...</td>\n",
              "    </tr>\n",
              "    <tr>\n",
              "      <th>156</th>\n",
              "      <td>2019-02-28</td>\n",
              "      <td>-0.500000</td>\n",
              "      <td>1.75</td>\n",
              "    </tr>\n",
              "    <tr>\n",
              "      <th>157</th>\n",
              "      <td>2019-04-18</td>\n",
              "      <td>0.076923</td>\n",
              "      <td>1.75</td>\n",
              "    </tr>\n",
              "    <tr>\n",
              "      <th>158</th>\n",
              "      <td>2019-05-31</td>\n",
              "      <td>0.000000</td>\n",
              "      <td>1.75</td>\n",
              "    </tr>\n",
              "    <tr>\n",
              "      <th>159</th>\n",
              "      <td>2019-07-18</td>\n",
              "      <td>-0.404255</td>\n",
              "      <td>1.50</td>\n",
              "    </tr>\n",
              "    <tr>\n",
              "      <th>160</th>\n",
              "      <td>2019-08-30</td>\n",
              "      <td>-0.545455</td>\n",
              "      <td>1.50</td>\n",
              "    </tr>\n",
              "  </tbody>\n",
              "</table>\n",
              "<p>161 rows × 3 columns</p>\n",
              "</div>"
            ],
            "text/plain": [
              "           date      tone  rate\n",
              "0    2005-05-12 -0.272727  3.25\n",
              "1    2005-06-09  0.111111  3.25\n",
              "2    2005-07-07  0.142857  3.25\n",
              "3    2005-08-11  0.625000  3.25\n",
              "4    2005-09-08  0.333333  3.25\n",
              "..          ...       ...   ...\n",
              "156  2019-02-28 -0.500000  1.75\n",
              "157  2019-04-18  0.076923  1.75\n",
              "158  2019-05-31  0.000000  1.75\n",
              "159  2019-07-18 -0.404255  1.50\n",
              "160  2019-08-30 -0.545455  1.50\n",
              "\n",
              "[161 rows x 3 columns]"
            ]
          },
          "metadata": {
            "tags": []
          },
          "execution_count": 97
        }
      ]
    },
    {
      "cell_type": "code",
      "metadata": {
        "id": "jt-UYm6eRa0V",
        "colab_type": "code",
        "colab": {}
      },
      "source": [
        "tone_rate['date'] = pd.to_datetime(tone_rate['date'], format = \"%Y-%m-%d\")"
      ],
      "execution_count": 98,
      "outputs": []
    },
    {
      "cell_type": "code",
      "metadata": {
        "id": "Osb9yqqFs865",
        "colab_type": "code",
        "colab": {
          "base_uri": "https://localhost:8080/",
          "height": 35
        },
        "outputId": "735adf19-bb3d-42ec-ad07-a7fe1f8d805c"
      },
      "source": [
        "# tone지수와 rate의 상관관계\n",
        "corr = stats.pearsonr(tone_rate.tone, tone_rate.rate)\n",
        "corr"
      ],
      "execution_count": 99,
      "outputs": [
        {
          "output_type": "execute_result",
          "data": {
            "text/plain": [
              "(0.5088821801036697, 5.481453799703011e-12)"
            ]
          },
          "metadata": {
            "tags": []
          },
          "execution_count": 99
        }
      ]
    },
    {
      "cell_type": "code",
      "metadata": {
        "id": "cAy1_QE_LmGB",
        "colab_type": "code",
        "colab": {
          "base_uri": "https://localhost:8080/",
          "height": 393
        },
        "outputId": "25391da6-481f-494a-ffad-e67d222ff56d"
      },
      "source": [
        "x = tone_rate['date']\n",
        "y1 = tone_rate['rate']\n",
        "y2 = tone_rate['tone']\n",
        "\n",
        "fig, ax1 = plt.subplots()\n",
        "\n",
        "ax2 = ax1.twinx()\n",
        "line1 = ax1.plot(x, y1, 'r-', label = '기준금리')\n",
        "line2 = ax2.plot(x, y2, 'b-', label = '의사록Tone')\n",
        "\n",
        "ax1.set_xlabel('Date')\n",
        "ax1.set_ylabel('기준금리', color='r')\n",
        "ax2.set_ylabel('Tone', color='b')\n",
        "\n",
        "lns = line1+line2   # line 범례 작성\n",
        "labs = [l.get_label() for l in lns]\n",
        "ax1.legend(lns,labs,loc=0)\n",
        "\n",
        "# # x축 편집\n",
        "plt.setp(ax1.get_xticklabels(), rotation=45)    # x축 45도 회전\n",
        "loc = mdates.MonthLocator([1])  # x축 레이블 매년 1월만 표시\n",
        "myFmt = mdates.DateFormatter('%Y-%m')   # x축 레이블 포맷 설정\n",
        "ax1.xaxis.set_major_formatter(myFmt)\n",
        "ax1.xaxis.set_major_locator(loc)\n",
        "\n",
        "plt.grid(True, axis='y', color='gray', alpha=0.5, linestyle='--')   # x축 grid 표시\n",
        "plt.title('기준금리와 의사록Tone의 시계열')\n",
        "\n",
        "plt.show()"
      ],
      "execution_count": 100,
      "outputs": [
        {
          "output_type": "stream",
          "text": [
            "/usr/local/lib/python3.6/dist-packages/matplotlib/backends/backend_agg.py:214: RuntimeWarning: Glyph 8722 missing from current font.\n",
            "  font.set_text(s, 0.0, flags=flags)\n",
            "/usr/local/lib/python3.6/dist-packages/matplotlib/backends/backend_agg.py:183: RuntimeWarning: Glyph 8722 missing from current font.\n",
            "  font.set_text(s, 0, flags=flags)\n"
          ],
          "name": "stderr"
        },
        {
          "output_type": "display_data",
          "data": {
            "image/png": "[encoded data removed]",
            "text/plain": [
              "<Figure size 432x288 with 2 Axes>"
            ]
          },
          "metadata": {
            "tags": [],
            "needs_background": "light"
          }
        }
      ]
    },
    {
      "cell_type": "markdown",
      "metadata": {
        "id": "cOeiF8rhSnZR",
        "colab_type": "text"
      },
      "source": [
        "#의사록 발행날짜가 아닌 매 일 금리 상관관계"
      ]
    },
    {
      "cell_type": "code",
      "metadata": {
        "id": "eg8KOsFgveyp",
        "colab_type": "code",
        "colab": {
          "base_uri": "https://localhost:8080/",
          "height": 419
        },
        "outputId": "a8c5a18f-4652-409c-d570-aafce2359f7b"
      },
      "source": [
        "# 의사록 날짜가 아닌 모든날짜와 금리를 비교하기 위해 날짜리스트 새로 생성\n",
        "\n",
        "# 중간중간 빈날짜를 채워줘야함.\n",
        "from datetime import datetime, timedelta\n",
        "# start_date부터 end_date까지 날짜 리스트 생성\n",
        "start_date = datetime.strptime('2005-05-12', '%Y-%m-%d')\n",
        "end_date = datetime.strptime('2019-08-30', '%Y-%m-%d')\n",
        "\n",
        "str_date_list = []\n",
        "while start_date.strftime('%Y%m%d') != end_date.strftime('%Y%m%d'): # start_date가 end_date랑 같아지기 전까지 1씩 늘어나면서 리스트에 추가\n",
        "    str_date_list.append(start_date.strftime('%Y-%m-%d'))\n",
        "    start_date += timedelta(days=1)\n",
        "str_date_list.append(end_date.strftime('%Y-%m-%d')) # end_date 포함안됐으므로 따로 추가\n",
        "    \n",
        "date_list = np.array(str_date_list)\n",
        "all_date  = pd.DataFrame(date_list.T, columns=['date'])\n",
        "all_date"
      ],
      "execution_count": 101,
      "outputs": [
        {
          "output_type": "execute_result",
          "data": {
            "text/html": [
              "<div>\n",
              "<style scoped>\n",
              "    .dataframe tbody tr th:only-of-type {\n",
              "        vertical-align: middle;\n",
              "    }\n",
              "\n",
              "    .dataframe tbody tr th {\n",
              "        vertical-align: top;\n",
              "    }\n",
              "\n",
              "    .dataframe thead th {\n",
              "        text-align: right;\n",
              "    }\n",
              "</style>\n",
              "<table border=\"1\" class=\"dataframe\">\n",
              "  <thead>\n",
              "    <tr style=\"text-align: right;\">\n",
              "      <th></th>\n",
              "      <th>date</th>\n",
              "    </tr>\n",
              "  </thead>\n",
              "  <tbody>\n",
              "    <tr>\n",
              "      <th>0</th>\n",
              "      <td>2005-05-12</td>\n",
              "    </tr>\n",
              "    <tr>\n",
              "      <th>1</th>\n",
              "      <td>2005-05-13</td>\n",
              "    </tr>\n",
              "    <tr>\n",
              "      <th>2</th>\n",
              "      <td>2005-05-14</td>\n",
              "    </tr>\n",
              "    <tr>\n",
              "      <th>3</th>\n",
              "      <td>2005-05-15</td>\n",
              "    </tr>\n",
              "    <tr>\n",
              "      <th>4</th>\n",
              "      <td>2005-05-16</td>\n",
              "    </tr>\n",
              "    <tr>\n",
              "      <th>...</th>\n",
              "      <td>...</td>\n",
              "    </tr>\n",
              "    <tr>\n",
              "      <th>5219</th>\n",
              "      <td>2019-08-26</td>\n",
              "    </tr>\n",
              "    <tr>\n",
              "      <th>5220</th>\n",
              "      <td>2019-08-27</td>\n",
              "    </tr>\n",
              "    <tr>\n",
              "      <th>5221</th>\n",
              "      <td>2019-08-28</td>\n",
              "    </tr>\n",
              "    <tr>\n",
              "      <th>5222</th>\n",
              "      <td>2019-08-29</td>\n",
              "    </tr>\n",
              "    <tr>\n",
              "      <th>5223</th>\n",
              "      <td>2019-08-30</td>\n",
              "    </tr>\n",
              "  </tbody>\n",
              "</table>\n",
              "<p>5224 rows × 1 columns</p>\n",
              "</div>"
            ],
            "text/plain": [
              "            date\n",
              "0     2005-05-12\n",
              "1     2005-05-13\n",
              "2     2005-05-14\n",
              "3     2005-05-15\n",
              "4     2005-05-16\n",
              "...          ...\n",
              "5219  2019-08-26\n",
              "5220  2019-08-27\n",
              "5221  2019-08-28\n",
              "5222  2019-08-29\n",
              "5223  2019-08-30\n",
              "\n",
              "[5224 rows x 1 columns]"
            ]
          },
          "metadata": {
            "tags": []
          },
          "execution_count": 101
        }
      ]
    },
    {
      "cell_type": "code",
      "metadata": {
        "id": "CpND6Mlovn_-",
        "colab_type": "code",
        "colab": {
          "base_uri": "https://localhost:8080/",
          "height": 419
        },
        "outputId": "d3a6464d-7d6a-4b7b-a11a-0fdfd4436653"
      },
      "source": [
        "df = pd.merge(tone,all_date, on='date', how='outer') # 톤 데이터와 전체날짜를 date기준으로 outer 조인\n",
        "tone_alldate = df.sort_values(by='date' ,ascending=True).fillna(method='ffill') # 내림차순으로 정렬후, 결측치는 가장 최근 과거 값으로 대입\n",
        "tone_alldate"
      ],
      "execution_count": 102,
      "outputs": [
        {
          "output_type": "execute_result",
          "data": {
            "text/html": [
              "<div>\n",
              "<style scoped>\n",
              "    .dataframe tbody tr th:only-of-type {\n",
              "        vertical-align: middle;\n",
              "    }\n",
              "\n",
              "    .dataframe tbody tr th {\n",
              "        vertical-align: top;\n",
              "    }\n",
              "\n",
              "    .dataframe thead th {\n",
              "        text-align: right;\n",
              "    }\n",
              "</style>\n",
              "<table border=\"1\" class=\"dataframe\">\n",
              "  <thead>\n",
              "    <tr style=\"text-align: right;\">\n",
              "      <th></th>\n",
              "      <th>date</th>\n",
              "      <th>tone</th>\n",
              "    </tr>\n",
              "  </thead>\n",
              "  <tbody>\n",
              "    <tr>\n",
              "      <th>0</th>\n",
              "      <td>2005-05-12</td>\n",
              "      <td>-0.272727</td>\n",
              "    </tr>\n",
              "    <tr>\n",
              "      <th>161</th>\n",
              "      <td>2005-05-13</td>\n",
              "      <td>-0.272727</td>\n",
              "    </tr>\n",
              "    <tr>\n",
              "      <th>162</th>\n",
              "      <td>2005-05-14</td>\n",
              "      <td>-0.272727</td>\n",
              "    </tr>\n",
              "    <tr>\n",
              "      <th>163</th>\n",
              "      <td>2005-05-15</td>\n",
              "      <td>-0.272727</td>\n",
              "    </tr>\n",
              "    <tr>\n",
              "      <th>164</th>\n",
              "      <td>2005-05-16</td>\n",
              "      <td>-0.272727</td>\n",
              "    </tr>\n",
              "    <tr>\n",
              "      <th>...</th>\n",
              "      <td>...</td>\n",
              "      <td>...</td>\n",
              "    </tr>\n",
              "    <tr>\n",
              "      <th>5220</th>\n",
              "      <td>2019-08-26</td>\n",
              "      <td>-0.404255</td>\n",
              "    </tr>\n",
              "    <tr>\n",
              "      <th>5221</th>\n",
              "      <td>2019-08-27</td>\n",
              "      <td>-0.404255</td>\n",
              "    </tr>\n",
              "    <tr>\n",
              "      <th>5222</th>\n",
              "      <td>2019-08-28</td>\n",
              "      <td>-0.404255</td>\n",
              "    </tr>\n",
              "    <tr>\n",
              "      <th>5223</th>\n",
              "      <td>2019-08-29</td>\n",
              "      <td>-0.404255</td>\n",
              "    </tr>\n",
              "    <tr>\n",
              "      <th>160</th>\n",
              "      <td>2019-08-30</td>\n",
              "      <td>-0.545455</td>\n",
              "    </tr>\n",
              "  </tbody>\n",
              "</table>\n",
              "<p>5224 rows × 2 columns</p>\n",
              "</div>"
            ],
            "text/plain": [
              "            date      tone\n",
              "0     2005-05-12 -0.272727\n",
              "161   2005-05-13 -0.272727\n",
              "162   2005-05-14 -0.272727\n",
              "163   2005-05-15 -0.272727\n",
              "164   2005-05-16 -0.272727\n",
              "...          ...       ...\n",
              "5220  2019-08-26 -0.404255\n",
              "5221  2019-08-27 -0.404255\n",
              "5222  2019-08-28 -0.404255\n",
              "5223  2019-08-29 -0.404255\n",
              "160   2019-08-30 -0.545455\n",
              "\n",
              "[5224 rows x 2 columns]"
            ]
          },
          "metadata": {
            "tags": []
          },
          "execution_count": 102
        }
      ]
    },
    {
      "cell_type": "code",
      "metadata": {
        "id": "Guzta4IMvo9h",
        "colab_type": "code",
        "colab": {
          "base_uri": "https://localhost:8080/",
          "height": 419
        },
        "outputId": "f04e8be8-a43b-4d4e-fc9d-150362f020db"
      },
      "source": [
        "# tone과 rate를 합침 (의사록 날짜만으로 비교)\n",
        "tone_rate_alldate = pd.merge(tone_alldate,rate, on='date', how='inner')\n",
        "tone_rate_alldate"
      ],
      "execution_count": 103,
      "outputs": [
        {
          "output_type": "execute_result",
          "data": {
            "text/html": [
              "<div>\n",
              "<style scoped>\n",
              "    .dataframe tbody tr th:only-of-type {\n",
              "        vertical-align: middle;\n",
              "    }\n",
              "\n",
              "    .dataframe tbody tr th {\n",
              "        vertical-align: top;\n",
              "    }\n",
              "\n",
              "    .dataframe thead th {\n",
              "        text-align: right;\n",
              "    }\n",
              "</style>\n",
              "<table border=\"1\" class=\"dataframe\">\n",
              "  <thead>\n",
              "    <tr style=\"text-align: right;\">\n",
              "      <th></th>\n",
              "      <th>date</th>\n",
              "      <th>tone</th>\n",
              "      <th>rate</th>\n",
              "    </tr>\n",
              "  </thead>\n",
              "  <tbody>\n",
              "    <tr>\n",
              "      <th>0</th>\n",
              "      <td>2005-05-12</td>\n",
              "      <td>-0.272727</td>\n",
              "      <td>3.25</td>\n",
              "    </tr>\n",
              "    <tr>\n",
              "      <th>1</th>\n",
              "      <td>2005-05-13</td>\n",
              "      <td>-0.272727</td>\n",
              "      <td>3.25</td>\n",
              "    </tr>\n",
              "    <tr>\n",
              "      <th>2</th>\n",
              "      <td>2005-05-14</td>\n",
              "      <td>-0.272727</td>\n",
              "      <td>3.25</td>\n",
              "    </tr>\n",
              "    <tr>\n",
              "      <th>3</th>\n",
              "      <td>2005-05-15</td>\n",
              "      <td>-0.272727</td>\n",
              "      <td>3.25</td>\n",
              "    </tr>\n",
              "    <tr>\n",
              "      <th>4</th>\n",
              "      <td>2005-05-16</td>\n",
              "      <td>-0.272727</td>\n",
              "      <td>3.25</td>\n",
              "    </tr>\n",
              "    <tr>\n",
              "      <th>...</th>\n",
              "      <td>...</td>\n",
              "      <td>...</td>\n",
              "      <td>...</td>\n",
              "    </tr>\n",
              "    <tr>\n",
              "      <th>5219</th>\n",
              "      <td>2019-08-26</td>\n",
              "      <td>-0.404255</td>\n",
              "      <td>1.50</td>\n",
              "    </tr>\n",
              "    <tr>\n",
              "      <th>5220</th>\n",
              "      <td>2019-08-27</td>\n",
              "      <td>-0.404255</td>\n",
              "      <td>1.50</td>\n",
              "    </tr>\n",
              "    <tr>\n",
              "      <th>5221</th>\n",
              "      <td>2019-08-28</td>\n",
              "      <td>-0.404255</td>\n",
              "      <td>1.50</td>\n",
              "    </tr>\n",
              "    <tr>\n",
              "      <th>5222</th>\n",
              "      <td>2019-08-29</td>\n",
              "      <td>-0.404255</td>\n",
              "      <td>1.50</td>\n",
              "    </tr>\n",
              "    <tr>\n",
              "      <th>5223</th>\n",
              "      <td>2019-08-30</td>\n",
              "      <td>-0.545455</td>\n",
              "      <td>1.50</td>\n",
              "    </tr>\n",
              "  </tbody>\n",
              "</table>\n",
              "<p>5224 rows × 3 columns</p>\n",
              "</div>"
            ],
            "text/plain": [
              "            date      tone  rate\n",
              "0     2005-05-12 -0.272727  3.25\n",
              "1     2005-05-13 -0.272727  3.25\n",
              "2     2005-05-14 -0.272727  3.25\n",
              "3     2005-05-15 -0.272727  3.25\n",
              "4     2005-05-16 -0.272727  3.25\n",
              "...          ...       ...   ...\n",
              "5219  2019-08-26 -0.404255  1.50\n",
              "5220  2019-08-27 -0.404255  1.50\n",
              "5221  2019-08-28 -0.404255  1.50\n",
              "5222  2019-08-29 -0.404255  1.50\n",
              "5223  2019-08-30 -0.545455  1.50\n",
              "\n",
              "[5224 rows x 3 columns]"
            ]
          },
          "metadata": {
            "tags": []
          },
          "execution_count": 103
        }
      ]
    },
    {
      "cell_type": "code",
      "metadata": {
        "id": "_OjKY41C_J2B",
        "colab_type": "code",
        "colab": {}
      },
      "source": [
        "tone_rate_alldate['date'] = pd.to_datetime(tone_rate_alldate['date'], format = \"%Y-%m-%d\")"
      ],
      "execution_count": 104,
      "outputs": []
    },
    {
      "cell_type": "code",
      "metadata": {
        "id": "c47DgK65yFmi",
        "colab_type": "code",
        "colab": {
          "base_uri": "https://localhost:8080/",
          "height": 35
        },
        "outputId": "1fc4846d-2751-46aa-e290-131a24f86d30"
      },
      "source": [
        "# tone지수와 rate의 상관관계\n",
        "corr = stats.pearsonr(tone_rate_alldate.tone, tone_rate_alldate.rate)\n",
        "corr"
      ],
      "execution_count": 105,
      "outputs": [
        {
          "output_type": "execute_result",
          "data": {
            "text/plain": [
              "(0.4860511400989789, 5.598383126065772e-308)"
            ]
          },
          "metadata": {
            "tags": []
          },
          "execution_count": 105
        }
      ]
    },
    {
      "cell_type": "code",
      "metadata": {
        "id": "FRgdDwnr1spt",
        "colab_type": "code",
        "colab": {
          "base_uri": "https://localhost:8080/",
          "height": 393
        },
        "outputId": "814cca85-c244-4e64-eccc-7a25bf33e660"
      },
      "source": [
        "x = tone_rate_alldate['date']\n",
        "y1 = tone_rate_alldate['rate']\n",
        "y2 = tone_rate_alldate['tone']\n",
        "\n",
        "fig, ax1 = plt.subplots()\n",
        "\n",
        "ax2 = ax1.twinx()\n",
        "line1 = ax1.plot(x, y1, 'r-', label = '기준금리')\n",
        "line2 = ax2.plot(x, y2, 'b-', label = '의사록Tone')\n",
        "\n",
        "ax1.set_xlabel('Date')\n",
        "ax1.set_ylabel('기준금리', color='r')\n",
        "ax2.set_ylabel('Tone', color='b')\n",
        "\n",
        "lns = line1+line2   # line 범례 작성\n",
        "labs = [l.get_label() for l in lns]\n",
        "ax1.legend(lns,labs,loc=0)\n",
        "\n",
        "# x축 편집\n",
        "plt.setp(ax1.get_xticklabels(), rotation=45)    # x축 45도 회전\n",
        "loc = mdates.MonthLocator([1])  # x축 레이블 매년 1월만 표시\n",
        "myFmt = mdates.DateFormatter('%Y-%m')   # x축 레이블 포맷 설정\n",
        "ax1.xaxis.set_major_formatter(myFmt)\n",
        "ax1.xaxis.set_major_locator(loc)\n",
        "\n",
        "plt.grid(True, axis='y', color='gray', alpha=0.5, linestyle='--')   # x축 grid 표시\n",
        "plt.title('기준금리와 의사록Tone의 시계열')\n",
        "\n",
        "plt.show()"
      ],
      "execution_count": 106,
      "outputs": [
        {
          "output_type": "stream",
          "text": [
            "/usr/local/lib/python3.6/dist-packages/matplotlib/backends/backend_agg.py:214: RuntimeWarning: Glyph 8722 missing from current font.\n",
            "  font.set_text(s, 0.0, flags=flags)\n",
            "/usr/local/lib/python3.6/dist-packages/matplotlib/backends/backend_agg.py:183: RuntimeWarning: Glyph 8722 missing from current font.\n",
            "  font.set_text(s, 0, flags=flags)\n"
          ],
          "name": "stderr"
        },
        {
          "output_type": "display_data",
          "data": {
            "image/png": "[encoded data removed]",
            "text/plain": [
              "<Figure size 432x288 with 2 Axes>"
            ]
          },
          "metadata": {
            "tags": [],
            "needs_background": "light"
          }
        }
      ]
    },
    {
      "cell_type": "markdown",
      "metadata": {
        "id": "XRkStKBDFAWw",
        "colab_type": "text"
      },
      "source": [
        "한글이 깨질때"
      ]
    },
    {
      "cell_type": "code",
      "metadata": {
        "id": "kCghLEpaEMZp",
        "colab_type": "code",
        "colab": {
          "base_uri": "https://localhost:8080/",
          "height": 377
        },
        "outputId": "b89b88d7-69f7-4c2b-dbc4-a3ab5c720ea7"
      },
      "source": [
        "# !sudo apt-get install -y fonts-nanum\n",
        "# !sudo fc-cache -fv\n",
        "# !rm ~/.cache/matplotlib -rf"
      ],
      "execution_count": 107,
      "outputs": [
        {
          "output_type": "stream",
          "text": [
            "Reading package lists... Done\n",
            "Building dependency tree       \n",
            "Reading state information... Done\n",
            "fonts-nanum is already the newest version (20170925-1).\n",
            "The following package was automatically installed and is no longer required:\n",
            "  libnvidia-common-440\n",
            "Use 'sudo apt autoremove' to remove it.\n",
            "0 upgraded, 0 newly installed, 0 to remove and 35 not upgraded.\n",
            "/usr/share/fonts: caching, new cache contents: 0 fonts, 1 dirs\n",
            "/usr/share/fonts/truetype: caching, new cache contents: 0 fonts, 3 dirs\n",
            "/usr/share/fonts/truetype/humor-sans: caching, new cache contents: 1 fonts, 0 dirs\n",
            "/usr/share/fonts/truetype/liberation: caching, new cache contents: 16 fonts, 0 dirs\n",
            "/usr/share/fonts/truetype/nanum: caching, new cache contents: 10 fonts, 0 dirs\n",
            "/usr/local/share/fonts: caching, new cache contents: 0 fonts, 0 dirs\n",
            "/root/.local/share/fonts: skipping, no such directory\n",
            "/root/.fonts: skipping, no such directory\n",
            "/var/cache/fontconfig: cleaning cache directory\n",
            "/root/.cache/fontconfig: not cleaning non-existent cache directory\n",
            "/root/.fontconfig: not cleaning non-existent cache directory\n",
            "fc-cache: succeeded\n"
          ],
          "name": "stdout"
        }
      ]
    },
    {
      "cell_type": "code",
      "metadata": {
        "id": "ZNymFfCkEsYG",
        "colab_type": "code",
        "colab": {}
      },
      "source": [
        "# import matplotlib.pyplot as plt\n",
        "# plt.rc('font', family='NanumBarunGothic') "
      ],
      "execution_count": 108,
      "outputs": []
    }
  ]
}