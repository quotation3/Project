{
  "nbformat": 4,
  "nbformat_minor": 0,
  "metadata": {
    "kernelspec": {
      "display_name": "Python 3",
      "language": "python",
      "name": "python3"
    },
    "language_info": {
      "codemirror_mode": {
        "name": "ipython",
        "version": 3
      },
      "file_extension": ".py",
      "mimetype": "text/x-python",
      "name": "python",
      "nbconvert_exporter": "python",
      "pygments_lexer": "ipython3",
      "version": "3.7.6"
    },
    "colab": {
      "name": "news_preprocessing.ipynb",
      "provenance": [],
      "include_colab_link": true
    }
  },
  "cells": [
    {
      "cell_type": "markdown",
      "metadata": {
        "id": "view-in-github",
        "colab_type": "text"
      },
      "source": [
        "<a href=\"https://colab.research.google.com/github/GarnetKangSB/MultiCampus_2020NLP_BOK_3/blob/master/news_preprocessing.ipynb\" target=\"_parent\"><img src=\"https://colab.research.google.com/assets/colab-badge.svg\" alt=\"Open In Colab\"/></a>"
      ]
    },
    {
      "cell_type": "code",
      "metadata": {
        "id": "KU9FWxMZFs7R"
      },
      "source": [
        "import pandas as pd\n",
        "news=pd.read_csv(\"news.csv\")"
      ],
      "execution_count": null,
      "outputs": []
    },
    {
      "cell_type": "code",
      "metadata": {
        "id": "S7WunTnnFs7X",
        "outputId": "2ef4c5c7-bd8e-463d-c274-3cc3cca2dd03"
      },
      "source": [
        "news[\"content\"][0]"
      ],
      "execution_count": null,
      "outputs": [
        {
          "output_type": "execute_result",
          "data": {
            "text/plain": [
              "'2005년 10년만기 미국 국채수익률이  연방준비제도이사회(FRB)의 금리인상 지속에 따른 인플레이션 압력 완화로 연 5%를 넘어서기 어려울 것으로 전망됐다.    31일 씨티그룹 애널리스트들은 2005년에 미국의 인플레가 잘 제어될 것이라면서반면 내년 2년만기 국채수익률은 FRB의 지속적인 금리인상으로 연 4.00-4.50%  수준까지 상승하게 될 것이라고 예측했다.    씨티그룹은 단기 국채수익률이 상승세를 나타낼 것으로 보이는 반면 장기  국채수익률의 상승폭은 제한될 것으로 보여 수익률 곡선 평탄화가 가속화될 것이라고 덧붙였다.    씨티그룹은 내년 고용창출 호조가 가구당 수입증가를 견인할 것이라면서 고용시장 호전이 소비자지출을 떠받치게 될 것이라고 말했다'"
            ]
          },
          "metadata": {
            "tags": []
          },
          "execution_count": 6
        }
      ]
    },
    {
      "cell_type": "code",
      "metadata": {
        "id": "kKN4I_HwFs7d",
        "outputId": "814cb853-0fc4-4d5b-c340-db95e023ead2"
      },
      "source": [
        "news[\"date\"]"
      ],
      "execution_count": null,
      "outputs": [
        {
          "output_type": "execute_result",
          "data": {
            "text/plain": [
              "0         2005-01-01\n",
              "1         2005-01-01\n",
              "2         2005-01-01\n",
              "3         2005-01-01\n",
              "4         2005-01-02\n",
              "             ...    \n",
              "261812    2019-12-31\n",
              "261813    2019-12-31\n",
              "261814    2019-12-31\n",
              "261815    2019-12-31\n",
              "261816    2019-12-31\n",
              "Name: date, Length: 261817, dtype: object"
            ]
          },
          "metadata": {
            "tags": []
          },
          "execution_count": 10
        }
      ]
    },
    {
      "cell_type": "code",
      "metadata": {
        "id": "9KQAAO3gFs7g"
      },
      "source": [
        "import pandas as pd\n",
        "from ekonlpy.sentiment import MPCK\n",
        "\n",
        "def text2ngram(text) :\n",
        "    mpck = MPCK()\n",
        "    tokens = mpck.tokenize(text)\n",
        "    ngrams = mpck.ngramize(tokens)\n",
        "                \n",
        "    return tokens+ ngrams"
      ],
      "execution_count": null,
      "outputs": []
    },
    {
      "cell_type": "code",
      "metadata": {
        "id": "_4ilW2bZFs7k"
      },
      "source": [
        "news[\"date\"]=pd.to_datetime(news[\"date\"])\n",
        "news=news.loc[news[\"date\"].dt.year<=2017]\n"
      ],
      "execution_count": null,
      "outputs": []
    },
    {
      "cell_type": "code",
      "metadata": {
        "id": "geUhRUDAFs7o",
        "outputId": "6b1f890f-f6a8-4617-a777-054c427095be"
      },
      "source": [
        "news"
      ],
      "execution_count": null,
      "outputs": [
        {
          "output_type": "execute_result",
          "data": {
            "text/html": [
              "<div>\n",
              "<style scoped>\n",
              "    .dataframe tbody tr th:only-of-type {\n",
              "        vertical-align: middle;\n",
              "    }\n",
              "\n",
              "    .dataframe tbody tr th {\n",
              "        vertical-align: top;\n",
              "    }\n",
              "\n",
              "    .dataframe thead th {\n",
              "        text-align: right;\n",
              "    }\n",
              "</style>\n",
              "<table border=\"1\" class=\"dataframe\">\n",
              "  <thead>\n",
              "    <tr style=\"text-align: right;\">\n",
              "      <th></th>\n",
              "      <th>date</th>\n",
              "      <th>media</th>\n",
              "      <th>title</th>\n",
              "      <th>content</th>\n",
              "    </tr>\n",
              "  </thead>\n",
              "  <tbody>\n",
              "    <tr>\n",
              "      <th>0</th>\n",
              "      <td>2005-01-01</td>\n",
              "      <td>연합인포맥스</td>\n",
              "      <td>내년 美국채수익률 5% 넘어서기 어려울 듯</td>\n",
              "      <td>2005년 10년만기 미국 국채수익률이  연방준비제도이사회(FRB)의 금리인상 지속...</td>\n",
              "    </tr>\n",
              "    <tr>\n",
              "      <th>1</th>\n",
              "      <td>2005-01-01</td>\n",
              "      <td>연합인포맥스</td>\n",
              "      <td>[뉴욕채권-마감] 10년만기 국채수익률 작년보다 낮은 수준서 마쳐</td>\n",
              "      <td>2년만기 국채가격 4년래 최악의 한해 보내     10년만기 미국  국채수익률이  ...</td>\n",
              "    </tr>\n",
              "    <tr>\n",
              "      <th>2</th>\n",
              "      <td>2005-01-01</td>\n",
              "      <td>연합인포맥스</td>\n",
              "      <td>[뉴욕환시] `내년초 달러-엔에 주력'..달러 對엔 하락</td>\n",
              "      <td>2004년 마지막 거래일인 31일  뉴욕환시에서 미국 달러화는 개장초 102엔 근처...</td>\n",
              "    </tr>\n",
              "    <tr>\n",
              "      <th>3</th>\n",
              "      <td>2005-01-01</td>\n",
              "      <td>연합인포맥스</td>\n",
              "      <td>[31일 뉴욕금융시장 요약] 한산한 거래속 새해 준비</td>\n",
              "      <td>) 한해 마지막 날인 31일 뉴욕 주요 금융시장은 한산한 거래속에 새해를 준비하는 ...</td>\n",
              "    </tr>\n",
              "    <tr>\n",
              "      <th>4</th>\n",
              "      <td>2005-01-02</td>\n",
              "      <td>연합인포맥스</td>\n",
              "      <td>美 증시 기술주 주도로 2년 연속 상승..'01년래 최고</td>\n",
              "      <td>지난해 뉴욕증시는 기술주 주도로 2년  연속연초 대비 상승하면서 대표지수들을 지난 ...</td>\n",
              "    </tr>\n",
              "    <tr>\n",
              "      <th>...</th>\n",
              "      <td>...</td>\n",
              "      <td>...</td>\n",
              "      <td>...</td>\n",
              "      <td>...</td>\n",
              "    </tr>\n",
              "    <tr>\n",
              "      <th>258450</th>\n",
              "      <td>2017-12-31</td>\n",
              "      <td>연합뉴스</td>\n",
              "      <td>원화 '트럼프 1년'에 12.8% 절상…13년 만에 최대폭</td>\n",
              "      <td>절상률 42개국 중 5위…실질가치도 3.4% 올라 26개국 중 2위 (서울=연합뉴스...</td>\n",
              "    </tr>\n",
              "    <tr>\n",
              "      <th>258451</th>\n",
              "      <td>2017-12-31</td>\n",
              "      <td>연합뉴스</td>\n",
              "      <td>1년새 주택대출금리 껑충, 5% 육박…농협은행 0.55%p↑</td>\n",
              "      <td>[연합뉴스 자료사진]1월 2일자 시중은행 최고금리 4.58∼4.85%(서울=연합뉴스...</td>\n",
              "    </tr>\n",
              "    <tr>\n",
              "      <th>258452</th>\n",
              "      <td>2017-12-31</td>\n",
              "      <td>연합뉴스</td>\n",
              "      <td>&lt;뉴욕증시 주간전망&gt; 새해 첫 거래…다시 경제지표 주목</td>\n",
              "      <td>(뉴욕=연합뉴스) 신은실 연합인포맥스 특파원 = 2018년 첫 거래주간인 이번 주(...</td>\n",
              "    </tr>\n",
              "    <tr>\n",
              "      <th>258453</th>\n",
              "      <td>2017-12-31</td>\n",
              "      <td>연합뉴스</td>\n",
              "      <td>1년 정기예금금리 연 2% 육박…32개월 만에 최고</td>\n",
              "      <td>11월 판매 정기예금 10개 중 4개가 금리 2%대올해 10월까지 정기예금 증가규모...</td>\n",
              "    </tr>\n",
              "    <tr>\n",
              "      <th>258454</th>\n",
              "      <td>2017-12-31</td>\n",
              "      <td>연합뉴스</td>\n",
              "      <td>한은 \"글로벌 빅4 성장 양호…미 금리 3회 인상\"</td>\n",
              "      <td>\"미·일 잠재성장률 웃돌고 유로 2%·중국 6.5% 내외\"\"미 물가 향방이 통화정책...</td>\n",
              "    </tr>\n",
              "  </tbody>\n",
              "</table>\n",
              "<p>253027 rows × 4 columns</p>\n",
              "</div>"
            ],
            "text/plain": [
              "             date   media                                 title  \\\n",
              "0      2005-01-01  연합인포맥스               내년 美국채수익률 5% 넘어서기 어려울 듯   \n",
              "1      2005-01-01  연합인포맥스  [뉴욕채권-마감] 10년만기 국채수익률 작년보다 낮은 수준서 마쳐   \n",
              "2      2005-01-01  연합인포맥스       [뉴욕환시] `내년초 달러-엔에 주력'..달러 對엔 하락   \n",
              "3      2005-01-01  연합인포맥스         [31일 뉴욕금융시장 요약] 한산한 거래속 새해 준비   \n",
              "4      2005-01-02  연합인포맥스       美 증시 기술주 주도로 2년 연속 상승..'01년래 최고   \n",
              "...           ...     ...                                   ...   \n",
              "258450 2017-12-31    연합뉴스      원화 '트럼프 1년'에 12.8% 절상…13년 만에 최대폭   \n",
              "258451 2017-12-31    연합뉴스     1년새 주택대출금리 껑충, 5% 육박…농협은행 0.55%p↑   \n",
              "258452 2017-12-31    연합뉴스        <뉴욕증시 주간전망> 새해 첫 거래…다시 경제지표 주목   \n",
              "258453 2017-12-31    연합뉴스          1년 정기예금금리 연 2% 육박…32개월 만에 최고   \n",
              "258454 2017-12-31    연합뉴스          한은 \"글로벌 빅4 성장 양호…미 금리 3회 인상\"   \n",
              "\n",
              "                                                  content  \n",
              "0       2005년 10년만기 미국 국채수익률이  연방준비제도이사회(FRB)의 금리인상 지속...  \n",
              "1       2년만기 국채가격 4년래 최악의 한해 보내     10년만기 미국  국채수익률이  ...  \n",
              "2       2004년 마지막 거래일인 31일  뉴욕환시에서 미국 달러화는 개장초 102엔 근처...  \n",
              "3       ) 한해 마지막 날인 31일 뉴욕 주요 금융시장은 한산한 거래속에 새해를 준비하는 ...  \n",
              "4       지난해 뉴욕증시는 기술주 주도로 2년  연속연초 대비 상승하면서 대표지수들을 지난 ...  \n",
              "...                                                   ...  \n",
              "258450  절상률 42개국 중 5위…실질가치도 3.4% 올라 26개국 중 2위 (서울=연합뉴스...  \n",
              "258451  [연합뉴스 자료사진]1월 2일자 시중은행 최고금리 4.58∼4.85%(서울=연합뉴스...  \n",
              "258452  (뉴욕=연합뉴스) 신은실 연합인포맥스 특파원 = 2018년 첫 거래주간인 이번 주(...  \n",
              "258453  11월 판매 정기예금 10개 중 4개가 금리 2%대올해 10월까지 정기예금 증가규모...  \n",
              "258454  \"미·일 잠재성장률 웃돌고 유로 2%·중국 6.5% 내외\"\"미 물가 향방이 통화정책...  \n",
              "\n",
              "[253027 rows x 4 columns]"
            ]
          },
          "metadata": {
            "tags": []
          },
          "execution_count": 40
        }
      ]
    },
    {
      "cell_type": "code",
      "metadata": {
        "id": "wU4gNh9WFs7r",
        "outputId": "c76e7b15-8b52-4ce4-baf2-49f1e737cb90"
      },
      "source": [
        "news[\"media\"].unique()"
      ],
      "execution_count": null,
      "outputs": [
        {
          "output_type": "execute_result",
          "data": {
            "text/plain": [
              "array(['연합인포맥스', '이데일리', '연합뉴스'], dtype=object)"
            ]
          },
          "metadata": {
            "tags": []
          },
          "execution_count": 47
        }
      ]
    },
    {
      "cell_type": "code",
      "metadata": {
        "id": "xCOQ7h4AFs7w",
        "outputId": "d35db50f-ba9f-4cbe-e571-4426da56616e"
      },
      "source": [
        "news[\"ngram\"]=news[\"content\"].apply(text2ngram)"
      ],
      "execution_count": null,
      "outputs": [
        {
          "output_type": "stream",
          "text": [
            "C:\\ProgramData\\Anaconda3\\lib\\site-packages\\ipykernel_launcher.py:1: SettingWithCopyWarning: \n",
            "A value is trying to be set on a copy of a slice from a DataFrame.\n",
            "Try using .loc[row_indexer,col_indexer] = value instead\n",
            "\n",
            "See the caveats in the documentation: https://pandas.pydata.org/pandas-docs/stable/user_guide/indexing.html#returning-a-view-versus-a-copy\n",
            "  \"\"\"Entry point for launching an IPython kernel.\n"
          ],
          "name": "stderr"
        }
      ]
    },
    {
      "cell_type": "code",
      "metadata": {
        "id": "S11V9LaWFs71"
      },
      "source": [
        "news.to_csv(\"./minutes/news_preprocessed.csv\")"
      ],
      "execution_count": null,
      "outputs": []
    },
    {
      "cell_type": "code",
      "metadata": {
        "scrolled": true,
        "id": "hOyMkALyFs74",
        "outputId": "795947bb-6f77-42d8-b5ac-3288a1c706f5"
      },
      "source": [
        "pd.read_csv(\"./minutes/news_preprocessed.csv\")"
      ],
      "execution_count": null,
      "outputs": [
        {
          "output_type": "execute_result",
          "data": {
            "text/html": [
              "<div>\n",
              "<style scoped>\n",
              "    .dataframe tbody tr th:only-of-type {\n",
              "        vertical-align: middle;\n",
              "    }\n",
              "\n",
              "    .dataframe tbody tr th {\n",
              "        vertical-align: top;\n",
              "    }\n",
              "\n",
              "    .dataframe thead th {\n",
              "        text-align: right;\n",
              "    }\n",
              "</style>\n",
              "<table border=\"1\" class=\"dataframe\">\n",
              "  <thead>\n",
              "    <tr style=\"text-align: right;\">\n",
              "      <th></th>\n",
              "      <th>Unnamed: 0</th>\n",
              "      <th>date</th>\n",
              "      <th>media</th>\n",
              "      <th>title</th>\n",
              "      <th>content</th>\n",
              "      <th>ngram</th>\n",
              "    </tr>\n",
              "  </thead>\n",
              "  <tbody>\n",
              "    <tr>\n",
              "      <th>0</th>\n",
              "      <td>0</td>\n",
              "      <td>2005-01-01</td>\n",
              "      <td>연합인포맥스</td>\n",
              "      <td>내년 美국채수익률 5% 넘어서기 어려울 듯</td>\n",
              "      <td>2005년 10년만기 미국 국채수익률이  연방준비제도이사회(FRB)의 금리인상 지속...</td>\n",
              "      <td>['만기/NNG', '국채/NNG', '수익률/NNG', 'fed/NNG', 'fe...</td>\n",
              "    </tr>\n",
              "    <tr>\n",
              "      <th>1</th>\n",
              "      <td>1</td>\n",
              "      <td>2005-01-01</td>\n",
              "      <td>연합인포맥스</td>\n",
              "      <td>[뉴욕채권-마감] 10년만기 국채수익률 작년보다 낮은 수준서 마쳐</td>\n",
              "      <td>2년만기 국채가격 4년래 최악의 한해 보내     10년만기 미국  국채수익률이  ...</td>\n",
              "      <td>['만기/NNG', '국채/NNG', '가격/NNG', '최악/NNG', '보내/V...</td>\n",
              "    </tr>\n",
              "    <tr>\n",
              "      <th>2</th>\n",
              "      <td>2</td>\n",
              "      <td>2005-01-01</td>\n",
              "      <td>연합인포맥스</td>\n",
              "      <td>[뉴욕환시] `내년초 달러-엔에 주력'..달러 對엔 하락</td>\n",
              "      <td>2004년 마지막 거래일인 31일  뉴욕환시에서 미국 달러화는 개장초 102엔 근처...</td>\n",
              "      <td>['마지막/NNG', '거래일/NNG', '뉴욕/NNG', '환시/NNG', '달러...</td>\n",
              "    </tr>\n",
              "    <tr>\n",
              "      <th>3</th>\n",
              "      <td>3</td>\n",
              "      <td>2005-01-01</td>\n",
              "      <td>연합인포맥스</td>\n",
              "      <td>[31일 뉴욕금융시장 요약] 한산한 거래속 새해 준비</td>\n",
              "      <td>) 한해 마지막 날인 31일 뉴욕 주요 금융시장은 한산한 거래속에 새해를 준비하는 ...</td>\n",
              "      <td>['마지막/NNG', '날/NNG', '뉴욕/NNG', '금융시장/NNG', '한산...</td>\n",
              "    </tr>\n",
              "    <tr>\n",
              "      <th>4</th>\n",
              "      <td>4</td>\n",
              "      <td>2005-01-02</td>\n",
              "      <td>연합인포맥스</td>\n",
              "      <td>美 증시 기술주 주도로 2년 연속 상승..'01년래 최고</td>\n",
              "      <td>지난해 뉴욕증시는 기술주 주도로 2년  연속연초 대비 상승하면서 대표지수들을 지난 ...</td>\n",
              "      <td>['주도/NNG', '연속/NNG', '대비/NNG', '상승/NNG', '하/XS...</td>\n",
              "    </tr>\n",
              "    <tr>\n",
              "      <th>...</th>\n",
              "      <td>...</td>\n",
              "      <td>...</td>\n",
              "      <td>...</td>\n",
              "      <td>...</td>\n",
              "      <td>...</td>\n",
              "      <td>...</td>\n",
              "    </tr>\n",
              "    <tr>\n",
              "      <th>253022</th>\n",
              "      <td>258450</td>\n",
              "      <td>2017-12-31</td>\n",
              "      <td>연합뉴스</td>\n",
              "      <td>원화 '트럼프 1년'에 12.8% 절상…13년 만에 최대폭</td>\n",
              "      <td>절상률 42개국 중 5위…실질가치도 3.4% 올라 26개국 중 2위 (서울=연합뉴스...</td>\n",
              "      <td>['절상/NNG', '중/NNG', '실질가치/NNG', '오르/VV', '중/NN...</td>\n",
              "    </tr>\n",
              "    <tr>\n",
              "      <th>253023</th>\n",
              "      <td>258451</td>\n",
              "      <td>2017-12-31</td>\n",
              "      <td>연합뉴스</td>\n",
              "      <td>1년새 주택대출금리 껑충, 5% 육박…농협은행 0.55%p↑</td>\n",
              "      <td>[연합뉴스 자료사진]1월 2일자 시중은행 최고금리 4.58∼4.85%(서울=연합뉴스...</td>\n",
              "      <td>['자료/NNG', '일자/NNG', '최고/NNG', '금리/NNG', '박의/N...</td>\n",
              "    </tr>\n",
              "    <tr>\n",
              "      <th>253024</th>\n",
              "      <td>258452</td>\n",
              "      <td>2017-12-31</td>\n",
              "      <td>연합뉴스</td>\n",
              "      <td>&lt;뉴욕증시 주간전망&gt; 새해 첫 거래…다시 경제지표 주목</td>\n",
              "      <td>(뉴욕=연합뉴스) 신은실 연합인포맥스 특파원 = 2018년 첫 거래주간인 이번 주(...</td>\n",
              "      <td>['뉴욕/NNG', '은실/NNG', '특파원/NNG', '거래/NNG', '주/N...</td>\n",
              "    </tr>\n",
              "    <tr>\n",
              "      <th>253025</th>\n",
              "      <td>258453</td>\n",
              "      <td>2017-12-31</td>\n",
              "      <td>연합뉴스</td>\n",
              "      <td>1년 정기예금금리 연 2% 육박…32개월 만에 최고</td>\n",
              "      <td>11월 판매 정기예금 10개 중 4개가 금리 2%대올해 10월까지 정기예금 증가규모...</td>\n",
              "      <td>['판매/NNG', '정기/NNG', '예금/NNG', '중/NNG', '금리/NN...</td>\n",
              "    </tr>\n",
              "    <tr>\n",
              "      <th>253026</th>\n",
              "      <td>258454</td>\n",
              "      <td>2017-12-31</td>\n",
              "      <td>연합뉴스</td>\n",
              "      <td>한은 \"글로벌 빅4 성장 양호…미 금리 3회 인상\"</td>\n",
              "      <td>\"미·일 잠재성장률 웃돌고 유로 2%·중국 6.5% 내외\"\"미 물가 향방이 통화정책...</td>\n",
              "      <td>['미/NNG', '잠재성/NNG', '장률/NNG', '웃돌/VV', '유로/NN...</td>\n",
              "    </tr>\n",
              "  </tbody>\n",
              "</table>\n",
              "<p>253027 rows × 6 columns</p>\n",
              "</div>"
            ],
            "text/plain": [
              "        Unnamed: 0        date   media                                 title  \\\n",
              "0                0  2005-01-01  연합인포맥스               내년 美국채수익률 5% 넘어서기 어려울 듯   \n",
              "1                1  2005-01-01  연합인포맥스  [뉴욕채권-마감] 10년만기 국채수익률 작년보다 낮은 수준서 마쳐   \n",
              "2                2  2005-01-01  연합인포맥스       [뉴욕환시] `내년초 달러-엔에 주력'..달러 對엔 하락   \n",
              "3                3  2005-01-01  연합인포맥스         [31일 뉴욕금융시장 요약] 한산한 거래속 새해 준비   \n",
              "4                4  2005-01-02  연합인포맥스       美 증시 기술주 주도로 2년 연속 상승..'01년래 최고   \n",
              "...            ...         ...     ...                                   ...   \n",
              "253022      258450  2017-12-31    연합뉴스      원화 '트럼프 1년'에 12.8% 절상…13년 만에 최대폭   \n",
              "253023      258451  2017-12-31    연합뉴스     1년새 주택대출금리 껑충, 5% 육박…농협은행 0.55%p↑   \n",
              "253024      258452  2017-12-31    연합뉴스        <뉴욕증시 주간전망> 새해 첫 거래…다시 경제지표 주목   \n",
              "253025      258453  2017-12-31    연합뉴스          1년 정기예금금리 연 2% 육박…32개월 만에 최고   \n",
              "253026      258454  2017-12-31    연합뉴스          한은 \"글로벌 빅4 성장 양호…미 금리 3회 인상\"   \n",
              "\n",
              "                                                  content  \\\n",
              "0       2005년 10년만기 미국 국채수익률이  연방준비제도이사회(FRB)의 금리인상 지속...   \n",
              "1       2년만기 국채가격 4년래 최악의 한해 보내     10년만기 미국  국채수익률이  ...   \n",
              "2       2004년 마지막 거래일인 31일  뉴욕환시에서 미국 달러화는 개장초 102엔 근처...   \n",
              "3       ) 한해 마지막 날인 31일 뉴욕 주요 금융시장은 한산한 거래속에 새해를 준비하는 ...   \n",
              "4       지난해 뉴욕증시는 기술주 주도로 2년  연속연초 대비 상승하면서 대표지수들을 지난 ...   \n",
              "...                                                   ...   \n",
              "253022  절상률 42개국 중 5위…실질가치도 3.4% 올라 26개국 중 2위 (서울=연합뉴스...   \n",
              "253023  [연합뉴스 자료사진]1월 2일자 시중은행 최고금리 4.58∼4.85%(서울=연합뉴스...   \n",
              "253024  (뉴욕=연합뉴스) 신은실 연합인포맥스 특파원 = 2018년 첫 거래주간인 이번 주(...   \n",
              "253025  11월 판매 정기예금 10개 중 4개가 금리 2%대올해 10월까지 정기예금 증가규모...   \n",
              "253026  \"미·일 잠재성장률 웃돌고 유로 2%·중국 6.5% 내외\"\"미 물가 향방이 통화정책...   \n",
              "\n",
              "                                                    ngram  \n",
              "0       ['만기/NNG', '국채/NNG', '수익률/NNG', 'fed/NNG', 'fe...  \n",
              "1       ['만기/NNG', '국채/NNG', '가격/NNG', '최악/NNG', '보내/V...  \n",
              "2       ['마지막/NNG', '거래일/NNG', '뉴욕/NNG', '환시/NNG', '달러...  \n",
              "3       ['마지막/NNG', '날/NNG', '뉴욕/NNG', '금융시장/NNG', '한산...  \n",
              "4       ['주도/NNG', '연속/NNG', '대비/NNG', '상승/NNG', '하/XS...  \n",
              "...                                                   ...  \n",
              "253022  ['절상/NNG', '중/NNG', '실질가치/NNG', '오르/VV', '중/NN...  \n",
              "253023  ['자료/NNG', '일자/NNG', '최고/NNG', '금리/NNG', '박의/N...  \n",
              "253024  ['뉴욕/NNG', '은실/NNG', '특파원/NNG', '거래/NNG', '주/N...  \n",
              "253025  ['판매/NNG', '정기/NNG', '예금/NNG', '중/NNG', '금리/NN...  \n",
              "253026  ['미/NNG', '잠재성/NNG', '장률/NNG', '웃돌/VV', '유로/NN...  \n",
              "\n",
              "[253027 rows x 6 columns]"
            ]
          },
          "metadata": {
            "tags": []
          },
          "execution_count": 2
        }
      ]
    },
    {
      "cell_type": "code",
      "metadata": {
        "id": "JhgrjuziFs78"
      },
      "source": [
        ""
      ],
      "execution_count": null,
      "outputs": []
    }
  ]
}