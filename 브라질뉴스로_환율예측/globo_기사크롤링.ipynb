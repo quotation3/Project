{
 "cells": [
  {
   "cell_type": "code",
   "execution_count": 1,
   "metadata": {},
   "outputs": [],
   "source": [
    "import re\n",
    "from tqdm import tqdm\n",
    "import requests\n",
    "import json\n",
    "from bs4 import BeautifulSoup\n",
    "import pandas as pd"
   ]
  },
  {
   "cell_type": "markdown",
   "metadata": {},
   "source": [
    "### 날짜 추출"
   ]
  },
  {
   "cell_type": "code",
   "execution_count": 20,
   "metadata": {},
   "outputs": [
    {
     "data": {
      "text/plain": [
       "'20/01/2011 07h50'"
      ]
     },
     "execution_count": 20,
     "metadata": {},
     "output_type": "execute_result"
    }
   ],
   "source": [
    "url = 'http://g1.globo.com/economia/noticia/2011/01/economia-da-china-cresce-103-em-2010.html'\n",
    "\n",
    "res = requests.get(url)\n",
    "bs = BeautifulSoup(res.text, \"html.parser\")\n",
    "date = bs.select('abbr.published')[0].text\n",
    "date"
   ]
  },
  {
   "cell_type": "markdown",
   "metadata": {},
   "source": [
    "### 제목, 부제 추출"
   ]
  },
  {
   "cell_type": "code",
   "execution_count": 37,
   "metadata": {},
   "outputs": [
    {
     "data": {
      "text/plain": [
       "('Economia da China cresce 10,3% em 2010',\n",
       " 'Aceleração foi maior do que era previsto e representa uma alta sobre 2009. No ano, índice de preços ao consumidor acumulou avanço de 3,3%. ')"
      ]
     },
     "execution_count": 37,
     "metadata": {},
     "output_type": "execute_result"
    }
   ],
   "source": [
    "title = bs.select('div.materia-titulo')\n",
    "\n",
    "for i in title:\n",
    "    main = i.h1.text\n",
    "    sub = i.h2.text\n",
    "main, sub"
   ]
  },
  {
   "cell_type": "markdown",
   "metadata": {},
   "source": [
    "### 기사본문 추출"
   ]
  },
  {
   "cell_type": "code",
   "execution_count": 60,
   "metadata": {},
   "outputs": [
    {
     "data": {
      "text/plain": [
       "['A economia chinesa cresceu 10,3% em 2010, segundo dados oficiais divulgados nesta quinta-feira (20). A aceleração foi maior do que era previsto e representa uma alta em relação ao número de 2009, quando foi registrado um crescimento de 9,2%.',\n",
       " 'O Produto Interno Bruto (PIB) chinês chegou à marca dos 39,8 trilhões de yuan (R$ 10 trilhões) no ano passado.',\n",
       " 'O resultado do crescimento da China em 2010 leva o país a permanecer no posto de segunda maior economia do mundo, à frente do Japão, que deverá divulgar seu PIB em meados de fevereiro.',\n",
       " 'Os números para o quarto trimestre também contrariaram expectativas de queda no ritmo de crescimento, com uma alta de 9,8% em relação ao mesmo período do ano anterior, enquanto o terceiro trimestre havia registrado 9,6%, o segundo, 10,3% e o primeiro, 11,9%.',\n",
       " '\"No ano passado, a China consolidou e impulsionou sua recuperação da crise financeira global e a economia nacional está operando bem, de forma geral\", disse Ma Jiantang, diretor do Instituto Nacional de Estatística, durante uma entrevista coletiva. \"O país está em um momento chave para transformar recuperação em crescimento estável\", afirmou ele.',\n",
       " 'InflaçãoO índice de preços ao consumidor (CPI, na sigla em inglês) subiu 4,6% em dezembro, abaixo dos 5,1% de novembro, que havia sido a inflação mais alta em mais de dois anos. A moderação da alta de preços dos alimentos, bem como a base de comparação elevada no ano anterior, contribuíram para a desaceleração da inflação, afirmaram os economistas, que previam aumento de 4,7%. Os dados da inflação também foram antecipados na quarta-feira pelo site da TV Phoenix.',\n",
       " 'Em 2010, o CPI acumulou alta de 3,3%, comparada a uma deflação de 0,7% em 2009, segundo o Escritório Nacional de Estatísticas. O dado ficou acima da meta anual do governo, de cerca de 3%. O índice de preços ao produtor (PPI, na sigla em inglês), indicador que serve de prévia da inflação futura, subiu 5,9% em dezembro, abaixo dos 6,1% de novembro. Os economistas tinham previsto alta de 5,5%. No ano, o PPI subiu 5,5%.',\n",
       " 'Economistas previam uma alta do PIB de 9,2% no quarto trimestre e um avanço de 4,4% dos preços em dezembro.',\n",
       " 'Os dados mostraram controle das pressões inflacionárias em dezembro, com alta dos preços ao consumidor de 0,5% em relação a novembro, quando eles haviam subido 1,1%.',\n",
       " 'Outros dados divulgados, de indústria a investimento, mostraram que a segunda maior economia não está superaquecendo, apesar da aceleração do crescimento.',\n",
       " 'A produção industrial subiu 13,5% em dezembro sobre o mesmo mês de 2009, ante estimativa de 13,4%. A formação bruta de capital fixo, uma medida dos investimentos, cresceu 24,5% em 2010 sobre 2009, levemente abaixo da previsão do mercado de 24,9%. As vendas no varejo em dezembro subiram 19,1% sobre o ano anterior, ante estimativa do mercado de 18,6%.',\n",
       " 'Com informações da BBC, da Reuters e da Agência Estado']"
      ]
     },
     "execution_count": 60,
     "metadata": {},
     "output_type": "execute_result"
    }
   ],
   "source": [
    "context = []\n",
    "paragraph = bs.select('div.materia-conteudo p')\n",
    "for i in paragraph:\n",
    "    context.append(i.text.replace(\"\\n\",\"\").strip())\n",
    "context"
   ]
  },
  {
   "cell_type": "code",
   "execution_count": 61,
   "metadata": {},
   "outputs": [
    {
     "name": "stdout",
     "output_type": "stream",
     "text": [
      "A economia chinesa cresceu 10,3% em 2010, segundo dados oficiais divulgados nesta quinta-feira (20). A aceleração foi maior do que era previsto e representa uma alta em relação ao número de 2009, quando foi registrado um crescimento de 9,2%.O Produto Interno Bruto (PIB) chinês chegou à marca dos 39,8 trilhões de yuan (R$ 10 trilhões) no ano passado.O resultado do crescimento da China em 2010 leva o país a permanecer no posto de segunda maior economia do mundo, à frente do Japão, que deverá divulgar seu PIB em meados de fevereiro.Os números para o quarto trimestre também contrariaram expectativas de queda no ritmo de crescimento, com uma alta de 9,8% em relação ao mesmo período do ano anterior, enquanto o terceiro trimestre havia registrado 9,6%, o segundo, 10,3% e o primeiro, 11,9%.\"No ano passado, a China consolidou e impulsionou sua recuperação da crise financeira global e a economia nacional está operando bem, de forma geral\", disse Ma Jiantang, diretor do Instituto Nacional de Estatística, durante uma entrevista coletiva. \"O país está em um momento chave para transformar recuperação em crescimento estável\", afirmou ele.InflaçãoO índice de preços ao consumidor (CPI, na sigla em inglês) subiu 4,6% em dezembro, abaixo dos 5,1% de novembro, que havia sido a inflação mais alta em mais de dois anos. A moderação da alta de preços dos alimentos, bem como a base de comparação elevada no ano anterior, contribuíram para a desaceleração da inflação, afirmaram os economistas, que previam aumento de 4,7%. Os dados da inflação também foram antecipados na quarta-feira pelo site da TV Phoenix.Em 2010, o CPI acumulou alta de 3,3%, comparada a uma deflação de 0,7% em 2009, segundo o Escritório Nacional de Estatísticas. O dado ficou acima da meta anual do governo, de cerca de 3%. O índice de preços ao produtor (PPI, na sigla em inglês), indicador que serve de prévia da inflação futura, subiu 5,9% em dezembro, abaixo dos 6,1% de novembro. Os economistas tinham previsto alta de 5,5%. No ano, o PPI subiu 5,5%.Economistas previam uma alta do PIB de 9,2% no quarto trimestre e um avanço de 4,4% dos preços em dezembro.Os dados mostraram controle das pressões inflacionárias em dezembro, com alta dos preços ao consumidor de 0,5% em relação a novembro, quando eles haviam subido 1,1%.Outros dados divulgados, de indústria a investimento, mostraram que a segunda maior economia não está superaquecendo, apesar da aceleração do crescimento.A produção industrial subiu 13,5% em dezembro sobre o mesmo mês de 2009, ante estimativa de 13,4%. A formação bruta de capital fixo, uma medida dos investimentos, cresceu 24,5% em 2010 sobre 2009, levemente abaixo da previsão do mercado de 24,9%. As vendas no varejo em dezembro subiram 19,1% sobre o ano anterior, ante estimativa do mercado de 18,6%.Com informações da BBC, da Reuters e da Agência Estado\n"
     ]
    }
   ],
   "source": [
    "print(''.join(context))"
   ]
  }
 ],
 "metadata": {
  "kernelspec": {
   "display_name": "Python 3",
   "language": "python",
   "name": "python3"
  },
  "language_info": {
   "codemirror_mode": {
    "name": "ipython",
    "version": 3
   },
   "file_extension": ".py",
   "mimetype": "text/x-python",
   "name": "python",
   "nbconvert_exporter": "python",
   "pygments_lexer": "ipython3",
   "version": "3.8.3"
  }
 },
 "nbformat": 4,
 "nbformat_minor": 4
}
