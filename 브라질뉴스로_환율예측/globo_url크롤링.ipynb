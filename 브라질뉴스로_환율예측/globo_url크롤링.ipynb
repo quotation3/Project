{
 "cells": [
  {
   "cell_type": "code",
   "execution_count": 1,
   "metadata": {},
   "outputs": [
    {
     "name": "stdout",
     "output_type": "stream",
     "text": [
      "\n",
      "Note: you may need to restart the kernel to use updated packages.\n"
     ]
    }
   ],
   "source": [
    "conda install selenium"
   ]
  },
  {
   "cell_type": "code",
   "execution_count": 1,
   "metadata": {},
   "outputs": [],
   "source": [
    "from selenium import webdriver"
   ]
  },
  {
   "cell_type": "code",
   "execution_count": 52,
   "metadata": {},
   "outputs": [],
   "source": [
    "import pandas as pd"
   ]
  },
  {
   "cell_type": "code",
   "execution_count": 5,
   "metadata": {},
   "outputs": [],
   "source": [
    "from urllib.parse import quote_plus\n",
    "from bs4 import BeautifulSoup\n",
    "from selenium import webdriver"
   ]
  },
  {
   "cell_type": "code",
   "execution_count": 3,
   "metadata": {},
   "outputs": [],
   "source": [
    "import re"
   ]
  },
  {
   "cell_type": "code",
   "execution_count": 46,
   "metadata": {},
   "outputs": [
    {
     "name": "stdout",
     "output_type": "stream",
     "text": [
      "https://g1.globo.com/economia/noticia/2018/08/02/percentual-de-familias-endividadas-sobe-pela-1a-vez-no-ano-em-julho.ghtml\n",
      "https://g1.globo.com/economia/noticia/2018/08/27/gasto-de-brasileiros-no-exterior-cai-787-em-julho-na-comparacao-com-o-mesmo-mes-em-2017.ghtml\n",
      "https://g1.globo.com/economia/noticia/2018/08/24/anvisa-suspende-importacao-e-venda-de-produto-usado-em-remedio-para-hipertensao.ghtml\n",
      "https://g1.globo.com/economia/noticia/2018/08/18/os-multimilionarios-e-polemicos-investimentos-da-universidade-de-harvard-em-terras-na-america-latina.ghtml\n",
      "https://g1.globo.com/economia/noticia/2018/08/03/precos-do-diesel-e-da-gasolina-nas-bombas-voltam-a-cair-na-semana-diz-anp.ghtml\n",
      "https://g1.globo.com/economia/noticia/2018/08/31/preco-medio-do-diesel-e-da-gasolina-nas-bombas-terminam-a-semana-em-alta-diz-anp.ghtml\n",
      "https://g1.globo.com/economia/noticia/2018/08/21/teto-de-gastos-somente-sera-sustentavel-com-reforma-da-previdencia-diz-guardia.ghtml\n",
      "https://g1.globo.com/economia/noticia/2018/08/31/contas-do-setor-publico-registram-deficit-de-r-34-bilhoes-em-julho.ghtml\n",
      "https://g1.globo.com/economia/noticia/2018/08/22/dolar-ja-e-negociado-acima-de-r-450-nas-casas-de-cambio.ghtml\n",
      "https://g1.globo.com/economia/noticia/2018/08/09/nova-york-aprova-limite-de-licencas-para-motoristas-de-uber-e-concorrentes.ghtml\n"
     ]
    }
   ],
   "source": [
    "url = 'https://www.google.com/search?q=site:https://g1.globo.com/economia/noticia/2018/08&lr=&newwindow=1&hl=ko&tbm=nws&ei=htJ0X8v2HNfrwQPypbaIDA&start=100&sa=N&ved=0ahUKEwjL0fGKxZHsAhXXdXAKHfKSDcE48AEQ8tMDCIkB&biw=1012&bih=838&dpr=1.13'\n",
    "\n",
    "driver = webdriver.Chrome('C:/Users/Inyong Kim/Desktop/globo/chromedriver.exe')\n",
    "driver.get(url)\n",
    "\n",
    "html = driver.page_source\n",
    "bs = BeautifulSoup(html, \"html.parser\")\n",
    "\n",
    "url_list = []\n",
    "text = bs.select('div.dbsr a')\n",
    "for context in text:\n",
    "    print(context.attrs['href'])\n",
    "    url_list.append(context.attrs['href'])\n",
    "\n",
    "driver.close()"
   ]
  },
  {
   "cell_type": "code",
   "execution_count": 47,
   "metadata": {},
   "outputs": [
    {
     "data": {
      "text/plain": [
       "['https://g1.globo.com/economia/noticia/2018/08/02/percentual-de-familias-endividadas-sobe-pela-1a-vez-no-ano-em-julho.ghtml',\n",
       " 'https://g1.globo.com/economia/noticia/2018/08/27/gasto-de-brasileiros-no-exterior-cai-787-em-julho-na-comparacao-com-o-mesmo-mes-em-2017.ghtml',\n",
       " 'https://g1.globo.com/economia/noticia/2018/08/24/anvisa-suspende-importacao-e-venda-de-produto-usado-em-remedio-para-hipertensao.ghtml',\n",
       " 'https://g1.globo.com/economia/noticia/2018/08/18/os-multimilionarios-e-polemicos-investimentos-da-universidade-de-harvard-em-terras-na-america-latina.ghtml',\n",
       " 'https://g1.globo.com/economia/noticia/2018/08/03/precos-do-diesel-e-da-gasolina-nas-bombas-voltam-a-cair-na-semana-diz-anp.ghtml',\n",
       " 'https://g1.globo.com/economia/noticia/2018/08/31/preco-medio-do-diesel-e-da-gasolina-nas-bombas-terminam-a-semana-em-alta-diz-anp.ghtml',\n",
       " 'https://g1.globo.com/economia/noticia/2018/08/21/teto-de-gastos-somente-sera-sustentavel-com-reforma-da-previdencia-diz-guardia.ghtml',\n",
       " 'https://g1.globo.com/economia/noticia/2018/08/31/contas-do-setor-publico-registram-deficit-de-r-34-bilhoes-em-julho.ghtml',\n",
       " 'https://g1.globo.com/economia/noticia/2018/08/22/dolar-ja-e-negociado-acima-de-r-450-nas-casas-de-cambio.ghtml',\n",
       " 'https://g1.globo.com/economia/noticia/2018/08/09/nova-york-aprova-limite-de-licencas-para-motoristas-de-uber-e-concorrentes.ghtml']"
      ]
     },
     "execution_count": 47,
     "metadata": {},
     "output_type": "execute_result"
    }
   ],
   "source": [
    "url_list"
   ]
  },
  {
   "cell_type": "code",
   "execution_count": 110,
   "metadata": {},
   "outputs": [],
   "source": [
    "url_list = []\n",
    "for num in range(4):\n",
    "    url = 'https://www.google.com/search?q=site:https://g1.globo.com/economia/noticia/2012/06&lr=&newwindow=1&hl=ko&tbm=nws&ei=htJ0X8v2HNfrwQPypbaIDA&start={}0&sa=N&ved=0ahUKEwjL0fGKxZHsAhXXdXAKHfKSDcE48AEQ8tMDCIkB&biw=1012&bih=838&dpr=1.13'.format(num)\n",
    "\n",
    "    driver = webdriver.Chrome('C:/Users/Inyong Kim/Desktop/globo/chromedriver.exe')\n",
    "    driver.get(url)\n",
    "\n",
    "    html = driver.page_source\n",
    "    bs = BeautifulSoup(html, \"html.parser\")\n",
    "\n",
    "\n",
    "    text = bs.select('div.dbsr a')\n",
    "    for context in text:\n",
    "        print(context.attrs['href'])\n",
    "        url_list.append(context.attrs['href'])\n",
    "    \n",
    "    driver.close()"
   ]
  },
  {
   "cell_type": "code",
   "execution_count": 102,
   "metadata": {},
   "outputs": [
    {
     "data": {
      "text/plain": [
       "183"
      ]
     },
     "execution_count": 102,
     "metadata": {},
     "output_type": "execute_result"
    }
   ],
   "source": [
    "len(url_list)"
   ]
  },
  {
   "cell_type": "code",
   "execution_count": 103,
   "metadata": {},
   "outputs": [
    {
     "data": {
      "text/plain": [
       "'http://g1.globo.com/economia/noticia/2012/05/diferenca-de-salario-entre-homens-e-mulheres-cresceu-em-2010-diz-ibge.html'"
      ]
     },
     "execution_count": 103,
     "metadata": {},
     "output_type": "execute_result"
    }
   ],
   "source": [
    "url_list[180]"
   ]
  },
  {
   "cell_type": "code",
   "execution_count": 104,
   "metadata": {},
   "outputs": [],
   "source": [
    "result = pd.DataFrame(url_list)\n",
    "result.to_csv('C:/Users/Inyong Kim/Desktop/globo/2012_05.csv', index=False)"
   ]
  }
 ],
 "metadata": {
  "kernelspec": {
   "display_name": "Python 3",
   "language": "python",
   "name": "python3"
  },
  "language_info": {
   "codemirror_mode": {
    "name": "ipython",
    "version": 3
   },
   "file_extension": ".py",
   "mimetype": "text/x-python",
   "name": "python",
   "nbconvert_exporter": "python",
   "pygments_lexer": "ipython3",
   "version": "3.7.6"
  }
 },
 "nbformat": 4,
 "nbformat_minor": 4
}
