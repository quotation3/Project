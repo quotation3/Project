{
 "cells": [
  {
   "cell_type": "code",
   "execution_count": 1,
   "metadata": {},
   "outputs": [],
   "source": [
    "import pandas as pd\n",
    "from bs4 import BeautifulSoup\n",
    "import re\n",
    "import requests"
   ]
  },
  {
   "cell_type": "code",
   "execution_count": 10,
   "metadata": {},
   "outputs": [
    {
     "data": {
      "text/plain": [
       "'70,592,343'"
      ]
     },
     "execution_count": 10,
     "metadata": {},
     "output_type": "execute_result"
    }
   ],
   "source": [
    "# 상장 주식수 크롤링\n",
    "res = requests.get('https://finance.naver.com/item/main.nhn?code=051910')\n",
    "bs = BeautifulSoup(res.text, \"html.parser\")\n",
    "bs.select('div.tab_con1 table td')[4].text"
   ]
  },
  {
   "cell_type": "code",
   "execution_count": 14,
   "metadata": {},
   "outputs": [],
   "source": [
    "# 상장 주식수 크롤링 함수\n",
    "def total_stock(stock_n):\n",
    "    url = 'https://finance.naver.com/item/main.nhn?code={}'.format(stock_n)\n",
    "    res = requests.get(url)\n",
    "    bs = BeautifulSoup(res.text, \"html.parser\")\n",
    "    stock_volume = bs.select('div.tab_con1 table td')[4].text\n",
    "    stock_volumes.append(stock_volume)"
   ]
  },
  {
   "cell_type": "code",
   "execution_count": 12,
   "metadata": {},
   "outputs": [],
   "source": [
    "# 데이터불러오기\n",
    "stocks = pd.read_csv('C:/Users/Inyong Kim/Desktop/trade_train_set/stocks.csv')"
   ]
  },
  {
   "cell_type": "code",
   "execution_count": 15,
   "metadata": {},
   "outputs": [],
   "source": [
    "# 종목번호 리스트 추출\n",
    "stock_num=stocks.drop_duplicates(\"종목번호\")['종목번호'].str[1:].tolist()"
   ]
  },
  {
   "cell_type": "code",
   "execution_count": 16,
   "metadata": {},
   "outputs": [],
   "source": [
    "stock_volumes = []\n",
    "stock = []\n",
    "for i in stock_num:\n",
    "    total_stock(i)\n",
    "    stock.append(i)"
   ]
  },
  {
   "cell_type": "code",
   "execution_count": 21,
   "metadata": {},
   "outputs": [],
   "source": [
    "df = pd.DataFrame({'종목번호':stock, '상장주식수':stock_volumes})"
   ]
  },
  {
   "cell_type": "code",
   "execution_count": 19,
   "metadata": {},
   "outputs": [],
   "source": [
    "df.to_csv('C:/Users/Inyong Kim/Desktop/상장주식수.csv', index=False)"
   ]
  }
 ],
 "metadata": {
  "kernelspec": {
   "display_name": "Python 3",
   "language": "python",
   "name": "python3"
  },
  "language_info": {
   "codemirror_mode": {
    "name": "ipython",
    "version": 3
   },
   "file_extension": ".py",
   "mimetype": "text/x-python",
   "name": "python",
   "nbconvert_exporter": "python",
   "pygments_lexer": "ipython3",
   "version": "3.7.6"
  }
 },
 "nbformat": 4,
 "nbformat_minor": 4
}
