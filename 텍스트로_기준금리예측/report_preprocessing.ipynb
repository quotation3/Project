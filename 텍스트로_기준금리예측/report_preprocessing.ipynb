{
  "nbformat": 4,
  "nbformat_minor": 0,
  "metadata": {
    "kernelspec": {
      "display_name": "Python 3",
      "language": "python",
      "name": "python3"
    },
    "language_info": {
      "codemirror_mode": {
        "name": "ipython",
        "version": 3
      },
      "file_extension": ".py",
      "mimetype": "text/x-python",
      "name": "python",
      "nbconvert_exporter": "python",
      "pygments_lexer": "ipython3",
      "version": "3.7.6"
    },
    "colab": {
      "name": "report_preprocessing.ipynb",
      "provenance": [],
      "include_colab_link": true
    }
  },
  "cells": [
    {
      "cell_type": "markdown",
      "metadata": {
        "id": "view-in-github",
        "colab_type": "text"
      },
      "source": [
        "<a href=\"https://colab.research.google.com/github/GarnetKangSB/MultiCampus_2020NLP_BOK_3/blob/master/report_preprocessing.ipynb\" target=\"_parent\"><img src=\"https://colab.research.google.com/assets/colab-badge.svg\" alt=\"Open In Colab\"/></a>"
      ]
    },
    {
      "cell_type": "code",
      "metadata": {
        "id": "mYzo44pTFltP"
      },
      "source": [
        "import pandas as pd\n",
        "from ekonlpy.sentiment import MPCK"
      ],
      "execution_count": null,
      "outputs": []
    },
    {
      "cell_type": "code",
      "metadata": {
        "scrolled": true,
        "id": "sqNOoN9iFltU",
        "outputId": "fe9d683d-d787-4cdc-ee19-81ca8f6a95c8"
      },
      "source": [
        "data=pd.read_csv(\"./minutes/report.csv\")\n",
        "data"
      ],
      "execution_count": null,
      "outputs": [
        {
          "output_type": "execute_result",
          "data": {
            "text/html": [
              "<div>\n",
              "<style scoped>\n",
              "    .dataframe tbody tr th:only-of-type {\n",
              "        vertical-align: middle;\n",
              "    }\n",
              "\n",
              "    .dataframe tbody tr th {\n",
              "        vertical-align: top;\n",
              "    }\n",
              "\n",
              "    .dataframe thead th {\n",
              "        text-align: right;\n",
              "    }\n",
              "</style>\n",
              "<table border=\"1\" class=\"dataframe\">\n",
              "  <thead>\n",
              "    <tr style=\"text-align: right;\">\n",
              "      <th></th>\n",
              "      <th>date</th>\n",
              "      <th>company</th>\n",
              "      <th>title</th>\n",
              "      <th>content</th>\n",
              "      <th>view</th>\n",
              "    </tr>\n",
              "  </thead>\n",
              "  <tbody>\n",
              "    <tr>\n",
              "      <th>0</th>\n",
              "      <td>08.04.01</td>\n",
              "      <td>대우증권</td>\n",
              "      <td>대우증권 월간 채권투자 4월</td>\n",
              "      <td>ㅎㅎㅎ2008_04  월간채권투자채 권 시 장 전 망금 융 시 장 차 트 북對應과 ...</td>\n",
              "      <td>208</td>\n",
              "    </tr>\n",
              "    <tr>\n",
              "      <th>1</th>\n",
              "      <td>08.04.07</td>\n",
              "      <td>대우증권</td>\n",
              "      <td>돌아온 박스권</td>\n",
              "      <td>Microsoft Word - 0407.docFixed Income Weekly 2...</td>\n",
              "      <td>1665</td>\n",
              "    </tr>\n",
              "    <tr>\n",
              "      <th>2</th>\n",
              "      <td>08.04.07</td>\n",
              "      <td>대우증권</td>\n",
              "      <td>시간차 공격</td>\n",
              "      <td>Microsoft Word - 0407.docFixed Income Weekly 2...</td>\n",
              "      <td>93</td>\n",
              "    </tr>\n",
              "    <tr>\n",
              "      <th>3</th>\n",
              "      <td>08.04.14</td>\n",
              "      <td>대우증권</td>\n",
              "      <td>총재의 변신은 무죄다</td>\n",
              "      <td>Microsoft Word - Fixedincome0414.doc    4월 금통위...</td>\n",
              "      <td>114</td>\n",
              "    </tr>\n",
              "    <tr>\n",
              "      <th>4</th>\n",
              "      <td>08.04.21</td>\n",
              "      <td>대우증권</td>\n",
              "      <td>항상 열려는 있는 가능성</td>\n",
              "      <td>Microsoft Word - 920_0421_Fixed Income Weekly....</td>\n",
              "      <td>233</td>\n",
              "    </tr>\n",
              "    <tr>\n",
              "      <th>...</th>\n",
              "      <td>...</td>\n",
              "      <td>...</td>\n",
              "      <td>...</td>\n",
              "      <td>...</td>\n",
              "      <td>...</td>\n",
              "    </tr>\n",
              "    <tr>\n",
              "      <th>3576</th>\n",
              "      <td>20.01.23</td>\n",
              "      <td>하나금융투자</td>\n",
              "      <td>브라질 기대보다 더딘 발걸음</td>\n",
              "      <td>2013년 0월 0일          브라질, 기대보다 더딘 발걸음 Investme...</td>\n",
              "      <td>148</td>\n",
              "    </tr>\n",
              "    <tr>\n",
              "      <th>3577</th>\n",
              "      <td>20.01.28</td>\n",
              "      <td>미래에셋대우</td>\n",
              "      <td>1월 회사채 순발행 전년대비 감소</td>\n",
              "      <td>Microsoft Word - 2020012318512405.docx        ...</td>\n",
              "      <td>31</td>\n",
              "    </tr>\n",
              "    <tr>\n",
              "      <th>3578</th>\n",
              "      <td>20.01.28</td>\n",
              "      <td>이베스트증권</td>\n",
              "      <td>증권사 채권의 투자매력도</td>\n",
              "      <td>(Microsoft Word - 20200128_Market Inside_Credi...</td>\n",
              "      <td>53</td>\n",
              "    </tr>\n",
              "    <tr>\n",
              "      <th>3579</th>\n",
              "      <td>20.01.28</td>\n",
              "      <td>키움증권</td>\n",
              "      <td>이벤트 없이 지나갈 FOMC</td>\n",
              "      <td>고지사항  - 본 조사분석자료는 당사의 리서치센터가 신뢰할 수 있는 자료 및 정보로...</td>\n",
              "      <td>59</td>\n",
              "    </tr>\n",
              "    <tr>\n",
              "      <th>3580</th>\n",
              "      <td>20.01.29</td>\n",
              "      <td>하나금융투자</td>\n",
              "      <td>한밤중에 흔들다리 건너가기</td>\n",
              "      <td>2013년 0월 0일 `        한밤중에 흔들다리 건너가기  Issue Com...</td>\n",
              "      <td>49</td>\n",
              "    </tr>\n",
              "  </tbody>\n",
              "</table>\n",
              "<p>3581 rows × 5 columns</p>\n",
              "</div>"
            ],
            "text/plain": [
              "          date company               title  \\\n",
              "0     08.04.01    대우증권     대우증권 월간 채권투자 4월   \n",
              "1     08.04.07    대우증권             돌아온 박스권   \n",
              "2     08.04.07    대우증권              시간차 공격   \n",
              "3     08.04.14    대우증권         총재의 변신은 무죄다   \n",
              "4     08.04.21    대우증권       항상 열려는 있는 가능성   \n",
              "...        ...     ...                 ...   \n",
              "3576  20.01.23  하나금융투자     브라질 기대보다 더딘 발걸음   \n",
              "3577  20.01.28  미래에셋대우  1월 회사채 순발행 전년대비 감소   \n",
              "3578  20.01.28  이베스트증권       증권사 채권의 투자매력도   \n",
              "3579  20.01.28    키움증권     이벤트 없이 지나갈 FOMC   \n",
              "3580  20.01.29  하나금융투자      한밤중에 흔들다리 건너가기   \n",
              "\n",
              "                                                content  view  \n",
              "0     ㅎㅎㅎ2008_04  월간채권투자채 권 시 장 전 망금 융 시 장 차 트 북對應과 ...   208  \n",
              "1     Microsoft Word - 0407.docFixed Income Weekly 2...  1665  \n",
              "2     Microsoft Word - 0407.docFixed Income Weekly 2...    93  \n",
              "3     Microsoft Word - Fixedincome0414.doc    4월 금통위...   114  \n",
              "4     Microsoft Word - 920_0421_Fixed Income Weekly....   233  \n",
              "...                                                 ...   ...  \n",
              "3576  2013년 0월 0일          브라질, 기대보다 더딘 발걸음 Investme...   148  \n",
              "3577  Microsoft Word - 2020012318512405.docx        ...    31  \n",
              "3578  (Microsoft Word - 20200128_Market Inside_Credi...    53  \n",
              "3579  고지사항  - 본 조사분석자료는 당사의 리서치센터가 신뢰할 수 있는 자료 및 정보로...    59  \n",
              "3580  2013년 0월 0일 `        한밤중에 흔들다리 건너가기  Issue Com...    49  \n",
              "\n",
              "[3581 rows x 5 columns]"
            ]
          },
          "metadata": {
            "tags": []
          },
          "execution_count": 3
        }
      ]
    },
    {
      "cell_type": "code",
      "metadata": {
        "id": "aQxZErbjFltb"
      },
      "source": [
        "def text2ngram(text) :\n",
        "    mpck = MPCK()\n",
        "    tokens = mpck.tokenize(text)\n",
        "    ngrams = mpck.ngramize(tokens)\n",
        "                \n",
        "    return tokens+ ngrams"
      ],
      "execution_count": null,
      "outputs": []
    },
    {
      "cell_type": "code",
      "metadata": {
        "id": "mp3E57OjFltf"
      },
      "source": [
        "data=data.drop([2683,2708,2711,2738,2836,2985,3286,3294,3401,3409])\n",
        "data[\"ngram\"]=data[\"content\"].apply(text2ngram)"
      ],
      "execution_count": null,
      "outputs": []
    },
    {
      "cell_type": "code",
      "metadata": {
        "id": "h2HdaQ5LFlti"
      },
      "source": [
        "data.to_csv(\"./minutes/report_preprocessed.csv\")"
      ],
      "execution_count": null,
      "outputs": []
    },
    {
      "cell_type": "code",
      "metadata": {
        "id": "j3XRK9jnFltm",
        "outputId": "d878d48c-d1f9-4185-c55e-bb56a1d6cf15"
      },
      "source": [
        "pd.read_csv(\"./minutes/report_preprocessed.csv\")"
      ],
      "execution_count": null,
      "outputs": [
        {
          "output_type": "execute_result",
          "data": {
            "text/html": [
              "<div>\n",
              "<style scoped>\n",
              "    .dataframe tbody tr th:only-of-type {\n",
              "        vertical-align: middle;\n",
              "    }\n",
              "\n",
              "    .dataframe tbody tr th {\n",
              "        vertical-align: top;\n",
              "    }\n",
              "\n",
              "    .dataframe thead th {\n",
              "        text-align: right;\n",
              "    }\n",
              "</style>\n",
              "<table border=\"1\" class=\"dataframe\">\n",
              "  <thead>\n",
              "    <tr style=\"text-align: right;\">\n",
              "      <th></th>\n",
              "      <th>Unnamed: 0</th>\n",
              "      <th>date</th>\n",
              "      <th>company</th>\n",
              "      <th>title</th>\n",
              "      <th>content</th>\n",
              "      <th>view</th>\n",
              "      <th>ngram</th>\n",
              "    </tr>\n",
              "  </thead>\n",
              "  <tbody>\n",
              "    <tr>\n",
              "      <th>0</th>\n",
              "      <td>0</td>\n",
              "      <td>08.04.01</td>\n",
              "      <td>대우증권</td>\n",
              "      <td>대우증권 월간 채권투자 4월</td>\n",
              "      <td>ㅎㅎㅎ2008_04  월간채권투자채 권 시 장 전 망금 융 시 장 차 트 북對應과 ...</td>\n",
              "      <td>208</td>\n",
              "      <td>['가/VV', '권투/NNG', '자채/NNG', '시장/NNG', '전망/NNG...</td>\n",
              "    </tr>\n",
              "    <tr>\n",
              "      <th>1</th>\n",
              "      <td>1</td>\n",
              "      <td>08.04.07</td>\n",
              "      <td>대우증권</td>\n",
              "      <td>돌아온 박스권</td>\n",
              "      <td>Microsoft Word - 0407.docFixed Income Weekly 2...</td>\n",
              "      <td>1665</td>\n",
              "      <td>['돌아온/VV', '박스권/NNG', '하단/NNG', '상단/NNG', '테스트...</td>\n",
              "    </tr>\n",
              "    <tr>\n",
              "      <th>2</th>\n",
              "      <td>2</td>\n",
              "      <td>08.04.07</td>\n",
              "      <td>대우증권</td>\n",
              "      <td>시간차 공격</td>\n",
              "      <td>Microsoft Word - 0407.docFixed Income Weekly 2...</td>\n",
              "      <td>93</td>\n",
              "      <td>['돌아온/VV', '박스권/NNG', '하단/NNG', '상단/NNG', '테스트...</td>\n",
              "    </tr>\n",
              "    <tr>\n",
              "      <th>3</th>\n",
              "      <td>3</td>\n",
              "      <td>08.04.14</td>\n",
              "      <td>대우증권</td>\n",
              "      <td>총재의 변신은 무죄다</td>\n",
              "      <td>Microsoft Word - Fixedincome0414.doc    4월 금통위...</td>\n",
              "      <td>114</td>\n",
              "      <td>['믹스/NNG', '합의/NNG', '반영/NNG', '예상/NNG', '경제/N...</td>\n",
              "    </tr>\n",
              "    <tr>\n",
              "      <th>4</th>\n",
              "      <td>4</td>\n",
              "      <td>08.04.21</td>\n",
              "      <td>대우증권</td>\n",
              "      <td>항상 열려는 있는 가능성</td>\n",
              "      <td>Microsoft Word - 920_0421_Fixed Income Weekly....</td>\n",
              "      <td>233</td>\n",
              "      <td>['경기/NNG', '전망/NNG', '비교적/VAX', '분명/MAG', '인플레...</td>\n",
              "    </tr>\n",
              "    <tr>\n",
              "      <th>...</th>\n",
              "      <td>...</td>\n",
              "      <td>...</td>\n",
              "      <td>...</td>\n",
              "      <td>...</td>\n",
              "      <td>...</td>\n",
              "      <td>...</td>\n",
              "      <td>...</td>\n",
              "    </tr>\n",
              "    <tr>\n",
              "      <th>3566</th>\n",
              "      <td>3576</td>\n",
              "      <td>20.01.23</td>\n",
              "      <td>하나금융투자</td>\n",
              "      <td>브라질 기대보다 더딘 발걸음</td>\n",
              "      <td>2013년 0월 0일          브라질, 기대보다 더딘 발걸음 Investme...</td>\n",
              "      <td>148</td>\n",
              "      <td>['기대/NNG', '더디/VA', '발걸음/NNG', '외채/NNG', '해외/N...</td>\n",
              "    </tr>\n",
              "    <tr>\n",
              "      <th>3567</th>\n",
              "      <td>3577</td>\n",
              "      <td>20.01.28</td>\n",
              "      <td>미래에셋대우</td>\n",
              "      <td>1월 회사채 순발행 전년대비 감소</td>\n",
              "      <td>Microsoft Word - 2020012318512405.docx        ...</td>\n",
              "      <td>31</td>\n",
              "      <td>['크레딧/NNG', '투자전략/NNG', '신용/NNG', '분석/NNG', '민...</td>\n",
              "    </tr>\n",
              "    <tr>\n",
              "      <th>3568</th>\n",
              "      <td>3578</td>\n",
              "      <td>20.01.28</td>\n",
              "      <td>이베스트증권</td>\n",
              "      <td>증권사 채권의 투자매력도</td>\n",
              "      <td>(Microsoft Word - 20200128_Market Inside_Credi...</td>\n",
              "      <td>53</td>\n",
              "      <td>['크레딧/NNG', '이슈/NNG', '신용스프레드/NNG', '동향/NNG', ...</td>\n",
              "    </tr>\n",
              "    <tr>\n",
              "      <th>3569</th>\n",
              "      <td>3579</td>\n",
              "      <td>20.01.28</td>\n",
              "      <td>키움증권</td>\n",
              "      <td>이벤트 없이 지나갈 FOMC</td>\n",
              "      <td>고지사항  - 본 조사분석자료는 당사의 리서치센터가 신뢰할 수 있는 자료 및 정보로...</td>\n",
              "      <td>59</td>\n",
              "      <td>['고지/NNG', '사항/NNG', '조사/NNG', '분석/NNG', '자료/N...</td>\n",
              "    </tr>\n",
              "    <tr>\n",
              "      <th>3570</th>\n",
              "      <td>3580</td>\n",
              "      <td>20.01.29</td>\n",
              "      <td>하나금융투자</td>\n",
              "      <td>한밤중에 흔들다리 건너가기</td>\n",
              "      <td>2013년 0월 0일 `        한밤중에 흔들다리 건너가기  Issue Com...</td>\n",
              "      <td>49</td>\n",
              "      <td>['밤중/NNG', '흔들/VV', '건너/VV', '의현/NNG', '보/VV',...</td>\n",
              "    </tr>\n",
              "  </tbody>\n",
              "</table>\n",
              "<p>3571 rows × 7 columns</p>\n",
              "</div>"
            ],
            "text/plain": [
              "      Unnamed: 0      date company               title  \\\n",
              "0              0  08.04.01    대우증권     대우증권 월간 채권투자 4월   \n",
              "1              1  08.04.07    대우증권             돌아온 박스권   \n",
              "2              2  08.04.07    대우증권              시간차 공격   \n",
              "3              3  08.04.14    대우증권         총재의 변신은 무죄다   \n",
              "4              4  08.04.21    대우증권       항상 열려는 있는 가능성   \n",
              "...          ...       ...     ...                 ...   \n",
              "3566        3576  20.01.23  하나금융투자     브라질 기대보다 더딘 발걸음   \n",
              "3567        3577  20.01.28  미래에셋대우  1월 회사채 순발행 전년대비 감소   \n",
              "3568        3578  20.01.28  이베스트증권       증권사 채권의 투자매력도   \n",
              "3569        3579  20.01.28    키움증권     이벤트 없이 지나갈 FOMC   \n",
              "3570        3580  20.01.29  하나금융투자      한밤중에 흔들다리 건너가기   \n",
              "\n",
              "                                                content  view  \\\n",
              "0     ㅎㅎㅎ2008_04  월간채권투자채 권 시 장 전 망금 융 시 장 차 트 북對應과 ...   208   \n",
              "1     Microsoft Word - 0407.docFixed Income Weekly 2...  1665   \n",
              "2     Microsoft Word - 0407.docFixed Income Weekly 2...    93   \n",
              "3     Microsoft Word - Fixedincome0414.doc    4월 금통위...   114   \n",
              "4     Microsoft Word - 920_0421_Fixed Income Weekly....   233   \n",
              "...                                                 ...   ...   \n",
              "3566  2013년 0월 0일          브라질, 기대보다 더딘 발걸음 Investme...   148   \n",
              "3567  Microsoft Word - 2020012318512405.docx        ...    31   \n",
              "3568  (Microsoft Word - 20200128_Market Inside_Credi...    53   \n",
              "3569  고지사항  - 본 조사분석자료는 당사의 리서치센터가 신뢰할 수 있는 자료 및 정보로...    59   \n",
              "3570  2013년 0월 0일 `        한밤중에 흔들다리 건너가기  Issue Com...    49   \n",
              "\n",
              "                                                  ngram  \n",
              "0     ['가/VV', '권투/NNG', '자채/NNG', '시장/NNG', '전망/NNG...  \n",
              "1     ['돌아온/VV', '박스권/NNG', '하단/NNG', '상단/NNG', '테스트...  \n",
              "2     ['돌아온/VV', '박스권/NNG', '하단/NNG', '상단/NNG', '테스트...  \n",
              "3     ['믹스/NNG', '합의/NNG', '반영/NNG', '예상/NNG', '경제/N...  \n",
              "4     ['경기/NNG', '전망/NNG', '비교적/VAX', '분명/MAG', '인플레...  \n",
              "...                                                 ...  \n",
              "3566  ['기대/NNG', '더디/VA', '발걸음/NNG', '외채/NNG', '해외/N...  \n",
              "3567  ['크레딧/NNG', '투자전략/NNG', '신용/NNG', '분석/NNG', '민...  \n",
              "3568  ['크레딧/NNG', '이슈/NNG', '신용스프레드/NNG', '동향/NNG', ...  \n",
              "3569  ['고지/NNG', '사항/NNG', '조사/NNG', '분석/NNG', '자료/N...  \n",
              "3570  ['밤중/NNG', '흔들/VV', '건너/VV', '의현/NNG', '보/VV',...  \n",
              "\n",
              "[3571 rows x 7 columns]"
            ]
          },
          "metadata": {
            "tags": []
          },
          "execution_count": 78
        }
      ]
    },
    {
      "cell_type": "code",
      "metadata": {
        "id": "5jzcA7aYFltq",
        "outputId": "63baaf82-4881-4501-87d1-a59cbe7787a8"
      },
      "source": [
        "data[\"content\"][2680:2690].drop(2683).apply(text2ngram)"
      ],
      "execution_count": null,
      "outputs": [
        {
          "output_type": "execute_result",
          "data": {
            "text/plain": [
              "2680    [금리/NNG, 안정/NNG, 되/XSV, 하/VV, opec/NNG, 감산/NNG...\n",
              "2681    [채권/NNG, fed/NNG, 변화/NNG, 생길까/VV, 당선/NNG, 금리/N...\n",
              "2682    [선반영/NNG, 되/VV, 북클로징/NNG, 우려/NNG, 발행시장/NNG, 군계...\n",
              "2684    [프레젠테이션/NNG, 전병/NNG, 하/XSV, 채권시장/NNG, 본격/NNG, ...\n",
              "2685    [ecb/NNG, ecb/NNG, 준/VV, 작/VA, 선물/NNG, 합리적/VAX...\n",
              "2686    [ecb/NNG, 연장/NNG, 하/VV, 매입/NNG, 규모/NNG, 줄인다면/V...\n",
              "2687    [ecb/NNG, 기한/NNG, 예상/NNG, 길/VA, 연장/NNG, 함/XSV,...\n",
              "2688    [fed/NNG, 금리/NNG, 인상/NNG, 하/VV, 인상/NNG, 시장/NNG...\n",
              "2689    [伊/NNG, 최대/NNG, 은행/NNG, 내놓/VV, 자구계획/NNG, 해외/NN...\n",
              "Name: content, dtype: object"
            ]
          },
          "metadata": {
            "tags": []
          },
          "execution_count": 49
        }
      ]
    },
    {
      "cell_type": "code",
      "metadata": {
        "id": "DFBtooPrFltv",
        "outputId": "5c063142-d21c-4384-db10-b94949827cf5"
      },
      "source": [
        "data[\"content\"][2700:2710].drop(2708).apply(text2ngram)"
      ],
      "execution_count": null,
      "outputs": [
        {
          "output_type": "execute_result",
          "data": {
            "text/plain": [
              "2700    [행할/VV, 무역/NNG, 정책/NNG, 채권시장/NNG, 우호적/VAX, 채권시...\n",
              "2701    [발행시장/NNG, 호조/NNG, 예상/NNG, 자금/NNG, 집행/NNG, 재개/...\n",
              "2702    [채권시장/NNG, 움직이/VV, 변수/NNG, 점검/NNG, 채권/NNG, 보/V...\n",
              "2703    [ism/NNG, 매크로/NNG, ism/NNG, 제조업/NNG, 지수/NNG, 확...\n",
              "2704    [채권시장/NNG, 전망/NNG, 채권시장/NNG, 전망/NNG, 전망/NNG, 채...\n",
              "2705    [힘쓸/VV, 필요/NNG, 없/VA, 보/VV, 조사/NNG, 자료/NNG, 고객...\n",
              "2706    [매크로/NNG, fed/NNG, 의사록/NNG, 금리/NNG, 인상/NNG, 점진...\n",
              "2707    [달러원/NNG, 급락/NNG, 한미/NNG, 금리/NNG, 하락/NNG, 배경/N...\n",
              "2709    [전병/NNG, 하/XSV, 금리/NNG, 등락/NNG, 거듭/MAG, 하/VV, ...\n",
              "Name: content, dtype: object"
            ]
          },
          "metadata": {
            "tags": []
          },
          "execution_count": 50
        }
      ]
    },
    {
      "cell_type": "code",
      "metadata": {
        "id": "n4D842MeFltz",
        "outputId": "9d2b8729-3599-448b-f17b-41e2a19a406e"
      },
      "source": [
        "data[\"content\"][2710:2720].drop(2711).apply(text2ngram)"
      ],
      "execution_count": null,
      "outputs": [
        {
          "output_type": "execute_result",
          "data": {
            "text/plain": [
              "2710    [트/NNG, 럼/NNG, 플레이션/NNG, 속도/NNG, 논쟁/NNG, 호재/NN...\n",
              "2712    [조심/NNG, 강세/NNG, 지속/NNG, 동향/NNG, 조심/NNG, 강세/NN...\n",
              "2713    [금리/NNG, 인하/NNG, 만장일치/NNG, 금리/NNG, 금리/NNG, 인하/...\n",
              "2714    [전병/NNG, 하/XSV, 구간/NNG, 사이/NNG, 금리/NNG, 소폭/MAG...\n",
              "2715    [재정/NNG, 지출/NNG, 확대/NNG, 어렵/VA, 호재/NNG, 채권시장/N...\n",
              "2716    [미묘/NNG, 변화/NNG, 포착/NNG, 되/VV, 채권/NNG, 보/VV, 조...\n",
              "2717    [트/NNG, 럼/NNG, 플레이션/NNG, 바람/NNG, 빠지/VV, 이유/NNG...\n",
              "2718    [결국/MAG, 하드/NNG, 브렉시트/NNG, 선택/NNG, 결국/MAG, 하드/...\n",
              "2719    [취임/NNG, 효과/NNG, 보/VV, 조사/NNG, 자료/NNG, 고객/NNG,...\n",
              "Name: content, dtype: object"
            ]
          },
          "metadata": {
            "tags": []
          },
          "execution_count": 56
        }
      ]
    },
    {
      "cell_type": "code",
      "metadata": {
        "id": "CQdfILQ2Flt3",
        "outputId": "7cb71259-6430-4eaf-ec56-094cd0dd6075"
      },
      "source": [
        "data[\"content\"][2730:2740].drop(2738).apply(text2ngram)"
      ],
      "execution_count": null,
      "outputs": [
        {
          "output_type": "execute_result",
          "data": {
            "text/plain": [
              "2730    [학습효과/NNG, 선반영/NNG, 되/VV, 크레딧/NNG, 시장/NNG, 발행시...\n",
              "2731    [매크로/NNG, 예상/NNG, 동결/NNG, 채권/NNG, 전병/NNG, 하/XS...\n",
              "2732    [fed/NNG, 매크로/NNG, fed/NNG, 물가/NNG, 경기/NNG, 확인...\n",
              "2733    [발행물/NNG, 매력/NNG, 관심/NNG, 발행물/NNG, 매력/NNG, 관심/...\n",
              "2734    [전병/NNG, 하/XSV, 분석/NNG, 유로존/NNG, 금리/NNG, 안정/NN...\n",
              "2735    [fed/NNG, 재투자/NNG, 중단/NNG, 노이즈/NNG, 높/VA, 물가/N...\n",
              "2736    [레벨/NNG, 부담/NNG, 축소/NNG, 지속/NNG, 발행시장/NNG, 호조/...\n",
              "2737    [법/NNG, 폐지/NNG, 가져오/VV, 광범위/NNG, 변화/NNG, 채권/NN...\n",
              "2739    [고개/NNG, 드/VV, 위험/NNG, 정치/NNG, 불확실성/NNG, 각국/NN...\n",
              "Name: content, dtype: object"
            ]
          },
          "metadata": {
            "tags": []
          },
          "execution_count": 57
        }
      ]
    },
    {
      "cell_type": "code",
      "metadata": {
        "id": "iRoeAMpSFlt6",
        "outputId": "a9cad4b6-b495-4a1e-881d-d0212f3acf23"
      },
      "source": [
        "data[\"content\"][2830:2840].drop(2836).apply(text2ngram)"
      ],
      "execution_count": null,
      "outputs": [
        {
          "output_type": "execute_result",
          "data": {
            "text/plain": [
              "2830    [채권/NNG, 크레딧/NNG, 국가채무비중/NNG, 출범/NNG, 채권시장/NNG...\n",
              "2831    [탄핵/NNG, 위험/NNG, 적정/NNG, 금리/NNG, 추정/NNG, 채권/NN...\n",
              "2832    [마무리/NNG, 구간/NNG, 위험관리/NNG, 모드/NNG, 금리/NNG, 하락...\n",
              "2833    [전병/NNG, 하/XSV, 분석/NNG, 정치/NNG, 스캔들/NNG, 정치/NN...\n",
              "2834    [채권/NNG, 이슈/NNG, 물가채/NNG, 점검/NNG, 동향/NNG, 채권시장...\n",
              "2835    [치킨/NNG, 채권/NNG, 보/VV, 조사/NNG, 자료/NNG, 고객/NNG,...\n",
              "2837    [추가/NNG, 경기/NNG, 전망/NNG, 상향/NNG, 시사/NNG, 그럼에도/...\n",
              "2838    [후순위채/NNG, 르네상스/NNG, 회사채/NNG, 수요예측/NNG, 진행/NNG...\n",
              "2839    [성장률/NNG, 상향/NNG, 시사/NNG, 금리/NNG, 만장일치/NNG, 동결...\n",
              "Name: content, dtype: object"
            ]
          },
          "metadata": {
            "tags": []
          },
          "execution_count": 67
        }
      ]
    },
    {
      "cell_type": "code",
      "metadata": {
        "id": "UuimUz6tFlt-",
        "outputId": "05502cc4-cebd-4f6e-ef74-8a0eff7e0080"
      },
      "source": [
        "data[\"content\"][2980:2990].drop(2985).apply(text2ngram)"
      ],
      "execution_count": null,
      "outputs": [
        {
          "output_type": "execute_result",
          "data": {
            "text/plain": [
              "2980    [앞두/VV, 약화/NNG, 되/XSV, 투자심리/NNG, 발행시장/NNG, 유통시...\n",
              "2981    [은행채/NNG, 가져온/VV, 나비효과/NNG, 보/VV, 조사/NNG, 자료/N...\n",
              "2982    [fed/NNG, 자산/NNG, 축소/NNG, 실시/NNG, 금리/NNG, 인상/N...\n",
              "2983    [fed/NNG, fed/NNG, 인상/NNG, 장기전/NNG, 망치/NNG, 하향...\n",
              "2984    [크레딧/NNG, 투자전략/NNG, 신용/NNG, 분석/NNG, 크레딧/NNG, 시...\n",
              "2986    [발행시장/NNG, 부진/NNG, 발행시장/NNG, 저하/NNG, 되/VV, 투자심...\n",
              "2987    [매크로/NNG, 중의원/NNG, 해산/NNG, 선거/NNG, 정국/NNG, 돌입/...\n",
              "2988    [규제/NNG, 강화/NNG, 단기자금시장/NNG, 영향/NNG, 채권/NNG, 보...\n",
              "2989    [모드/NNG, 진입/NNG, 하/VV, 판단/NNG, 보/VV, 조사/NNG, 자...\n",
              "Name: content, dtype: object"
            ]
          },
          "metadata": {
            "tags": []
          },
          "execution_count": 71
        }
      ]
    },
    {
      "cell_type": "code",
      "metadata": {
        "id": "_4qULwzIFluB"
      },
      "source": [
        ""
      ],
      "execution_count": null,
      "outputs": []
    }
  ]
}