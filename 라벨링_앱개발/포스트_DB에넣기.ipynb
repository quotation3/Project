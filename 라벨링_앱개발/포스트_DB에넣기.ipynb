{
 "cells": [
  {
   "cell_type": "code",
   "execution_count": 1,
   "metadata": {},
   "outputs": [
    {
     "data": {
      "text/plain": [
       "['C:\\\\Users\\\\user\\\\Desktop\\\\전처리데이터\\\\post\\\\isipdae.csv',\n",
       " 'C:\\\\Users\\\\user\\\\Desktop\\\\전처리데이터\\\\post\\\\isipdae_nam.csv',\n",
       " 'C:\\\\Users\\\\user\\\\Desktop\\\\전처리데이터\\\\post\\\\isipdae_yeo.csv',\n",
       " 'C:\\\\Users\\\\user\\\\Desktop\\\\전처리데이터\\\\post\\\\samsipdae.csv',\n",
       " 'C:\\\\Users\\\\user\\\\Desktop\\\\전처리데이터\\\\post\\\\sasipdae.csv',\n",
       " 'C:\\\\Users\\\\user\\\\Desktop\\\\전처리데이터\\\\post\\\\sipdae.csv',\n",
       " 'C:\\\\Users\\\\user\\\\Desktop\\\\전처리데이터\\\\post\\\\sipdae_nam.csv',\n",
       " 'C:\\\\Users\\\\user\\\\Desktop\\\\전처리데이터\\\\post\\\\sipdae_yeo.csv']"
      ]
     },
     "execution_count": 1,
     "metadata": {},
     "output_type": "execute_result"
    }
   ],
   "source": [
    "# 폴더 내 파일을 모두 불러옴(생략가능)\n",
    "import glob\n",
    "\n",
    "post_path = \"C:\\\\Users\\\\user\\\\Desktop\\\\전처리데이터\\\\post\\\\*\"\n",
    "post_file_list = glob.glob(post_path)\n",
    "post_file_list"
   ]
  },
  {
   "cell_type": "code",
   "execution_count": 4,
   "metadata": {},
   "outputs": [
    {
     "name": "stdout",
     "output_type": "stream",
     "text": [
      "Collecting pymysql\n",
      "  Downloading PyMySQL-0.10.1-py2.py3-none-any.whl (47 kB)\n",
      "Installing collected packages: pymysql\n",
      "Successfully installed pymysql-0.10.1\n",
      "Note: you may need to restart the kernel to use updated packages.\n"
     ]
    }
   ],
   "source": [
    "pip install pymysql"
   ]
  },
  {
   "cell_type": "code",
   "execution_count": 82,
   "metadata": {},
   "outputs": [],
   "source": [
    "# 파일을 데이터프레임으로 불러옴\n",
    "import pandas as pd\n",
    "\n",
    "post_data = pd.read_csv(post_file_list[7])"
   ]
  },
  {
   "cell_type": "code",
   "execution_count": 83,
   "metadata": {},
   "outputs": [],
   "source": [
    "post_data['crawling_time']=post_data['crawling_time'].str[0:10]+post_data['crawling_time'].str[-14:-5]"
   ]
  },
  {
   "cell_type": "code",
   "execution_count": 84,
   "metadata": {},
   "outputs": [],
   "source": [
    "from datetime import datetime, timedelta\n",
    "post_data['crawling_time'] = pd.to_datetime(post_data['crawling_time'], format=\"%Y-%m-%d %H:%M:%S\")"
   ]
  },
  {
   "cell_type": "code",
   "execution_count": 50,
   "metadata": {},
   "outputs": [],
   "source": [
    "# Python2DB class\n",
    "import pymysql\n",
    "\n",
    "\n",
    "class Python2DB():\n",
    "    def __init__(self):\n",
    "        self.WL_DB = pymysql.connect(host='220.90.200.176',\n",
    "                                     port=3306,\n",
    "                                     user='multi',\n",
    "                                     passwd='multi!)@(',\n",
    "                                     db = 'SocialAnalysis',\n",
    "                                     charset='utf8')\n",
    "        self.cursor = self.WL_DB.cursor()\n",
    "        \n",
    "    def select(self, table, column):\n",
    "        sql_qr = \"\"\"\n",
    "            SELECT {0} FROM {1}\n",
    "        \"\"\".format(column, table)\n",
    "        self.cursor.execute(sql_qr)\n",
    "        return self.cursor.fetchall()\n",
    "\n",
    "    def insert(self, table, columns, values):\n",
    "        sql_qr2 = \"\"\"\n",
    "            INSERT INTO {0}({1})\n",
    "            VALUES ({2})\n",
    "        \"\"\".format(table, columns, values)\n",
    "        self.cursor.execute(sql_qr2)\n",
    "        self.WL_DB.commit()\n",
    "\n",
    "    def update(self, table, set_content, where_content):\n",
    "        sql_qr3 = \"\"\"\n",
    "            UPDATE {0}\n",
    "            SET {1}\n",
    "            WHERE {2}\n",
    "        \"\"\".format(table, set_content, where_content)\n",
    "        self.cursor.execute(sql_qr3)\n",
    "        self.WL_DB.commit()\n",
    "\n",
    "    def delete(self, table, where_content):\n",
    "        sql_qr4 = \"\"\"\n",
    "            DELETE FROM {0} WHERE {1}\n",
    "        \"\"\".format(table, where_content)\n",
    "        self.cursor.execute(sql_qr4)\n",
    "        self.WL_DB.commit()"
   ]
  },
  {
   "cell_type": "code",
   "execution_count": 86,
   "metadata": {},
   "outputs": [
    {
     "name": "stdout",
     "output_type": "stream",
     "text": [
      "error = \"B-r6ttXhJ-W\", \"11135851667\", \"2020-04-08 01:23:05\", \"2020-09-16 19:03:03\", \"32\", \"0\", \"https://www.instagram.com/p/B-r6ttXhJ-W\", \"https://instagram.ficn6-1.fna.fbcdn.net/v/t51.2885-15/e35/s1080x1080/92343891_643767966480054_4910339308493487861_n.jpg?_nc_ht=instagram.ficn6-1.fna.fbcdn.net&_nc_cat=106&_nc_ohc=BkjimD_WZlsAX8vH5Yt&_nc_tp=15&oh=d6de8d6e6fbd1601abb8bbfd5b1338a9&oe=5F89F4ED\", \"신이난당 재미난당 \\*^_^*/+_+\\\", \"순천시 연향동\", \"\", 1\n",
      "error = \"4eXBkPK2FZ\", \"1755412775\", \"2015-06-28 22:23:30\", \"2020-09-17 00:29:29\", \"9\", \"0\", \"https://www.instagram.com/p/4eXBkPK2FZ\", \"https://instagram.ficn6-1.fna.fbcdn.net/v/t51.2885-15/e15/11330603_1098297563518080_358287711_n.jpg?_nc_ht=instagram.ficn6-1.fna.fbcdn.net&_nc_cat=100&_nc_ohc=DIAdt9t7MuwAX-eS0Cj&_nc_tp=18&oh=b6afea59f32876043a3d4404f021a5d3&oe=5F8C4EC0\", \"#물 위 레스토랑 #시크릿가든 #스테이크 #맛남 #한강에서 #분위기짱짱 #송어파스타 #고르곤졸라 #프로포즈 장소 #야경 #한강데이트 #잠실 #나름 물위에 떠 서 식사하는거 찍고싶고 야경도 찍고 싶고 비춤의 미학을 나타내 보았다 ㅎ\", \"한강 \"시크릿가든\" 선상레스토랑\", \"   시크릿가든   스테이크   맛남   한강에서   분위기짱짱   송어파스타   고르곤졸라   프로포즈   야경   한강데이트   잠실   나름\", 1\n",
      "error = \"B0BMQUqJ0QE\", \"2603514350\", \"2019-07-17 21:55:04\", \"2020-09-17 01:08:39\", \"25\", \"0\", \"https://www.instagram.com/p/B0BMQUqJ0QE\", \"https://instagram.ficn6-1.fna.fbcdn.net/v/t51.2885-15/e35/s1080x1080/65614231_587422811784471_7501628599609291949_n.jpg?_nc_ht=instagram.ficn6-1.fna.fbcdn.net&_nc_cat=103&_nc_ohc=WFLQiDH-iKUAX_Fe4Xv&_nc_tp=15&oh=f21ffee5997e5f85bb464785086c7b67&oe=5F8D2441\", \"동아리 발표회\n",
      ".\n",
      ".\n",
      ".\n",
      ".\n",
      "#유투버 #봤다 #페이스페인팅 #양은제가해줌 #밴드부 #짱짱 #동아리 #동발 #동아리발표회 #건축학개론 #우리모둠껀 #어디로갔을까 #두정고 #천안 #두정동 #고등학생 #고1\", \"F.U.C.K.....!!!!!\"!\"\"\"\"\"!!!!!!\", \"투버   봤다   페이스페인팅   양은제가해줌   밴드부   짱짱   동아리   동발   동아리발표회   건축학개론   우리모둠껀   어디로갔을까   두정고   천안   두정동   고등학생   고1\", 1\n"
     ]
    }
   ],
   "source": [
    "import re\n",
    "\n",
    "db_class = Python2DB()  # 클래스 객체 선언\n",
    "post_data_list = []  # 데이터 확인을 위한 리스트 선언\n",
    "EMOJI = re.compile('[\\U00010000-\\U0010ffff]', flags=re.UNICODE)  # 이모티콘 제거를 위한 EMOJI 변수\n",
    "\n",
    "for i in range(len(post_data)):  # 데이터프레임의 크기만큼 돌게 설정\n",
    "    \n",
    "    # 각 데이터 전처리\n",
    "    if(str(post_data['like_count'][i]) != 'nan'):\n",
    "        like_count = int(post_data['like_count'][i])\n",
    "    else:\n",
    "        like_count = 0\n",
    "        \n",
    "    if(str(post_data['view_count'][i]) != 'nan'):  # 리스트로 저장된 여러 미디어의 view_count중 맨 앞 미디어의 view카운트를 저장(기준 view_count만 저장)\n",
    "        try:\n",
    "            view_count = int(re.findall('(?<=\\[)[1-9]\\w+', post_data['view_count'][i])[0])\n",
    "        except:\n",
    "            view_count = 0\n",
    "    else:\n",
    "        view_count = 0\n",
    "        \n",
    "    if(str(post_data['media_url'][i]) != 'nan'):\n",
    "        media_url = post_data['media_url'][i].replace(',', '  ')\n",
    "    else:\n",
    "        media_url = ''\n",
    "    \n",
    "    if(str(post_data['content'][i]) != 'nan'):  # 이모티콘 제거 및 전처리 후 1000자까지만 저장\n",
    "        content = EMOJI.sub(r'', post_data['content'][i]).replace(',', '  ').replace('\"', '').replace(\"'\", \"\")[:1000]\n",
    "    else:\n",
    "        content = ''\n",
    "        \n",
    "    if(str(post_data['region_tag'][i]) != 'nan'):\n",
    "        region_tag = EMOJI.sub(r'', post_data['region_tag'][i])\n",
    "    else:\n",
    "        region_tag = ''\n",
    "        \n",
    "        \n",
    "    if(str(post_data['hashtag'][i]) != 'nan'): # 이모티콘 제거 및 전처리 후 1000자까지만 저장\n",
    "        hashtag = EMOJI.sub(r'', post_data['hashtag'][i].replace(' #', '  ')[1:]).replace(',', '  ').replace('\"', '').replace(\"'\", \"\")[:1000]\n",
    "    else:\n",
    "        hashtag = ''\n",
    "        \n",
    "    post_data_list.append(\n",
    "        {\"inner_id\": str(post_data['inner_id'][i]),\n",
    "         \"post_date\": post_data['post_date'][i],\n",
    "         \"crawling_time\": post_data['crawling_time'][i],\n",
    "         \"like_count\": like_count,\n",
    "         \"view_count\" : view_count,\n",
    "         \"url\" : post_data['url'][i].replace(',', '  '),\n",
    "         \"shortcode\" : post_data['shortcode'][i],\n",
    "         \"media_url\" : media_url,\n",
    "         \"content\" : content,\n",
    "         \"region_tag\" : region_tag,\n",
    "         \"hashtag\" : hashtag,\n",
    "         \"team_idx\" : post_data['team_idx'][i],\n",
    "        })\n",
    "    try:\n",
    "        db_class.insert('POST_1', 'shortcode, inner_id, post_date, crawling_time, like_count, view_count, url, media_url,content, region_tag, hashtag, team_idx',\n",
    "               '\"{}\", \"{}\", \"{}\", \"{}\", \"{}\", \"{}\", \"{}\", \"{}\", \"{}\", \"{}\", \"{}\", {}'.format(\n",
    "                   post_data['shortcode'][i], str(post_data['inner_id'][i]), post_data['post_date'][i], post_data['crawling_time'][i], like_count, view_count, \n",
    "                   post_data['url'][i].replace(',', '  '), media_url,\n",
    "                   content, region_tag, hashtag, post_data['team_idx'][i]\n",
    "               ))\n",
    "    except:\n",
    "        print(\"error = \" + '\"{}\", \"{}\", \"{}\", \"{}\", \"{}\", \"{}\", \"{}\", \"{}\", \"{}\", \"{}\", \"{}\", {}'.format(\n",
    "                   post_data['shortcode'][i], str(post_data['inner_id'][i]), post_data['post_date'][i], post_data['crawling_time'][i], like_count, view_count, \n",
    "                   post_data['url'][i].replace(',', '  '), media_url,\n",
    "                   content, region_tag, hashtag, post_data['team_idx'][i], post_data['age'][i]))\n",
    "        pass"
   ]
  }
 ],
 "metadata": {
  "kernelspec": {
   "display_name": "Python 3",
   "language": "python",
   "name": "python3"
  },
  "language_info": {
   "codemirror_mode": {
    "name": "ipython",
    "version": 3
   },
   "file_extension": ".py",
   "mimetype": "text/x-python",
   "name": "python",
   "nbconvert_exporter": "python",
   "pygments_lexer": "ipython3",
   "version": "3.8.3"
  }
 },
 "nbformat": 4,
 "nbformat_minor": 4
}
