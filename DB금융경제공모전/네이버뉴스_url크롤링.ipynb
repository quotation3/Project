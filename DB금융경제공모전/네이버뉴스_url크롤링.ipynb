{
 "cells": [
  {
   "cell_type": "code",
   "execution_count": 53,
   "metadata": {},
   "outputs": [],
   "source": [
    "import pandas as pd\n",
    "from datetime import datetime, timedelta, date\n",
    "import requests\n",
    "from bs4 import BeautifulSoup"
   ]
  },
  {
   "cell_type": "code",
   "execution_count": 79,
   "metadata": {},
   "outputs": [],
   "source": [
    "url = requests.get('https://search.naver.com/search.naver?where=news&query=%EC%82%BC%EC%84%B1%EC%A0%84%EC%9E%90&sm=tab_opt&sort=0&photo=0&field=0&reporter_article=&pd=3&ds=2018.01.01&de=2018.01.31&docid=&nso=so%3Ar%2Cp%3Afrom20180101to20180131%2Ca%3Aall&mynews=0&refresh_start=0&related=0')\n",
    "bs =BeautifulSoup(url.text, \"html.parser\")\n",
    "news = bs.select('ul.list_news')"
   ]
  },
  {
   "cell_type": "code",
   "execution_count": 80,
   "metadata": {},
   "outputs": [
    {
     "name": "stdout",
     "output_type": "stream",
     "text": [
      "https://news.naver.com/main/read.nhn?mode=LSD&mid=sec&sid1=101&oid=001&aid=0009849001\n",
      "https://news.naver.com/main/read.nhn?mode=LSD&mid=sec&sid1=101&oid=028&aid=0002397021\n",
      "https://news.naver.com/main/read.nhn?mode=LSD&mid=sec&sid1=101&oid=030&aid=0002680023\n",
      "https://news.naver.com/main/read.nhn?mode=LSD&mid=sec&sid1=101&oid=015&aid=0003887264\n",
      "https://news.naver.com/main/read.nhn?mode=LSD&mid=sec&sid1=101&oid=214&aid=0000802380\n",
      "https://news.naver.com/main/read.nhn?mode=LSD&mid=sec&sid1=101&oid=469&aid=0000274979\n",
      "https://news.naver.com/main/read.nhn?mode=LSD&mid=sec&sid1=101&oid=056&aid=0010540900\n",
      "https://news.naver.com/main/read.nhn?mode=LSD&mid=sec&sid1=105&oid=092&aid=0002130550\n",
      "https://news.naver.com/main/read.nhn?mode=LSD&mid=sec&sid1=101&oid=052&aid=0001112764\n",
      "https://news.naver.com/main/read.nhn?mode=LSD&mid=sec&sid1=101&oid=008&aid=0004001179\n"
     ]
    }
   ],
   "source": [
    "for url in bs.select('ul.list_news div.news_info div a'):\n",
    "    if url.attrs['href'].startswith(\"https://news.naver.com\"):\n",
    "        print(url.attrs['href'])"
   ]
  },
  {
   "cell_type": "code",
   "execution_count": 13,
   "metadata": {},
   "outputs": [
    {
     "data": {
      "text/plain": [
       "'true'"
      ]
     },
     "execution_count": 13,
     "metadata": {},
     "output_type": "execute_result"
    }
   ],
   "source": [
    "url_format = 'https://search.naver.com/search.naver?&where=news&query=삼성전자&sm=tab_pge&sort=0&photo=0&field=0&reporter_article=&pd=3&ds=2019.01.01&de=2019.01.01&docid=&nso=so:r,p:from20190101to20190101,a:all&mynews=0&cluster_rank=34&start=360'\n",
    "url = requests.get(url_format)\n",
    "bs =BeautifulSoup(url.text, \"html.parser\")\n",
    "num = bs.select('div.sc_page_inner')\n",
    "news = bs.select('ul.list_news')\n",
    "num[0].select('a')[9].attrs['aria-pressed']"
   ]
  },
  {
   "cell_type": "markdown",
   "metadata": {},
   "source": [
    "마지막페이지까지 긁기"
   ]
  },
  {
   "cell_type": "code",
   "execution_count": 14,
   "metadata": {},
   "outputs": [
    {
     "name": "stdout",
     "output_type": "stream",
     "text": [
      "https://search.naver.com/search.naver?&where=news&query=삼성전자&sm=tab_pge&sort=0&photo=0&field=0&reporter_article=&pd=3&ds=2019.01.01&de=2019.01.01&docid=&nso=so:r,p:from20190101to20190101,a:all&mynews=0&cluster_rank=34&start=0\n",
      "https://news.naver.com/main/read.nhn?mode=LSD&mid=sec&sid1=102&oid=437&aid=0000199663\n",
      "https://news.naver.com/main/read.nhn?mode=LSD&mid=sec&sid1=101&oid=001&aid=0010555504\n",
      "https://news.naver.com/main/read.nhn?mode=LSD&mid=sec&sid1=101&oid=029&aid=0002500906\n",
      "https://news.naver.com/main/read.nhn?mode=LSD&mid=sec&sid1=105&oid=030&aid=0002771970\n",
      "https://news.naver.com/main/read.nhn?mode=LSD&mid=sec&sid1=101&oid=421&aid=0003764661\n",
      "https://news.naver.com/main/read.nhn?mode=LSD&mid=sec&sid1=101&oid=015&aid=0004071193\n",
      "https://news.naver.com/main/read.nhn?mode=LSD&mid=sec&sid1=004&oid=123&aid=0002197460\n",
      "https://search.naver.com/search.naver?&where=news&query=삼성전자&sm=tab_pge&sort=0&photo=0&field=0&reporter_article=&pd=3&ds=2019.01.01&de=2019.01.01&docid=&nso=so:r,p:from20190101to20190101,a:all&mynews=0&cluster_rank=34&start=10\n",
      "https://news.naver.com/main/read.nhn?mode=LSD&mid=sec&sid1=101&oid=015&aid=0004071334\n",
      "https://news.naver.com/main/read.nhn?mode=LSD&mid=sec&sid1=105&oid=015&aid=0004071321\n",
      "https://news.naver.com/main/read.nhn?mode=LSD&mid=sec&sid1=101&oid=029&aid=0002500801\n",
      "https://news.naver.com/main/read.nhn?mode=LSD&mid=sec&sid1=101&oid=079&aid=0003180772\n",
      "https://news.naver.com/main/read.nhn?mode=LSD&mid=sec&sid1=102&oid=079&aid=0003180857\n",
      "https://news.naver.com/main/read.nhn?mode=LSD&mid=sec&sid1=004&oid=123&aid=0002197460\n",
      "https://news.naver.com/main/read.nhn?mode=LSD&mid=sec&sid1=101&oid=020&aid=0003190440\n",
      "https://search.naver.com/search.naver?&where=news&query=삼성전자&sm=tab_pge&sort=0&photo=0&field=0&reporter_article=&pd=3&ds=2019.01.01&de=2019.01.01&docid=&nso=so:r,p:from20190101to20190101,a:all&mynews=0&cluster_rank=34&start=20\n",
      "https://news.naver.com/main/read.nhn?mode=LSD&mid=sec&sid1=105&oid=030&aid=0002771992\n",
      "https://search.naver.com/search.naver?&where=news&query=삼성전자&sm=tab_pge&sort=0&photo=0&field=0&reporter_article=&pd=3&ds=2019.01.01&de=2019.01.01&docid=&nso=so:r,p:from20190101to20190101,a:all&mynews=0&cluster_rank=34&start=30\n",
      "https://news.naver.com/main/read.nhn?mode=LSD&mid=sec&sid1=105&oid=366&aid=0000423547\n",
      "https://news.naver.com/main/read.nhn?mode=LSD&mid=sec&sid1=101&oid=366&aid=0000423555\n",
      "https://news.naver.com/main/read.nhn?mode=LSD&mid=sec&sid1=101&oid=009&aid=0004281255\n",
      "https://news.naver.com/main/read.nhn?mode=LSD&mid=sec&sid1=101&oid=366&aid=0000423549\n",
      "https://news.naver.com/main/read.nhn?mode=LSD&mid=sec&sid1=105&oid=030&aid=0002771875\n",
      "https://news.naver.com/main/read.nhn?mode=LSD&mid=sec&sid1=105&oid=366&aid=0000423532\n",
      "https://news.naver.com/main/read.nhn?mode=LSD&mid=sec&sid1=102&oid=015&aid=0004071373\n",
      "https://news.naver.com/main/read.nhn?mode=LSD&mid=sec&sid1=101&oid=421&aid=0003764140\n",
      "https://news.naver.com/main/read.nhn?mode=LSD&mid=sec&sid1=101&oid=009&aid=0004281179\n",
      "https://search.naver.com/search.naver?&where=news&query=삼성전자&sm=tab_pge&sort=0&photo=0&field=0&reporter_article=&pd=3&ds=2019.01.01&de=2019.01.01&docid=&nso=so:r,p:from20190101to20190101,a:all&mynews=0&cluster_rank=34&start=40\n",
      "https://news.naver.com/main/read.nhn?mode=LSD&mid=sec&sid1=105&oid=015&aid=0004071106\n",
      "https://news.naver.com/main/read.nhn?mode=LSD&mid=sec&sid1=110&oid=028&aid=0002438030\n",
      "https://news.naver.com/main/read.nhn?mode=LSD&mid=sec&sid1=101&oid=028&aid=0002438029\n",
      "https://news.naver.com/main/read.nhn?mode=LSD&mid=sec&sid1=101&oid=009&aid=0004281258\n",
      "https://news.naver.com/main/read.nhn?mode=LSD&mid=sec&sid1=105&oid=001&aid=0010556569\n",
      "https://news.naver.com/main/read.nhn?mode=LSD&mid=sec&sid1=101&oid=001&aid=0010555569\n",
      "https://news.naver.com/main/read.nhn?mode=LSD&mid=sec&sid1=101&oid=011&aid=0003476808\n",
      "https://news.naver.com/main/read.nhn?mode=LSD&mid=sec&sid1=101&oid=005&aid=0001161030\n",
      "https://news.naver.com/main/read.nhn?mode=LSD&mid=sec&sid1=101&oid=421&aid=0003764048\n",
      "https://search.naver.com/search.naver?&where=news&query=삼성전자&sm=tab_pge&sort=0&photo=0&field=0&reporter_article=&pd=3&ds=2019.01.01&de=2019.01.01&docid=&nso=so:r,p:from20190101to20190101,a:all&mynews=0&cluster_rank=34&start=50\n",
      "https://news.naver.com/main/read.nhn?mode=LSD&mid=sec&sid1=101&oid=366&aid=0000423531\n",
      "https://news.naver.com/main/read.nhn?mode=LSD&mid=sec&sid1=105&oid=022&aid=0003330315\n",
      "https://news.naver.com/main/read.nhn?mode=LSD&mid=sec&sid1=105&oid=138&aid=0002068875\n",
      "https://news.naver.com/main/read.nhn?mode=LSD&mid=sec&sid1=104&oid=001&aid=0010555352\n",
      "https://news.naver.com/main/read.nhn?mode=LSD&mid=sec&sid1=101&oid=009&aid=0004280938\n",
      "https://news.naver.com/main/read.nhn?mode=LSD&mid=sec&sid1=101&oid=081&aid=0002967239\n",
      "https://news.naver.com/main/read.nhn?mode=LSD&mid=sec&sid1=101&oid=029&aid=0002500785\n",
      "https://news.naver.com/main/read.nhn?mode=LSD&mid=sec&sid1=105&oid=015&aid=0004071328\n",
      "https://search.naver.com/search.naver?&where=news&query=삼성전자&sm=tab_pge&sort=0&photo=0&field=0&reporter_article=&pd=3&ds=2019.01.01&de=2019.01.01&docid=&nso=so:r,p:from20190101to20190101,a:all&mynews=0&cluster_rank=34&start=60\n",
      "https://news.naver.com/main/read.nhn?mode=LSD&mid=sec&sid1=105&oid=031&aid=0000476965\n",
      "https://news.naver.com/main/read.nhn?mode=LSD&mid=sec&sid1=101&oid=056&aid=0010656615\n",
      "https://news.naver.com/main/read.nhn?mode=LSD&mid=sec&sid1=102&oid=015&aid=0004071272\n",
      "https://news.naver.com/main/read.nhn?mode=LSD&mid=sec&sid1=101&oid=448&aid=0000262574\n",
      "https://news.naver.com/main/read.nhn?mode=LSD&mid=sec&sid1=102&oid=009&aid=0004281259\n",
      "https://news.naver.com/main/read.nhn?mode=LSD&mid=sec&sid1=101&oid=215&aid=0000721820\n",
      "https://news.naver.com/main/read.nhn?mode=LSD&mid=sec&sid1=101&oid=008&aid=0004153988\n",
      "https://search.naver.com/search.naver?&where=news&query=삼성전자&sm=tab_pge&sort=0&photo=0&field=0&reporter_article=&pd=3&ds=2019.01.01&de=2019.01.01&docid=&nso=so:r,p:from20190101to20190101,a:all&mynews=0&cluster_rank=34&start=70\n",
      "https://news.naver.com/main/read.nhn?mode=LSD&mid=sec&sid1=101&oid=018&aid=0004283419\n",
      "https://news.naver.com/main/read.nhn?mode=LSD&mid=sec&sid1=101&oid=009&aid=0004280995\n",
      "https://news.naver.com/main/read.nhn?mode=LSD&mid=sec&sid1=102&oid=014&aid=0004153263\n",
      "https://news.naver.com/main/read.nhn?mode=LSD&mid=sec&sid1=101&oid=009&aid=0004281249\n",
      "https://news.naver.com/main/read.nhn?mode=LSD&mid=sec&sid1=101&oid=422&aid=0000354478\n",
      "https://news.naver.com/main/read.nhn?mode=LSD&mid=sec&sid1=101&oid=009&aid=0004280989\n",
      "https://news.naver.com/main/read.nhn?mode=LSD&mid=sec&sid1=101&oid=015&aid=0004071109\n",
      "https://search.naver.com/search.naver?&where=news&query=삼성전자&sm=tab_pge&sort=0&photo=0&field=0&reporter_article=&pd=3&ds=2019.01.01&de=2019.01.01&docid=&nso=so:r,p:from20190101to20190101,a:all&mynews=0&cluster_rank=34&start=80\n",
      "https://news.naver.com/main/read.nhn?mode=LSD&mid=sec&sid1=104&oid=009&aid=0004280998\n",
      "https://news.naver.com/main/read.nhn?mode=LSD&mid=sec&sid1=101&oid=009&aid=0004280988\n",
      "https://news.naver.com/main/read.nhn?mode=LSD&mid=sec&sid1=101&oid=009&aid=0004281164\n",
      "https://news.naver.com/main/read.nhn?mode=LSD&mid=sec&sid1=110&oid=023&aid=0003419257\n",
      "https://search.naver.com/search.naver?&where=news&query=삼성전자&sm=tab_pge&sort=0&photo=0&field=0&reporter_article=&pd=3&ds=2019.01.01&de=2019.01.01&docid=&nso=so:r,p:from20190101to20190101,a:all&mynews=0&cluster_rank=34&start=90\n",
      "https://news.naver.com/main/read.nhn?mode=LSD&mid=sec&sid1=102&oid=015&aid=0004071362\n",
      "https://news.naver.com/main/read.nhn?mode=LSD&mid=sec&sid1=105&oid=030&aid=0002771938\n",
      "https://news.naver.com/main/read.nhn?mode=LSD&mid=sec&sid1=105&oid=138&aid=0002068872\n",
      "https://news.naver.com/main/read.nhn?mode=LSD&mid=sec&sid1=101&oid=009&aid=0004280939\n",
      "https://news.naver.com/main/read.nhn?mode=LSD&mid=sec&sid1=110&oid=011&aid=0003476857\n",
      "https://search.naver.com/search.naver?&where=news&query=삼성전자&sm=tab_pge&sort=0&photo=0&field=0&reporter_article=&pd=3&ds=2019.01.01&de=2019.01.01&docid=&nso=so:r,p:from20190101to20190101,a:all&mynews=0&cluster_rank=34&start=100\n",
      "https://news.naver.com/main/read.nhn?mode=LSD&mid=sec&sid1=105&oid=030&aid=0002771992\n",
      "https://news.naver.com/main/read.nhn?mode=LSD&mid=sec&sid1=105&oid=366&aid=0000423547\n",
      "https://news.naver.com/main/read.nhn?mode=LSD&mid=sec&sid1=101&oid=366&aid=0000423555\n",
      "https://news.naver.com/main/read.nhn?mode=LSD&mid=sec&sid1=101&oid=009&aid=0004281255\n",
      "https://news.naver.com/main/read.nhn?mode=LSD&mid=sec&sid1=101&oid=366&aid=0000423549\n",
      "https://search.naver.com/search.naver?&where=news&query=삼성전자&sm=tab_pge&sort=0&photo=0&field=0&reporter_article=&pd=3&ds=2019.01.01&de=2019.01.01&docid=&nso=so:r,p:from20190101to20190101,a:all&mynews=0&cluster_rank=34&start=110\n"
     ]
    },
    {
     "name": "stdout",
     "output_type": "stream",
     "text": [
      "https://news.naver.com/main/read.nhn?mode=LSD&mid=sec&sid1=101&oid=366&aid=0000423555\n",
      "https://news.naver.com/main/read.nhn?mode=LSD&mid=sec&sid1=101&oid=003&aid=0008988483\n",
      "https://news.naver.com/main/read.nhn?mode=LSD&mid=sec&sid1=101&oid=009&aid=0004281255\n",
      "https://news.naver.com/main/read.nhn?mode=LSD&mid=sec&sid1=102&oid=056&aid=0010656456\n",
      "https://news.naver.com/main/read.nhn?mode=LSD&mid=sec&sid1=101&oid=366&aid=0000423549\n",
      "https://news.naver.com/main/read.nhn?mode=LSD&mid=sec&sid1=105&oid=001&aid=0010555633\n",
      "https://news.naver.com/main/read.nhn?mode=LSD&mid=sec&sid1=105&oid=030&aid=0002771875\n",
      "https://news.naver.com/main/read.nhn?mode=LSD&mid=sec&sid1=105&oid=366&aid=0000423532\n",
      "https://news.naver.com/main/read.nhn?mode=LSD&mid=sec&sid1=102&oid=015&aid=0004071373\n",
      "https://news.naver.com/main/read.nhn?mode=LSD&mid=sec&sid1=101&oid=003&aid=0008988371\n",
      "https://search.naver.com/search.naver?&where=news&query=삼성전자&sm=tab_pge&sort=0&photo=0&field=0&reporter_article=&pd=3&ds=2019.01.01&de=2019.01.01&docid=&nso=so:r,p:from20190101to20190101,a:all&mynews=0&cluster_rank=34&start=120\n",
      "https://news.naver.com/main/read.nhn?mode=LSD&mid=sec&sid1=101&oid=366&aid=0000423549\n",
      "https://news.naver.com/main/read.nhn?mode=LSD&mid=sec&sid1=105&oid=001&aid=0010555633\n",
      "https://news.naver.com/main/read.nhn?mode=LSD&mid=sec&sid1=105&oid=030&aid=0002771875\n",
      "https://news.naver.com/main/read.nhn?mode=LSD&mid=sec&sid1=105&oid=366&aid=0000423532\n",
      "https://news.naver.com/main/read.nhn?mode=LSD&mid=sec&sid1=102&oid=015&aid=0004071373\n",
      "https://news.naver.com/main/read.nhn?mode=LSD&mid=sec&sid1=101&oid=003&aid=0008988371\n",
      "https://news.naver.com/main/read.nhn?mode=LSD&mid=sec&sid1=101&oid=421&aid=0003764140\n",
      "https://news.naver.com/main/read.nhn?mode=LSD&mid=sec&sid1=101&oid=009&aid=0004281179\n",
      "https://news.naver.com/main/read.nhn?mode=LSD&mid=sec&sid1=105&oid=015&aid=0004071106\n",
      "https://search.naver.com/search.naver?&where=news&query=삼성전자&sm=tab_pge&sort=0&photo=0&field=0&reporter_article=&pd=3&ds=2019.01.01&de=2019.01.01&docid=&nso=so:r,p:from20190101to20190101,a:all&mynews=0&cluster_rank=34&start=130\n",
      "https://news.naver.com/main/read.nhn?mode=LSD&mid=sec&sid1=101&oid=031&aid=0000476970\n",
      "https://news.naver.com/main/read.nhn?mode=LSD&mid=sec&sid1=105&oid=277&aid=0004386000\n",
      "https://news.naver.com/main/read.nhn?mode=LSD&mid=sec&sid1=102&oid=015&aid=0004071373\n",
      "https://news.naver.com/main/read.nhn?mode=LSD&mid=sec&sid1=101&oid=003&aid=0008988371\n",
      "https://news.naver.com/main/read.nhn?mode=LSD&mid=sec&sid1=101&oid=421&aid=0003764140\n",
      "https://news.naver.com/main/read.nhn?mode=LSD&mid=sec&sid1=101&oid=009&aid=0004281179\n",
      "https://news.naver.com/main/read.nhn?mode=LSD&mid=sec&sid1=105&oid=015&aid=0004071106\n",
      "https://news.naver.com/main/read.nhn?mode=LSD&mid=sec&sid1=110&oid=028&aid=0002438030\n",
      "https://news.naver.com/main/read.nhn?mode=LSD&mid=sec&sid1=102&oid=022&aid=0003330407\n",
      "https://news.naver.com/main/read.nhn?mode=LSD&mid=sec&sid1=101&oid=028&aid=0002438029\n",
      "https://search.naver.com/search.naver?&where=news&query=삼성전자&sm=tab_pge&sort=0&photo=0&field=0&reporter_article=&pd=3&ds=2019.01.01&de=2019.01.01&docid=&nso=so:r,p:from20190101to20190101,a:all&mynews=0&cluster_rank=34&start=140\n",
      "https://news.naver.com/main/read.nhn?mode=LSD&mid=sec&sid1=101&oid=421&aid=0003764140\n",
      "https://news.naver.com/main/read.nhn?mode=LSD&mid=sec&sid1=101&oid=009&aid=0004281179\n",
      "https://news.naver.com/main/read.nhn?mode=LSD&mid=sec&sid1=105&oid=015&aid=0004071106\n",
      "https://news.naver.com/main/read.nhn?mode=LSD&mid=sec&sid1=110&oid=028&aid=0002438030\n",
      "https://news.naver.com/main/read.nhn?mode=LSD&mid=sec&sid1=102&oid=022&aid=0003330407\n",
      "https://news.naver.com/main/read.nhn?mode=LSD&mid=sec&sid1=101&oid=028&aid=0002438029\n",
      "https://news.naver.com/main/read.nhn?mode=LSD&mid=sec&sid1=101&oid=009&aid=0004281258\n",
      "https://news.naver.com/main/read.nhn?mode=LSD&mid=sec&sid1=105&oid=018&aid=0004283391\n",
      "https://search.naver.com/search.naver?&where=news&query=삼성전자&sm=tab_pge&sort=0&photo=0&field=0&reporter_article=&pd=3&ds=2019.01.01&de=2019.01.01&docid=&nso=so:r,p:from20190101to20190101,a:all&mynews=0&cluster_rank=34&start=150\n",
      "https://news.naver.com/main/read.nhn?mode=LSD&mid=sec&sid1=102&oid=022&aid=0003330407\n",
      "https://news.naver.com/main/read.nhn?mode=LSD&mid=sec&sid1=101&oid=119&aid=0002302919\n",
      "https://news.naver.com/main/read.nhn?mode=LSD&mid=sec&sid1=101&oid=028&aid=0002438029\n",
      "https://news.naver.com/main/read.nhn?mode=LSD&mid=sec&sid1=101&oid=029&aid=0002500907\n",
      "https://news.naver.com/main/read.nhn?mode=LSD&mid=sec&sid1=101&oid=009&aid=0004281258\n",
      "https://news.naver.com/main/read.nhn?mode=LSD&mid=sec&sid1=105&oid=018&aid=0004283391\n",
      "https://news.naver.com/main/read.nhn?mode=LSD&mid=sec&sid1=102&oid=003&aid=0008988386\n",
      "https://news.naver.com/main/read.nhn?mode=LSD&mid=sec&sid1=105&oid=001&aid=0010556569\n",
      "https://news.naver.com/main/read.nhn?mode=LSD&mid=sec&sid1=101&oid=001&aid=0010555569\n",
      "https://search.naver.com/search.naver?&where=news&query=삼성전자&sm=tab_pge&sort=0&photo=0&field=0&reporter_article=&pd=3&ds=2019.01.01&de=2019.01.01&docid=&nso=so:r,p:from20190101to20190101,a:all&mynews=0&cluster_rank=34&start=160\n",
      "https://news.naver.com/main/read.nhn?mode=LSD&mid=sec&sid1=101&oid=009&aid=0004281258\n",
      "https://news.naver.com/main/read.nhn?mode=LSD&mid=sec&sid1=105&oid=018&aid=0004283391\n",
      "https://news.naver.com/main/read.nhn?mode=LSD&mid=sec&sid1=102&oid=003&aid=0008988386\n",
      "https://news.naver.com/main/read.nhn?mode=LSD&mid=sec&sid1=101&oid=008&aid=0004153991\n",
      "https://news.naver.com/main/read.nhn?mode=LSD&mid=sec&sid1=105&oid=001&aid=0010556569\n",
      "https://news.naver.com/main/read.nhn?mode=LSD&mid=sec&sid1=101&oid=001&aid=0010555569\n",
      "https://news.naver.com/main/read.nhn?mode=LSD&mid=sec&sid1=101&oid=011&aid=0003476808\n",
      "https://news.naver.com/main/read.nhn?mode=LSD&mid=sec&sid1=101&oid=005&aid=0001161030\n",
      "https://search.naver.com/search.naver?&where=news&query=삼성전자&sm=tab_pge&sort=0&photo=0&field=0&reporter_article=&pd=3&ds=2019.01.01&de=2019.01.01&docid=&nso=so:r,p:from20190101to20190101,a:all&mynews=0&cluster_rank=34&start=170\n",
      "https://news.naver.com/main/read.nhn?mode=LSD&mid=sec&sid1=101&oid=005&aid=0001161030\n",
      "https://news.naver.com/main/read.nhn?mode=LSD&mid=sec&sid1=101&oid=421&aid=0003764048\n",
      "https://news.naver.com/main/read.nhn?mode=LSD&mid=sec&sid1=101&oid=366&aid=0000423531\n",
      "https://news.naver.com/main/read.nhn?mode=LSD&mid=sec&sid1=105&oid=022&aid=0003330315\n",
      "https://news.naver.com/main/read.nhn?mode=LSD&mid=sec&sid1=105&oid=138&aid=0002068875\n",
      "https://news.naver.com/main/read.nhn?mode=LSD&mid=sec&sid1=104&oid=001&aid=0010555352\n",
      "https://news.naver.com/main/read.nhn?mode=LSD&mid=sec&sid1=101&oid=009&aid=0004280938\n",
      "https://search.naver.com/search.naver?&where=news&query=삼성전자&sm=tab_pge&sort=0&photo=0&field=0&reporter_article=&pd=3&ds=2019.01.01&de=2019.01.01&docid=&nso=so:r,p:from20190101to20190101,a:all&mynews=0&cluster_rank=34&start=180\n",
      "https://news.naver.com/main/read.nhn?mode=LSD&mid=sec&sid1=102&oid=469&aid=0000353803\n",
      "https://news.naver.com/main/read.nhn?mode=LSD&mid=sec&sid1=105&oid=015&aid=0004071209\n",
      "https://news.naver.com/main/read.nhn?mode=LSD&mid=sec&sid1=101&oid=081&aid=0002967239\n",
      "https://news.naver.com/main/read.nhn?mode=LSD&mid=sec&sid1=101&oid=029&aid=0002500785\n",
      "https://news.naver.com/main/read.nhn?mode=LSD&mid=sec&sid1=105&oid=015&aid=0004071328\n",
      "https://news.naver.com/main/read.nhn?mode=LSD&mid=sec&sid1=105&oid=031&aid=0000476965\n",
      "https://search.naver.com/search.naver?&where=news&query=삼성전자&sm=tab_pge&sort=0&photo=0&field=0&reporter_article=&pd=3&ds=2019.01.01&de=2019.01.01&docid=&nso=so:r,p:from20190101to20190101,a:all&mynews=0&cluster_rank=34&start=190\n",
      "https://news.naver.com/main/read.nhn?mode=LSD&mid=sec&sid1=105&oid=015&aid=0004071328\n",
      "https://news.naver.com/main/read.nhn?mode=LSD&mid=sec&sid1=105&oid=031&aid=0000476965\n",
      "https://news.naver.com/main/read.nhn?mode=LSD&mid=sec&sid1=102&oid=055&aid=0000700267\n",
      "https://news.naver.com/main/read.nhn?mode=LSD&mid=sec&sid1=101&oid=056&aid=0010656615\n",
      "https://news.naver.com/main/read.nhn?mode=LSD&mid=sec&sid1=101&oid=009&aid=0004281021\n",
      "https://news.naver.com/main/read.nhn?mode=LSD&mid=sec&sid1=102&oid=015&aid=0004071272\n",
      "https://news.naver.com/main/read.nhn?mode=LSD&mid=sec&sid1=101&oid=448&aid=0000262574\n",
      "https://news.naver.com/main/read.nhn?mode=LSD&mid=sec&sid1=101&oid=015&aid=0004071337\n",
      "https://news.naver.com/main/read.nhn?mode=LSD&mid=sec&sid1=101&oid=029&aid=0002500803\n",
      "https://search.naver.com/search.naver?&where=news&query=삼성전자&sm=tab_pge&sort=0&photo=0&field=0&reporter_article=&pd=3&ds=2019.01.01&de=2019.01.01&docid=&nso=so:r,p:from20190101to20190101,a:all&mynews=0&cluster_rank=34&start=200\n"
     ]
    },
    {
     "name": "stdout",
     "output_type": "stream",
     "text": [
      "https://news.naver.com/main/read.nhn?mode=LSD&mid=sec&sid1=101&oid=015&aid=0004071337\n",
      "https://news.naver.com/main/read.nhn?mode=LSD&mid=sec&sid1=101&oid=029&aid=0002500803\n",
      "https://news.naver.com/main/read.nhn?mode=LSD&mid=sec&sid1=101&oid=009&aid=0004280992\n",
      "https://news.naver.com/main/read.nhn?mode=LSD&mid=sec&sid1=102&oid=009&aid=0004281259\n",
      "https://news.naver.com/main/read.nhn?mode=LSD&mid=sec&sid1=101&oid=215&aid=0000721820\n",
      "https://news.naver.com/main/read.nhn?mode=LSD&mid=sec&sid1=101&oid=008&aid=0004153988\n",
      "https://search.naver.com/search.naver?&where=news&query=삼성전자&sm=tab_pge&sort=0&photo=0&field=0&reporter_article=&pd=3&ds=2019.01.01&de=2019.01.01&docid=&nso=so:r,p:from20190101to20190101,a:all&mynews=0&cluster_rank=34&start=210\n",
      "https://news.naver.com/main/read.nhn?mode=LSD&mid=sec&sid1=101&oid=215&aid=0000721820\n",
      "https://news.naver.com/main/read.nhn?mode=LSD&mid=sec&sid1=101&oid=008&aid=0004153988\n",
      "https://news.naver.com/main/read.nhn?mode=LSD&mid=sec&sid1=101&oid=018&aid=0004283419\n",
      "https://news.naver.com/main/read.nhn?mode=LSD&mid=sec&sid1=102&oid=018&aid=0004283017\n",
      "https://news.naver.com/main/read.nhn?mode=LSD&mid=sec&sid1=101&oid=009&aid=0004280995\n",
      "https://search.naver.com/search.naver?&where=news&query=삼성전자&sm=tab_pge&sort=0&photo=0&field=0&reporter_article=&pd=3&ds=2019.01.01&de=2019.01.01&docid=&nso=so:r,p:from20190101to20190101,a:all&mynews=0&cluster_rank=34&start=220\n",
      "https://news.naver.com/main/read.nhn?mode=LSD&mid=sec&sid1=101&oid=009&aid=0004280995\n",
      "https://news.naver.com/main/read.nhn?mode=LSD&mid=sec&sid1=102&oid=014&aid=0004153263\n",
      "https://news.naver.com/main/read.nhn?mode=LSD&mid=sec&sid1=101&oid=056&aid=0010656618\n",
      "https://news.naver.com/main/read.nhn?mode=LSD&mid=sec&sid1=101&oid=009&aid=0004281249\n",
      "https://news.naver.com/main/read.nhn?mode=LSD&mid=sec&sid1=101&oid=422&aid=0000354478\n",
      "https://news.naver.com/main/read.nhn?mode=LSD&mid=sec&sid1=101&oid=009&aid=0004280989\n",
      "https://search.naver.com/search.naver?&where=news&query=삼성전자&sm=tab_pge&sort=0&photo=0&field=0&reporter_article=&pd=3&ds=2019.01.01&de=2019.01.01&docid=&nso=so:r,p:from20190101to20190101,a:all&mynews=0&cluster_rank=34&start=230\n",
      "https://news.naver.com/main/read.nhn?mode=LSD&mid=sec&sid1=101&oid=009&aid=0004280989\n",
      "https://news.naver.com/main/read.nhn?mode=LSD&mid=sec&sid1=101&oid=015&aid=0004071109\n",
      "https://news.naver.com/main/read.nhn?mode=LSD&mid=sec&sid1=104&oid=009&aid=0004280998\n",
      "https://news.naver.com/main/read.nhn?mode=LSD&mid=sec&sid1=101&oid=009&aid=0004280988\n",
      "https://news.naver.com/main/read.nhn?mode=LSD&mid=sec&sid1=101&oid=003&aid=0008988348\n",
      "https://search.naver.com/search.naver?&where=news&query=삼성전자&sm=tab_pge&sort=0&photo=0&field=0&reporter_article=&pd=3&ds=2019.01.01&de=2019.01.01&docid=&nso=so:r,p:from20190101to20190101,a:all&mynews=0&cluster_rank=34&start=240\n",
      "https://news.naver.com/main/read.nhn?mode=LSD&mid=sec&sid1=101&oid=009&aid=0004281164\n",
      "https://news.naver.com/main/read.nhn?mode=LSD&mid=sec&sid1=110&oid=023&aid=0003419257\n",
      "https://news.naver.com/main/read.nhn?mode=LSD&mid=sec&sid1=102&oid=015&aid=0004071362\n",
      "https://news.naver.com/main/read.nhn?mode=LSD&mid=sec&sid1=105&oid=030&aid=0002771938\n",
      "https://search.naver.com/search.naver?&where=news&query=삼성전자&sm=tab_pge&sort=0&photo=0&field=0&reporter_article=&pd=3&ds=2019.01.01&de=2019.01.01&docid=&nso=so:r,p:from20190101to20190101,a:all&mynews=0&cluster_rank=34&start=250\n",
      "https://news.naver.com/main/read.nhn?mode=LSD&mid=sec&sid1=105&oid=030&aid=0002771938\n",
      "https://news.naver.com/main/read.nhn?mode=LSD&mid=sec&sid1=105&oid=138&aid=0002068872\n",
      "https://news.naver.com/main/read.nhn?mode=LSD&mid=sec&sid1=101&oid=009&aid=0004280939\n",
      "https://search.naver.com/search.naver?&where=news&query=삼성전자&sm=tab_pge&sort=0&photo=0&field=0&reporter_article=&pd=3&ds=2019.01.01&de=2019.01.01&docid=&nso=so:r,p:from20190101to20190101,a:all&mynews=0&cluster_rank=34&start=260\n",
      "https://news.naver.com/main/read.nhn?mode=LSD&mid=sec&sid1=101&oid=009&aid=0004280939\n",
      "https://news.naver.com/main/read.nhn?mode=LSD&mid=sec&sid1=110&oid=011&aid=0003476857\n",
      "https://news.naver.com/main/read.nhn?mode=LSD&mid=sec&sid1=105&oid=030&aid=0002771889\n",
      "https://news.naver.com/main/read.nhn?mode=LSD&mid=sec&sid1=102&oid=014&aid=0004153248\n",
      "https://news.naver.com/main/read.nhn?mode=LSD&mid=sec&sid1=102&oid=422&aid=0000354539\n",
      "https://news.naver.com/main/read.nhn?mode=LSD&mid=sec&sid1=105&oid=030&aid=0002771881\n",
      "https://news.naver.com/main/read.nhn?mode=LSD&mid=sec&sid1=102&oid=032&aid=0002914632\n",
      "https://news.naver.com/main/read.nhn?mode=LSD&mid=sec&sid1=101&oid=031&aid=0000476983\n",
      "https://search.naver.com/search.naver?&where=news&query=삼성전자&sm=tab_pge&sort=0&photo=0&field=0&reporter_article=&pd=3&ds=2019.01.01&de=2019.01.01&docid=&nso=so:r,p:from20190101to20190101,a:all&mynews=0&cluster_rank=34&start=270\n",
      "https://news.naver.com/main/read.nhn?mode=LSD&mid=sec&sid1=105&oid=138&aid=0002068878\n",
      "https://news.naver.com/main/read.nhn?mode=LSD&mid=sec&sid1=101&oid=031&aid=0000476964\n",
      "https://news.naver.com/main/read.nhn?mode=LSD&mid=sec&sid1=102&oid=009&aid=0004281253\n",
      "https://news.naver.com/main/read.nhn?mode=LSD&mid=sec&sid1=102&oid=028&aid=0002438039\n",
      "https://news.naver.com/main/read.nhn?mode=LSD&mid=sec&sid1=101&oid=015&aid=0004071299\n",
      "https://news.naver.com/main/read.nhn?mode=LSD&mid=sec&sid1=101&oid=277&aid=0004385994\n",
      "https://news.naver.com/main/read.nhn?mode=LSD&mid=sec&sid1=101&oid=015&aid=0004071211\n",
      "https://search.naver.com/search.naver?&where=news&query=삼성전자&sm=tab_pge&sort=0&photo=0&field=0&reporter_article=&pd=3&ds=2019.01.01&de=2019.01.01&docid=&nso=so:r,p:from20190101to20190101,a:all&mynews=0&cluster_rank=34&start=280\n",
      "https://news.naver.com/main/read.nhn?mode=LSD&mid=sec&sid1=101&oid=014&aid=0004153140\n",
      "https://news.naver.com/main/read.nhn?mode=LSD&mid=sec&sid1=101&oid=015&aid=0004071213\n",
      "https://news.naver.com/main/read.nhn?mode=LSD&mid=sec&sid1=102&oid=056&aid=0010656627\n",
      "https://news.naver.com/main/read.nhn?mode=LSD&mid=sec&sid1=101&oid=008&aid=0004153989\n",
      "https://news.naver.com/main/read.nhn?mode=LSD&mid=sec&sid1=102&oid=015&aid=0004071252\n",
      "https://news.naver.com/main/read.nhn?mode=LSD&mid=sec&sid1=101&oid=014&aid=0004153171\n",
      "https://search.naver.com/search.naver?&where=news&query=삼성전자&sm=tab_pge&sort=0&photo=0&field=0&reporter_article=&pd=3&ds=2019.01.01&de=2019.01.01&docid=&nso=so:r,p:from20190101to20190101,a:all&mynews=0&cluster_rank=34&start=290\n",
      "https://news.naver.com/main/read.nhn?mode=LSD&mid=sec&sid1=101&oid=018&aid=0004282946\n",
      "https://news.naver.com/main/read.nhn?mode=LSD&mid=sec&sid1=102&oid=022&aid=0003330456\n",
      "https://news.naver.com/main/read.nhn?mode=LSD&mid=sec&sid1=101&oid=022&aid=0003330339\n",
      "https://news.naver.com/main/read.nhn?mode=LSD&mid=sec&sid1=101&oid=311&aid=0000938648\n",
      "https://search.naver.com/search.naver?&where=news&query=삼성전자&sm=tab_pge&sort=0&photo=0&field=0&reporter_article=&pd=3&ds=2019.01.01&de=2019.01.01&docid=&nso=so:r,p:from20190101to20190101,a:all&mynews=0&cluster_rank=34&start=300\n",
      "https://news.naver.com/main/read.nhn?mode=LSD&mid=sec&sid1=101&oid=015&aid=0004071104\n",
      "https://news.naver.com/main/read.nhn?mode=LSD&mid=sec&sid1=101&oid=119&aid=0002302905\n",
      "https://news.naver.com/main/read.nhn?mode=LSD&mid=sec&sid1=101&oid=011&aid=0003476686\n",
      "https://news.naver.com/main/read.nhn?mode=LSD&mid=sec&sid1=101&oid=277&aid=0004386001\n",
      "https://search.naver.com/search.naver?&where=news&query=삼성전자&sm=tab_pge&sort=0&photo=0&field=0&reporter_article=&pd=3&ds=2019.01.01&de=2019.01.01&docid=&nso=so:r,p:from20190101to20190101,a:all&mynews=0&cluster_rank=34&start=310\n",
      "https://news.naver.com/main/read.nhn?mode=LSD&mid=sec&sid1=103&oid=396&aid=0000499422\n",
      "https://news.naver.com/main/read.nhn?mode=LSD&mid=sec&sid1=101&oid=082&aid=0000867402\n",
      "https://news.naver.com/main/read.nhn?mode=LSD&mid=sec&sid1=102&oid=030&aid=0002771893\n",
      "https://news.naver.com/main/read.nhn?mode=LSD&mid=sec&sid1=102&oid=469&aid=0000353818\n",
      "https://news.naver.com/main/read.nhn?mode=LSD&mid=sec&sid1=101&oid=417&aid=0000367572\n",
      "https://news.naver.com/main/read.nhn?mode=LSD&mid=sec&sid1=102&oid=081&aid=0002967305\n",
      "https://search.naver.com/search.naver?&where=news&query=삼성전자&sm=tab_pge&sort=0&photo=0&field=0&reporter_article=&pd=3&ds=2019.01.01&de=2019.01.01&docid=&nso=so:r,p:from20190101to20190101,a:all&mynews=0&cluster_rank=34&start=320\n"
     ]
    },
    {
     "name": "stdout",
     "output_type": "stream",
     "text": [
      "https://news.naver.com/main/read.nhn?mode=LSD&mid=sec&sid1=102&oid=009&aid=0004281207\n",
      "https://search.naver.com/search.naver?&where=news&query=삼성전자&sm=tab_pge&sort=0&photo=0&field=0&reporter_article=&pd=3&ds=2019.01.01&de=2019.01.01&docid=&nso=so:r,p:from20190101to20190101,a:all&mynews=0&cluster_rank=34&start=330\n",
      "https://search.naver.com/search.naver?&where=news&query=삼성전자&sm=tab_pge&sort=0&photo=0&field=0&reporter_article=&pd=3&ds=2019.01.01&de=2019.01.01&docid=&nso=so:r,p:from20190101to20190101,a:all&mynews=0&cluster_rank=34&start=340\n"
     ]
    }
   ],
   "source": [
    "urls = []\n",
    "\n",
    "cur_page = 0\n",
    "url_format = 'https://search.naver.com/search.naver?&where=news&query=삼성전자&sm=tab_pge&sort=0&photo=0&field=0&reporter_article=&pd=3&ds=2019.01.01&de=2019.01.01&docid=&nso=so:r,p:from20190101to20190101,a:all&mynews=0&cluster_rank=34&start={}'\n",
    "url = url_format.format(cur_page)\n",
    "print(url)\n",
    "url_req = requests.get(url)\n",
    "bs =BeautifulSoup(url_req.text, \"html.parser\")\n",
    "news = bs.select('ul.list_news')\n",
    "num = bs.select('div.sc_page_inner')\n",
    "for url in bs.select('ul.list_news div.news_info div a'):\n",
    "    if url.attrs['href'].startswith(\"https://news.naver.com\"):\n",
    "        print(url.attrs['href'])\n",
    "        urls.append(url.attrs['href'])\n",
    "\n",
    "while True:\n",
    "    cur_page+=10\n",
    "    url = url_format.format(cur_page)\n",
    "    print(url)\n",
    "    url_req = requests.get(url)\n",
    "    bs =BeautifulSoup(url_req.text, \"html.parser\")\n",
    "    news = bs.select('ul.list_news')\n",
    "    num = bs.select('div.sc_page_inner')\n",
    "    for url in bs.select('ul.list_news div.news_info div a'):\n",
    "        if url.attrs['href'].startswith(\"https://news.naver.com\"):\n",
    "            print(url.attrs['href'])\n",
    "            urls.append(url.attrs['href'])\n",
    "    \n",
    "    if num[0].select('a')[9].attrs['aria-pressed'] == 'true':\n",
    "        break"
   ]
  },
  {
   "cell_type": "code",
   "execution_count": 16,
   "metadata": {},
   "outputs": [
    {
     "data": {
      "text/plain": [
       "210"
      ]
     },
     "execution_count": 16,
     "metadata": {},
     "output_type": "execute_result"
    }
   ],
   "source": [
    "len(urls)"
   ]
  },
  {
   "cell_type": "markdown",
   "metadata": {},
   "source": [
    "마지막페이지까지 긁은 후에 날짜 넘기기"
   ]
  },
  {
   "cell_type": "code",
   "execution_count": 99,
   "metadata": {},
   "outputs": [],
   "source": [
    "start = '20180131'\n",
    "end = '20180201'\n",
    "keyword ='삼성전자'"
   ]
  },
  {
   "cell_type": "code",
   "execution_count": 112,
   "metadata": {},
   "outputs": [
    {
     "name": "stdout",
     "output_type": "stream",
     "text": [
      "2018-01-31\n",
      "2018-02-01\n"
     ]
    }
   ],
   "source": [
    "start_date = datetime.date(datetime.strptime(start, '%Y%m%d'))\n",
    "end_date = datetime.date(datetime.strptime(end, '%Y%m%d'))\n",
    "print(start_date)\n",
    "print(end_date)"
   ]
  },
  {
   "cell_type": "code",
   "execution_count": 91,
   "metadata": {},
   "outputs": [
    {
     "data": {
      "text/plain": [
       "'https://search.naver.com/search.naver?&where=news&query=삼성전자&sm=tab_pge&sort=0&photo=0&field=0&reporter_article=&pd=3&ds=20180131&de=20180131&docid=&nso=so:r,p:from2018.01.31to2018.01.31,a:all&mynews=0&cluster_rank=34&start=0'"
      ]
     },
     "execution_count": 91,
     "metadata": {},
     "output_type": "execute_result"
    }
   ],
   "source": [
    "url_format = 'https://search.naver.com/search.naver?&where=news&query={0}&sm=tab_pge&sort=0&photo=0&field=0&reporter_article=&pd=3&ds={1}&de={1}&docid=&nso=so:r,p:from{2}to{2},a:all&mynews=0&cluster_rank=34&start={3}'\n",
    "url = url_format.format('삼성전자',datetime.strftime(start_date, '%Y%m%d'),dot_start_date,cur_page)\n",
    "url"
   ]
  },
  {
   "cell_type": "code",
   "execution_count": 117,
   "metadata": {},
   "outputs": [
    {
     "name": "stdout",
     "output_type": "stream",
     "text": [
      "https://search.naver.com/search.naver?&where=news&query=lg이노텍&sm=tab_pge&sort=0&photo=0&field=0&reporter_article=&pd=3&ds=20200101&de=20200101&docid=&nso=so:r,p:from2020.01.01to2020.01.01,a:all&mynews=0&cluster_rank=34&start=0\n",
      "https://news.naver.com/main/read.nhn?mode=LSD&mid=sec&sid1=101&oid=015&aid=0004266520\n",
      "https://news.naver.com/main/read.nhn?mode=LSD&mid=sec&sid1=101&oid=277&aid=0004598291\n",
      "https://news.naver.com/main/read.nhn?mode=LSD&mid=sec&sid1=101&oid=014&aid=0004351353\n",
      "https://search.naver.com/search.naver?&where=news&query=lg이노텍&sm=tab_pge&sort=0&photo=0&field=0&reporter_article=&pd=3&ds=20200101&de=20200101&docid=&nso=so:r,p:from2020.01.01to2020.01.01,a:all&mynews=0&cluster_rank=34&start=10\n"
     ]
    },
    {
     "ename": "IndexError",
     "evalue": "list index out of range",
     "output_type": "error",
     "traceback": [
      "\u001b[1;31m---------------------------------------------------------------------------\u001b[0m",
      "\u001b[1;31mIndexError\u001b[0m                                Traceback (most recent call last)",
      "\u001b[1;32m<ipython-input-117-70b6d9730f5d>\u001b[0m in \u001b[0;36m<module>\u001b[1;34m\u001b[0m\n\u001b[0;32m     31\u001b[0m             \u001b[0mprint\u001b[0m\u001b[1;33m(\u001b[0m\u001b[0murl\u001b[0m\u001b[1;33m.\u001b[0m\u001b[0mattrs\u001b[0m\u001b[1;33m[\u001b[0m\u001b[1;34m'href'\u001b[0m\u001b[1;33m]\u001b[0m\u001b[1;33m)\u001b[0m\u001b[1;33m\u001b[0m\u001b[1;33m\u001b[0m\u001b[0m\n\u001b[0;32m     32\u001b[0m \u001b[1;33m\u001b[0m\u001b[0m\n\u001b[1;32m---> 33\u001b[1;33m     \u001b[1;32mif\u001b[0m \u001b[0mnum\u001b[0m\u001b[1;33m[\u001b[0m\u001b[1;36m0\u001b[0m\u001b[1;33m]\u001b[0m\u001b[1;33m.\u001b[0m\u001b[0mselect\u001b[0m\u001b[1;33m(\u001b[0m\u001b[1;34m'a'\u001b[0m\u001b[1;33m)\u001b[0m\u001b[1;33m[\u001b[0m\u001b[1;36m9\u001b[0m\u001b[1;33m]\u001b[0m\u001b[1;33m.\u001b[0m\u001b[0mattrs\u001b[0m\u001b[1;33m[\u001b[0m\u001b[1;34m'aria-pressed'\u001b[0m\u001b[1;33m]\u001b[0m \u001b[1;33m==\u001b[0m \u001b[1;34m'true'\u001b[0m\u001b[1;33m:\u001b[0m\u001b[1;33m\u001b[0m\u001b[1;33m\u001b[0m\u001b[0m\n\u001b[0m\u001b[0;32m     34\u001b[0m         \u001b[1;32mbreak\u001b[0m\u001b[1;33m\u001b[0m\u001b[1;33m\u001b[0m\u001b[0m\n\u001b[0;32m     35\u001b[0m \u001b[1;33m\u001b[0m\u001b[0m\n",
      "\u001b[1;31mIndexError\u001b[0m: list index out of range"
     ]
    }
   ],
   "source": [
    "start = '20200101'\n",
    "end = '20200102'\n",
    "keyword ='lg이노텍'\n",
    "\n",
    "start_date = datetime.date(datetime.strptime(start, '%Y%m%d'))\n",
    "end_date = datetime.date(datetime.strptime(end, '%Y%m%d'))\n",
    "dot_start_date = datetime.strftime(start_date, '%Y.%m.%d')\n",
    "cur_page = 0\n",
    "url_format = 'https://search.naver.com/search.naver?&where=news&query={0}&sm=tab_pge&sort=0&photo=0&field=0&reporter_article=&pd=3&ds={1}&de={1}&docid=&nso=so:r,p:from{2}to{2},a:all&mynews=0&cluster_rank=34&start={3}'\n",
    "url = url_format.format(keyword,datetime.strftime(start_date, '%Y%m%d'),dot_start_date,cur_page)\n",
    "print(url)\n",
    "\n",
    "url_req = requests.get(url)\n",
    "bs =BeautifulSoup(url_req.text, \"html.parser\")\n",
    "news = bs.select('ul.list_news')\n",
    "num = bs.select('div.sc_page_inner')\n",
    "for url in bs.select('ul.list_news div.news_info div a'):\n",
    "    if url.attrs['href'].startswith(\"https://news.naver.com\"):\n",
    "        print(url.attrs['href'])\n",
    "        \n",
    "while True:\n",
    "    cur_page+=10\n",
    "    url = url_format.format(keyword,datetime.strftime(start_date, '%Y%m%d'),dot_start_date,cur_page)\n",
    "    print(url)\n",
    "    url_req = requests.get(url)\n",
    "    bs =BeautifulSoup(url_req.text, \"html.parser\")\n",
    "    news = bs.select('ul.list_news')\n",
    "    num = bs.select('div.sc_page_inner')\n",
    "    for url in bs.select('ul.list_news div.news_info div a'):\n",
    "        if url.attrs['href'].startswith(\"https://news.naver.com\"):\n",
    "            print(url.attrs['href'])\n",
    "    \n",
    "    if num[0].select('a')[9].attrs['aria-pressed'] == 'true':\n",
    "        break\n",
    "\n",
    "# 다음 날짜 넘기기\n",
    "while True:\n",
    "    start_date+=timedelta(days=1)\n",
    "    dot_start_date = datetime.strftime(start_date, '%Y.%m.%d')\n",
    "    url_format = 'https://search.naver.com/search.naver?&where=news&query={0}&sm=tab_pge&sort=0&photo=0&field=0&reporter_article=&pd=3&ds={1}&de={1}&docid=&nso=so:r,p:from{2}to{2},a:all&mynews=0&cluster_rank=34&start={3}'\n",
    "    url = url_format.format(keyword,datetime.strftime(start_date, '%Y%m%d'),dot_start_date,cur_page)\n",
    "    print(url)\n",
    "    \n",
    "    url_req = requests.get(url)\n",
    "    bs =BeautifulSoup(url_req.text, \"html.parser\")\n",
    "    news = bs.select('ul.list_news')\n",
    "    num = bs.select('div.sc_page_inner')\n",
    "    for url in bs.select('ul.list_news div.news_info div a'):\n",
    "        if url.attrs['href'].startswith(\"https://news.naver.com\"):\n",
    "            print(url.attrs['href'])\n",
    "        \n",
    "    while True:\n",
    "        cur_page+=10\n",
    "        url = url_format.format(keyword,datetime.strftime(start_date, '%Y%m%d'),dot_start_date,cur_page)\n",
    "        print(url)\n",
    "        url_req = requests.get(url)\n",
    "        bs =BeautifulSoup(url_req.text, \"html.parser\")\n",
    "        news = bs.select('ul.list_news')\n",
    "        num = bs.select('div.sc_page_inner')\n",
    "        for url in bs.select('ul.list_news div.news_info div a'):\n",
    "            if url.attrs['href'].startswith(\"https://news.naver.com\"):\n",
    "                print(url.attrs['href'])\n",
    "\n",
    "        if num[0].select('a')[9].attrs['aria-pressed'] == 'true':\n",
    "            break\n",
    "    \n",
    "    if start_date == end_date:\n",
    "        break"
   ]
  }
 ],
 "metadata": {
  "kernelspec": {
   "display_name": "Python 3",
   "language": "python",
   "name": "python3"
  },
  "language_info": {
   "codemirror_mode": {
    "name": "ipython",
    "version": 3
   },
   "file_extension": ".py",
   "mimetype": "text/x-python",
   "name": "python",
   "nbconvert_exporter": "python",
   "pygments_lexer": "ipython3",
   "version": "3.7.6"
  }
 },
 "nbformat": 4,
 "nbformat_minor": 4
}
