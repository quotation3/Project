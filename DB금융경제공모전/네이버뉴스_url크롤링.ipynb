{
 "cells": [
  {
   "cell_type": "code",
   "execution_count": 53,
   "metadata": {},
   "outputs": [],
   "source": [
    "import pandas as pd\n",
    "from datetime import datetime, timedelta, date\n",
    "import requests\n",
    "from bs4 import BeautifulSoup"
   ]
  },
  {
   "cell_type": "code",
   "execution_count": 79,
   "metadata": {},
   "outputs": [],
   "source": [
    "url = requests.get('https://search.naver.com/search.naver?where=news&query=%EC%82%BC%EC%84%B1%EC%A0%84%EC%9E%90&sm=tab_opt&sort=0&photo=0&field=0&reporter_article=&pd=3&ds=2018.01.01&de=2018.01.31&docid=&nso=so%3Ar%2Cp%3Afrom20180101to20180131%2Ca%3Aall&mynews=0&refresh_start=0&related=0')\n",
    "bs =BeautifulSoup(url.text, \"html.parser\")\n",
    "news = bs.select('ul.list_news')"
   ]
  },
  {
   "cell_type": "code",
   "execution_count": 80,
   "metadata": {},
   "outputs": [
    {
     "name": "stdout",
     "output_type": "stream",
     "text": [
      "https://news.naver.com/main/read.nhn?mode=LSD&mid=sec&sid1=101&oid=001&aid=0009849001\n",
      "https://news.naver.com/main/read.nhn?mode=LSD&mid=sec&sid1=101&oid=028&aid=0002397021\n",
      "https://news.naver.com/main/read.nhn?mode=LSD&mid=sec&sid1=101&oid=030&aid=0002680023\n",
      "https://news.naver.com/main/read.nhn?mode=LSD&mid=sec&sid1=101&oid=015&aid=0003887264\n",
      "https://news.naver.com/main/read.nhn?mode=LSD&mid=sec&sid1=101&oid=214&aid=0000802380\n",
      "https://news.naver.com/main/read.nhn?mode=LSD&mid=sec&sid1=101&oid=469&aid=0000274979\n",
      "https://news.naver.com/main/read.nhn?mode=LSD&mid=sec&sid1=101&oid=056&aid=0010540900\n",
      "https://news.naver.com/main/read.nhn?mode=LSD&mid=sec&sid1=105&oid=092&aid=0002130550\n",
      "https://news.naver.com/main/read.nhn?mode=LSD&mid=sec&sid1=101&oid=052&aid=0001112764\n",
      "https://news.naver.com/main/read.nhn?mode=LSD&mid=sec&sid1=101&oid=008&aid=0004001179\n"
     ]
    }
   ],
   "source": [
    "for url in bs.select('ul.list_news div.news_info div a'):\n",
    "    if url.attrs['href'].startswith(\"https://news.naver.com\"):\n",
    "        print(url.attrs['href'])"
   ]
  },
  {
   "cell_type": "code",
   "execution_count": 118,
   "metadata": {},
   "outputs": [
    {
     "data": {
      "text/plain": [
       "'true'"
      ]
     },
     "execution_count": 118,
     "metadata": {},
     "output_type": "execute_result"
    }
   ],
   "source": [
    "url_format = 'https://search.naver.com/search.naver?&where=news&query=삼성전자&sm=tab_pge&sort=0&photo=0&field=0&reporter_article=&pd=3&ds=2019.01.01&de=2019.01.01&docid=&nso=so:r,p:from20190101to20190101,a:all&mynews=0&cluster_rank=34&start=360'\n",
    "url = requests.get(url_format)\n",
    "bs =BeautifulSoup(url.text, \"html.parser\")\n",
    "num = bs.select('div.sc_page_inner')\n",
    "news = bs.select('ul.list_news')\n",
    "num[0].select('a')[-1].attrs['aria-pressed']"
   ]
  },
  {
   "cell_type": "markdown",
   "metadata": {},
   "source": [
    "### 마지막페이지까지 긁기"
   ]
  },
  {
   "cell_type": "code",
   "execution_count": 130,
   "metadata": {},
   "outputs": [
    {
     "name": "stdout",
     "output_type": "stream",
     "text": [
      "https://search.naver.com/search.naver?&where=news&query=lg화학&sm=tab_pge&sort=0&photo=0&field=0&reporter_article=&pd=3&ds=2019.01.01&de=2019.01.01&docid=&nso=so:r,p:from20190101to20190101,a:all&mynews=0&cluster_rank=34&start=0\n",
      "https://news.naver.com/main/read.nhn?mode=LSD&mid=sec&sid1=105&oid=030&aid=0002771984\n",
      "https://news.naver.com/main/read.nhn?mode=LSD&mid=sec&sid1=101&oid=009&aid=0004281172\n",
      "https://news.naver.com/main/read.nhn?mode=LSD&mid=sec&sid1=101&oid=366&aid=0000423525\n",
      "https://news.naver.com/main/read.nhn?mode=LSD&mid=sec&sid1=101&oid=421&aid=0003764152\n",
      "https://news.naver.com/main/read.nhn?mode=LSD&mid=sec&sid1=101&oid=015&aid=0004071190\n",
      "https://search.naver.com/search.naver?&where=news&query=lg화학&sm=tab_pge&sort=0&photo=0&field=0&reporter_article=&pd=3&ds=2019.01.01&de=2019.01.01&docid=&nso=so:r,p:from20190101to20190101,a:all&mynews=0&cluster_rank=34&start=10\n",
      "https://news.naver.com/main/read.nhn?mode=LSD&mid=sec&sid1=101&oid=015&aid=0004071190\n",
      "https://news.naver.com/main/read.nhn?mode=LSD&mid=sec&sid1=101&oid=008&aid=0004153989\n",
      "https://news.naver.com/main/read.nhn?mode=LSD&mid=sec&sid1=101&oid=014&aid=0004153194\n",
      "https://news.naver.com/main/read.nhn?mode=LSD&mid=sec&sid1=101&oid=001&aid=0010555569\n",
      "https://news.naver.com/main/read.nhn?mode=LSD&mid=sec&sid1=101&oid=003&aid=0008988369\n",
      "https://news.naver.com/main/read.nhn?mode=LSD&mid=sec&sid1=101&oid=003&aid=0008988363\n",
      "https://search.naver.com/search.naver?&where=news&query=lg화학&sm=tab_pge&sort=0&photo=0&field=0&reporter_article=&pd=3&ds=2019.01.01&de=2019.01.01&docid=&nso=so:r,p:from20190101to20190101,a:all&mynews=0&cluster_rank=34&start=20\n",
      "https://news.naver.com/main/read.nhn?mode=LSD&mid=sec&sid1=101&oid=015&aid=0004071203\n",
      "https://news.naver.com/main/read.nhn?mode=LSD&mid=sec&sid1=103&oid=144&aid=0000589510\n",
      "https://news.naver.com/main/read.nhn?mode=LSD&mid=sec&sid1=101&oid=018&aid=0004282946\n",
      "https://news.naver.com/main/read.nhn?mode=LSD&mid=sec&sid1=101&oid=018&aid=0004282975\n",
      "https://news.naver.com/main/read.nhn?mode=LSD&mid=sec&sid1=105&oid=015&aid=0004071247\n",
      "https://news.naver.com/main/read.nhn?mode=LSD&mid=sec&sid1=101&oid=422&aid=0000354478\n",
      "https://news.naver.com/main/read.nhn?mode=LSD&mid=sec&sid1=102&oid=023&aid=0003419179\n",
      "https://news.naver.com/main/read.nhn?mode=LSD&mid=sec&sid1=110&oid=030&aid=0002771862\n",
      "https://search.naver.com/search.naver?&where=news&query=lg화학&sm=tab_pge&sort=0&photo=0&field=0&reporter_article=&pd=3&ds=2019.01.01&de=2019.01.01&docid=&nso=so:r,p:from20190101to20190101,a:all&mynews=0&cluster_rank=34&start=30\n",
      "https://news.naver.com/main/read.nhn?mode=LSD&mid=sec&sid1=101&oid=015&aid=0004071175\n",
      "https://news.naver.com/main/read.nhn?mode=LSD&mid=sec&sid1=101&oid=011&aid=0003476805\n",
      "https://news.naver.com/main/read.nhn?mode=LSD&mid=sec&sid1=101&oid=015&aid=0004071213\n",
      "https://news.naver.com/main/read.nhn?mode=LSD&mid=sec&sid1=101&oid=008&aid=0004153988\n",
      "https://news.naver.com/main/read.nhn?mode=LSD&mid=sec&sid1=102&oid=020&aid=0003190372\n",
      "https://search.naver.com/search.naver?&where=news&query=lg화학&sm=tab_pge&sort=0&photo=0&field=0&reporter_article=&pd=3&ds=2019.01.01&de=2019.01.01&docid=&nso=so:r,p:from20190101to20190101,a:all&mynews=0&cluster_rank=34&start=40\n",
      "https://news.naver.com/main/read.nhn?mode=LSD&mid=sec&sid1=102&oid=020&aid=0003190372\n"
     ]
    }
   ],
   "source": [
    "urls = []\n",
    "\n",
    "cur_page = 0\n",
    "url_format = 'https://search.naver.com/search.naver?&where=news&query=lg화학&sm=tab_pge&sort=0&photo=0&field=0&reporter_article=&pd=3&ds=2019.01.01&de=2019.01.01&docid=&nso=so:r,p:from20190101to20190101,a:all&mynews=0&cluster_rank=34&start={}'\n",
    "url = url_format.format(cur_page)\n",
    "print(url)\n",
    "url_req = requests.get(url)\n",
    "bs =BeautifulSoup(url_req.text, \"html.parser\")\n",
    "news = bs.select('ul.list_news')\n",
    "num = bs.select('div.sc_page_inner')\n",
    "for url in bs.select('ul.list_news div.news_info div a'):\n",
    "    if url.attrs['href'].startswith(\"https://news.naver.com\"):\n",
    "        print(url.attrs['href'])\n",
    "        urls.append(url.attrs['href'])\n",
    "\n",
    "while True:\n",
    "    cur_page+=10\n",
    "    url = url_format.format(cur_page)\n",
    "    print(url)\n",
    "    url_req = requests.get(url)\n",
    "    bs =BeautifulSoup(url_req.text, \"html.parser\")\n",
    "    news = bs.select('ul.list_news')\n",
    "    num = bs.select('div.sc_page_inner')\n",
    "    for url in bs.select('ul.list_news div.news_info div a'):\n",
    "        if url.attrs['href'].startswith(\"https://news.naver.com\"):\n",
    "            print(url.attrs['href'])\n",
    "            urls.append(url.attrs['href'])\n",
    "    \n",
    "    if num[0].select('a')[-1].attrs['aria-pressed'] == 'true':\n",
    "        break"
   ]
  },
  {
   "cell_type": "code",
   "execution_count": 131,
   "metadata": {},
   "outputs": [
    {
     "data": {
      "text/plain": [
       "25"
      ]
     },
     "execution_count": 131,
     "metadata": {},
     "output_type": "execute_result"
    }
   ],
   "source": [
    "len(urls)"
   ]
  },
  {
   "cell_type": "markdown",
   "metadata": {},
   "source": [
    "### 마지막페이지까지 긁은 후에 날짜 넘기기"
   ]
  },
  {
   "cell_type": "code",
   "execution_count": 99,
   "metadata": {},
   "outputs": [],
   "source": [
    "start = '20180131'\n",
    "end = '20180201'\n",
    "keyword ='삼성전자'"
   ]
  },
  {
   "cell_type": "code",
   "execution_count": 112,
   "metadata": {},
   "outputs": [
    {
     "name": "stdout",
     "output_type": "stream",
     "text": [
      "2018-01-31\n",
      "2018-02-01\n"
     ]
    }
   ],
   "source": [
    "start_date = datetime.date(datetime.strptime(start, '%Y%m%d'))\n",
    "end_date = datetime.date(datetime.strptime(end, '%Y%m%d'))\n",
    "print(start_date)\n",
    "print(end_date)"
   ]
  },
  {
   "cell_type": "code",
   "execution_count": 91,
   "metadata": {},
   "outputs": [
    {
     "data": {
      "text/plain": [
       "'https://search.naver.com/search.naver?&where=news&query=삼성전자&sm=tab_pge&sort=0&photo=0&field=0&reporter_article=&pd=3&ds=20180131&de=20180131&docid=&nso=so:r,p:from2018.01.31to2018.01.31,a:all&mynews=0&cluster_rank=34&start=0'"
      ]
     },
     "execution_count": 91,
     "metadata": {},
     "output_type": "execute_result"
    }
   ],
   "source": [
    "url_format = 'https://search.naver.com/search.naver?&where=news&query={0}&sm=tab_pge&sort=0&photo=0&field=0&reporter_article=&pd=3&ds={1}&de={1}&docid=&nso=so:r,p:from{2}to{2},a:all&mynews=0&cluster_rank=34&start={3}'\n",
    "url = url_format.format('삼성전자',datetime.strftime(start_date, '%Y%m%d'),dot_start_date,cur_page)\n",
    "url"
   ]
  },
  {
   "cell_type": "code",
   "execution_count": 132,
   "metadata": {},
   "outputs": [
    {
     "name": "stdout",
     "output_type": "stream",
     "text": [
      "https://search.naver.com/search.naver?&where=news&query=lg화학&sm=tab_pge&sort=0&photo=0&field=0&reporter_article=&pd=3&ds=2020.01.01&de=2020.01.01&docid=&nso=so:r,p:from20200101to20200101,a:all&mynews=0&cluster_rank=34&start=0\n",
      "https://news.naver.com/main/read.nhn?mode=LSD&mid=sec&sid1=101&oid=029&aid=0002577964\n",
      "https://news.naver.com/main/read.nhn?mode=LSD&mid=sec&sid1=101&oid=015&aid=0004266520\n",
      "https://news.naver.com/main/read.nhn?mode=LSD&mid=sec&sid1=101&oid=277&aid=0004598369\n",
      "https://news.naver.com/main/read.nhn?mode=LSD&mid=sec&sid1=101&oid=421&aid=0004386925\n",
      "https://news.naver.com/main/read.nhn?mode=LSD&mid=sec&sid1=101&oid=029&aid=0002578134\n",
      "https://news.naver.com/main/read.nhn?mode=LSD&mid=sec&sid1=101&oid=011&aid=0003674349\n",
      "https://news.naver.com/main/read.nhn?mode=LSD&mid=sec&sid1=101&oid=018&aid=0004547055\n",
      "https://search.naver.com/search.naver?&where=news&query=lg화학&sm=tab_pge&sort=0&photo=0&field=0&reporter_article=&pd=3&ds=2020.01.01&de=2020.01.01&docid=&nso=so:r,p:from20200101to20200101,a:all&mynews=0&cluster_rank=34&start=10\n",
      "https://news.naver.com/main/read.nhn?mode=LSD&mid=sec&sid1=101&oid=277&aid=0004598369\n",
      "https://news.naver.com/main/read.nhn?mode=LSD&mid=sec&sid1=101&oid=119&aid=0002374048\n",
      "https://news.naver.com/main/read.nhn?mode=LSD&mid=sec&sid1=103&oid=030&aid=0002860269\n",
      "https://news.naver.com/main/read.nhn?mode=LSD&mid=sec&sid1=102&oid=421&aid=0004385967\n",
      "https://search.naver.com/search.naver?&where=news&query=lg화학&sm=tab_pge&sort=0&photo=0&field=0&reporter_article=&pd=3&ds=2020.01.01&de=2020.01.01&docid=&nso=so:r,p:from20200101to20200101,a:all&mynews=0&cluster_rank=34&start=20\n",
      "https://news.naver.com/main/read.nhn?mode=LSD&mid=sec&sid1=101&oid=029&aid=0002578133\n",
      "https://news.naver.com/main/read.nhn?mode=LSD&mid=sec&sid1=101&oid=015&aid=0004266665\n",
      "https://news.naver.com/main/read.nhn?mode=LSD&mid=sec&sid1=101&oid=029&aid=0002578106\n",
      "https://news.naver.com/main/read.nhn?mode=LSD&mid=sec&sid1=101&oid=015&aid=0004266544\n",
      "https://news.naver.com/main/read.nhn?mode=LSD&mid=sec&sid1=101&oid=018&aid=0004547068\n",
      "https://search.naver.com/search.naver?&where=news&query=lg화학&sm=tab_pge&sort=0&photo=0&field=0&reporter_article=&pd=3&ds=2020.01.01&de=2020.01.01&docid=&nso=so:r,p:from20200101to20200101,a:all&mynews=0&cluster_rank=34&start=30\n",
      "https://search.naver.com/search.naver?&where=news&query=lg화학&sm=tab_pge&sort=0&photo=0&field=0&reporter_article=&pd=3&ds=2020.01.01&de=2020.01.01&docid=&nso=so:r,p:from20200101to20200101,a:all&mynews=0&cluster_rank=34&start=40\n",
      "**************************************************\n",
      "**************************************************\n",
      "2020-01-01\n",
      "2020-01-02\n",
      "**************************************************\n",
      "**************************************************\n",
      "https://search.naver.com/search.naver?&where=news&query=lg화학&sm=tab_pge&sort=0&photo=0&field=0&reporter_article=&pd=3&ds=2020.01.02&de=2020.01.02&docid=&nso=so:r,p:from20200102to20200102,a:all&mynews=0&cluster_rank=34&start=0\n",
      "https://news.naver.com/main/read.nhn?mode=LSD&mid=sec&sid1=101&oid=421&aid=0004388348\n",
      "https://news.naver.com/main/read.nhn?mode=LSD&mid=sec&sid1=101&oid=366&aid=0000462164\n",
      "https://news.naver.com/main/read.nhn?mode=LSD&mid=sec&sid1=101&oid=018&aid=0004547952\n",
      "https://news.naver.com/main/read.nhn?mode=LSD&mid=sec&sid1=101&oid=011&aid=0003674873\n",
      "https://search.naver.com/search.naver?&where=news&query=lg화학&sm=tab_pge&sort=0&photo=0&field=0&reporter_article=&pd=3&ds=2020.01.02&de=2020.01.02&docid=&nso=so:r,p:from20200102to20200102,a:all&mynews=0&cluster_rank=34&start=10\n",
      "https://search.naver.com/search.naver?&where=news&query=lg화학&sm=tab_pge&sort=0&photo=0&field=0&reporter_article=&pd=3&ds=2020.01.02&de=2020.01.02&docid=&nso=so:r,p:from20200102to20200102,a:all&mynews=0&cluster_rank=34&start=20\n",
      "https://news.naver.com/main/read.nhn?mode=LSD&mid=sec&sid1=101&oid=009&aid=0004492926\n",
      "https://news.naver.com/main/read.nhn?mode=LSD&mid=sec&sid1=102&oid=030&aid=0002860472\n",
      "https://news.naver.com/main/read.nhn?mode=LSD&mid=sec&sid1=101&oid=011&aid=0003674803\n",
      "https://news.naver.com/main/read.nhn?mode=LSD&mid=sec&sid1=103&oid=421&aid=0004387344\n",
      "https://news.naver.com/main/read.nhn?mode=LSD&mid=sec&sid1=101&oid=018&aid=0004547813\n",
      "https://search.naver.com/search.naver?&where=news&query=lg화학&sm=tab_pge&sort=0&photo=0&field=0&reporter_article=&pd=3&ds=2020.01.02&de=2020.01.02&docid=&nso=so:r,p:from20200102to20200102,a:all&mynews=0&cluster_rank=34&start=30\n",
      "https://news.naver.com/main/read.nhn?mode=LSD&mid=sec&sid1=102&oid=469&aid=0000453886\n",
      "https://news.naver.com/main/read.nhn?mode=LSD&mid=sec&sid1=004&oid=366&aid=0000462078\n",
      "https://news.naver.com/main/read.nhn?mode=LSD&mid=sec&sid1=102&oid=003&aid=0009634778\n",
      "https://news.naver.com/main/read.nhn?mode=LSD&mid=sec&sid1=101&oid=009&aid=0004492964\n",
      "https://news.naver.com/main/read.nhn?mode=LSD&mid=sec&sid1=101&oid=003&aid=0009634910\n",
      "https://search.naver.com/search.naver?&where=news&query=lg화학&sm=tab_pge&sort=0&photo=0&field=0&reporter_article=&pd=3&ds=2020.01.02&de=2020.01.02&docid=&nso=so:r,p:from20200102to20200102,a:all&mynews=0&cluster_rank=34&start=40\n",
      "https://news.naver.com/main/read.nhn?mode=LSD&mid=sec&sid1=101&oid=015&aid=0004267313\n",
      "https://news.naver.com/main/read.nhn?mode=LSD&mid=sec&sid1=101&oid=629&aid=0000008822\n",
      "https://news.naver.com/main/read.nhn?mode=LSD&mid=sec&sid1=101&oid=421&aid=0004389206\n",
      "https://news.naver.com/main/read.nhn?mode=LSD&mid=sec&sid1=101&oid=088&aid=0000627155\n",
      "https://news.naver.com/main/read.nhn?mode=LSD&mid=sec&sid1=102&oid=003&aid=0009635085\n",
      "https://search.naver.com/search.naver?&where=news&query=lg화학&sm=tab_pge&sort=0&photo=0&field=0&reporter_article=&pd=3&ds=2020.01.02&de=2020.01.02&docid=&nso=so:r,p:from20200102to20200102,a:all&mynews=0&cluster_rank=34&start=50\n",
      "https://news.naver.com/main/read.nhn?mode=LSD&mid=sec&sid1=101&oid=009&aid=0004493450\n",
      "https://news.naver.com/main/read.nhn?mode=LSD&mid=sec&sid1=101&oid=015&aid=0004266756\n",
      "https://news.naver.com/main/read.nhn?mode=LSD&mid=sec&sid1=101&oid=009&aid=0004493073\n",
      "https://search.naver.com/search.naver?&where=news&query=lg화학&sm=tab_pge&sort=0&photo=0&field=0&reporter_article=&pd=3&ds=2020.01.02&de=2020.01.02&docid=&nso=so:r,p:from20200102to20200102,a:all&mynews=0&cluster_rank=34&start=60\n",
      "https://news.naver.com/main/read.nhn?mode=LSD&mid=sec&sid1=101&oid=011&aid=0003674494\n",
      "https://news.naver.com/main/read.nhn?mode=LSD&mid=sec&sid1=101&oid=008&aid=0004333638\n",
      "https://news.naver.com/main/read.nhn?mode=LSD&mid=sec&sid1=101&oid=417&aid=0000488904\n",
      "https://search.naver.com/search.naver?&where=news&query=lg화학&sm=tab_pge&sort=0&photo=0&field=0&reporter_article=&pd=3&ds=2020.01.02&de=2020.01.02&docid=&nso=so:r,p:from20200102to20200102,a:all&mynews=0&cluster_rank=34&start=70\n",
      "https://search.naver.com/search.naver?&where=news&query=lg화학&sm=tab_pge&sort=0&photo=0&field=0&reporter_article=&pd=3&ds=2020.01.02&de=2020.01.02&docid=&nso=so:r,p:from20200102to20200102,a:all&mynews=0&cluster_rank=34&start=80\n",
      "**************************************************\n",
      "**************************************************\n",
      "2020-01-02\n",
      "2020-01-02\n",
      "**************************************************\n",
      "**************************************************\n",
      "**************************************************\n",
      "**************************************************\n",
      "크롤링 종료\n",
      "**************************************************\n",
      "**************************************************\n"
     ]
    }
   ],
   "source": [
    "start = '20200101'\n",
    "end = '20200102'\n",
    "keyword ='lg화학'\n",
    "\n",
    "start_date = datetime.date(datetime.strptime(start, '%Y%m%d'))\n",
    "end_date = datetime.date(datetime.strptime(end, '%Y%m%d'))\n",
    "end_date = datetime.strftime(end_date, '%Y-%m-%d')\n",
    "dot_start_date = datetime.strftime(start_date, '%Y.%m.%d')\n",
    "cur_page = 0\n",
    "url_format = 'https://search.naver.com/search.naver?&where=news&query={0}&sm=tab_pge&sort=0&photo=0&field=0&reporter_article=&pd=3&ds={1}&de={1}&docid=&nso=so:r,p:from{2}to{2},a:all&mynews=0&cluster_rank=34&start={3}'\n",
    "url = url_format.format(keyword,dot_start_date,datetime.strftime(start_date, '%Y%m%d'),cur_page)\n",
    "print(url)\n",
    "\n",
    "url_req = requests.get(url)\n",
    "bs =BeautifulSoup(url_req.text, \"html.parser\")\n",
    "news = bs.select('ul.list_news')\n",
    "num = bs.select('div.sc_page_inner')\n",
    "for url in bs.select('ul.list_news div.news_info div a'):\n",
    "    if url.attrs['href'].startswith(\"https://news.naver.com\"): # 언론사 홈페이지가 아닌 네이버에서 제공하는 뉴스만 추출\n",
    "        print(url.attrs['href'])\n",
    "\n",
    "# 마지막 페이지 나올때까지 다음 페이지 request\n",
    "while True:\n",
    "    cur_page+=10\n",
    "    url = url_format.format(keyword,dot_start_date,datetime.strftime(start_date, '%Y%m%d'),cur_page)\n",
    "    print(url)\n",
    "    url_req = requests.get(url)\n",
    "    bs =BeautifulSoup(url_req.text, \"html.parser\")\n",
    "    news = bs.select('ul.list_news')\n",
    "    num = bs.select('div.sc_page_inner')\n",
    "    for url in bs.select('ul.list_news div.news_info div a'):\n",
    "        if url.attrs['href'].startswith(\"https://news.naver.com\"):\n",
    "            print(url.attrs['href'])\n",
    "    \n",
    "    # 마지막 페이지는 aria-pressed 마지막 속성값이 'true'\n",
    "    if num[0].select('a')[-1].attrs['aria-pressed'] == 'true':\n",
    "        break\n",
    "\n",
    "print('*'*50)\n",
    "print('*'*50)\n",
    "print(start_date)\n",
    "print(end_date)\n",
    "print('*'*50)\n",
    "print('*'*50)\n",
    "\n",
    "# 다음 날짜 넘기기\n",
    "while True:\n",
    "    start_date+=timedelta(days=1)\n",
    "    cur_page = 0\n",
    "    dot_start_date = datetime.strftime(start_date, '%Y.%m.%d')\n",
    "    url_format = 'https://search.naver.com/search.naver?&where=news&query={0}&sm=tab_pge&sort=0&photo=0&field=0&reporter_article=&pd=3&ds={1}&de={1}&docid=&nso=so:r,p:from{2}to{2},a:all&mynews=0&cluster_rank=34&start={3}'\n",
    "    url = url_format.format(keyword,dot_start_date,datetime.strftime(start_date, '%Y%m%d'),cur_page)\n",
    "    print(url)\n",
    "    \n",
    "    url_req = requests.get(url)\n",
    "    bs =BeautifulSoup(url_req.text, \"html.parser\")\n",
    "    news = bs.select('ul.list_news')\n",
    "    num = bs.select('div.sc_page_inner')\n",
    "    for url in bs.select('ul.list_news div.news_info div a'):\n",
    "        if url.attrs['href'].startswith(\"https://news.naver.com\"):\n",
    "            print(url.attrs['href'])\n",
    "        \n",
    "    while True:\n",
    "        cur_page+=10\n",
    "        url = url_format.format(keyword,dot_start_date,datetime.strftime(start_date, '%Y%m%d'),cur_page)\n",
    "        print(url)\n",
    "        url_req = requests.get(url)\n",
    "        bs =BeautifulSoup(url_req.text, \"html.parser\")\n",
    "        news = bs.select('ul.list_news')\n",
    "        num = bs.select('div.sc_page_inner')\n",
    "        for url in bs.select('ul.list_news div.news_info div a'):\n",
    "            if url.attrs['href'].startswith(\"https://news.naver.com\"):\n",
    "                print(url.attrs['href'])\n",
    "\n",
    "        if num[0].select('a')[-1].attrs['aria-pressed'] == 'true':\n",
    "            break\n",
    "        \n",
    "    print('*'*50)\n",
    "    print('*'*50)\n",
    "    print(start_date)\n",
    "    print(end_date)\n",
    "    print('*'*50)\n",
    "    print('*'*50)\n",
    "    \n",
    "    # 처음 지정한 end_date와 같으면 다음 페이지 request 중단\n",
    "    if str(start_date) == str(end_date):\n",
    "        print('*'*50)\n",
    "        print('*'*50)\n",
    "        print('크롤링 종료')\n",
    "        print('*'*50)\n",
    "        print('*'*50)\n",
    "        break"
   ]
  }
 ],
 "metadata": {
  "kernelspec": {
   "display_name": "Python 3",
   "language": "python",
   "name": "python3"
  },
  "language_info": {
   "codemirror_mode": {
    "name": "ipython",
    "version": 3
   },
   "file_extension": ".py",
   "mimetype": "text/x-python",
   "name": "python",
   "nbconvert_exporter": "python",
   "pygments_lexer": "ipython3",
   "version": "3.7.6"
  }
 },
 "nbformat": 4,
 "nbformat_minor": 4
}
