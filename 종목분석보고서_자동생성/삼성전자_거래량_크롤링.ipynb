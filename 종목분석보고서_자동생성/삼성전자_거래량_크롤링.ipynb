{
 "cells": [
  {
   "cell_type": "code",
   "execution_count": 1,
   "metadata": {},
   "outputs": [],
   "source": [
    "import pandas as pd\n",
    "import re\n",
    "import requests\n",
    "from bs4 import BeautifulSoup\n",
    "import re\n",
    "import numpy as np\n",
    "import json"
   ]
  },
  {
   "cell_type": "code",
   "execution_count": 8,
   "metadata": {},
   "outputs": [
    {
     "data": {
      "text/html": [
       "<div>\n",
       "<style scoped>\n",
       "    .dataframe tbody tr th:only-of-type {\n",
       "        vertical-align: middle;\n",
       "    }\n",
       "\n",
       "    .dataframe tbody tr th {\n",
       "        vertical-align: top;\n",
       "    }\n",
       "\n",
       "    .dataframe thead th {\n",
       "        text-align: right;\n",
       "    }\n",
       "</style>\n",
       "<table border=\"1\" class=\"dataframe\">\n",
       "  <thead>\n",
       "    <tr style=\"text-align: right;\">\n",
       "      <th></th>\n",
       "      <th>date</th>\n",
       "      <th>end</th>\n",
       "      <th>volume</th>\n",
       "    </tr>\n",
       "  </thead>\n",
       "  <tbody>\n",
       "    <tr>\n",
       "      <th>0</th>\n",
       "      <td>2020.10.28</td>\n",
       "      <td>58,900</td>\n",
       "      <td>10,669,385</td>\n",
       "    </tr>\n",
       "    <tr>\n",
       "      <th>1</th>\n",
       "      <td>2020.10.27</td>\n",
       "      <td>59,800</td>\n",
       "      <td>17,260,416</td>\n",
       "    </tr>\n",
       "    <tr>\n",
       "      <th>2</th>\n",
       "      <td>2020.10.26</td>\n",
       "      <td>60,400</td>\n",
       "      <td>13,268,226</td>\n",
       "    </tr>\n",
       "    <tr>\n",
       "      <th>3</th>\n",
       "      <td>2020.10.23</td>\n",
       "      <td>60,200</td>\n",
       "      <td>9,322,232</td>\n",
       "    </tr>\n",
       "    <tr>\n",
       "      <th>4</th>\n",
       "      <td>2020.10.22</td>\n",
       "      <td>60,100</td>\n",
       "      <td>14,294,095</td>\n",
       "    </tr>\n",
       "  </tbody>\n",
       "</table>\n",
       "</div>"
      ],
      "text/plain": [
       "         date     end      volume\n",
       "0  2020.10.28  58,900  10,669,385\n",
       "1  2020.10.27  59,800  17,260,416\n",
       "2  2020.10.26  60,400  13,268,226\n",
       "3  2020.10.23  60,200   9,322,232\n",
       "4  2020.10.22  60,100  14,294,095"
      ]
     },
     "execution_count": 8,
     "metadata": {},
     "output_type": "execute_result"
    }
   ],
   "source": [
    "dates = []\n",
    "prices = []\n",
    "volumes = []\n",
    "\n",
    "for j in range(1,430):\n",
    "    res = requests.get(\"https://finance.naver.com/item/sise_day.nhn?code=005930&page={}\".format(j))\n",
    "    bs = BeautifulSoup(res.text, \"html.parser\")\n",
    "    # print(bs.text)\n",
    "    date = bs.select('span.p10')\n",
    "    price = bs.select('span.p11')\n",
    "\n",
    "    for i in range(len(date)):\n",
    "        dates.append(date[i].text)\n",
    "        prices.append(price[6*i].text)\n",
    "        volumes.append(price[6*i+5].text)\n",
    "\n",
    "data = np.array([dates,prices,volumes])\n",
    "# print(data)\n",
    "stock = pd.DataFrame(data.T, columns=['date','end','volume'])\n",
    "stock.head()"
   ]
  },
  {
   "cell_type": "code",
   "execution_count": 9,
   "metadata": {},
   "outputs": [],
   "source": [
    "stock.to_csv('C:/Users/user/Desktop/samsung_stock_volume.csv',index=False, encoding='utf-8')"
   ]
  }
 ],
 "metadata": {
  "kernelspec": {
   "display_name": "Python 3",
   "language": "python",
   "name": "python3"
  },
  "language_info": {
   "codemirror_mode": {
    "name": "ipython",
    "version": 3
   },
   "file_extension": ".py",
   "mimetype": "text/x-python",
   "name": "python",
   "nbconvert_exporter": "python",
   "pygments_lexer": "ipython3",
   "version": "3.8.3"
  }
 },
 "nbformat": 4,
 "nbformat_minor": 4
}
