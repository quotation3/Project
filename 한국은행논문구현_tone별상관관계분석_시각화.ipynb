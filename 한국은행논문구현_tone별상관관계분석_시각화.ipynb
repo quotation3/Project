{
  "nbformat": 4,
  "nbformat_minor": 0,
  "metadata": {
    "colab": {
      "name": "한국은행논문구현_tone별상관관계분석_시각화.ipynb",
      "provenance": [],
      "mount_file_id": "16yWlq_ANOqlmU8NzPPBqUAcl98-cF7NL",
      "authorship_tag": "ABX9TyP+Y/JTwueOy+JtUXbnZzFi",
      "include_colab_link": true
    },
    "kernelspec": {
      "name": "python3",
      "display_name": "Python 3"
    }
  },
  "cells": [
    {
      "cell_type": "markdown",
      "metadata": {
        "id": "view-in-github",
        "colab_type": "text"
      },
      "source": [
        "<a href=\"https://colab.research.google.com/github/quotation3/project/blob/master/%ED%95%9C%EA%B5%AD%EC%9D%80%ED%96%89%EB%85%BC%EB%AC%B8%EA%B5%AC%ED%98%84_tone%EB%B3%84%EC%83%81%EA%B4%80%EA%B4%80%EA%B3%84%EB%B6%84%EC%84%9D_%EC%8B%9C%EA%B0%81%ED%99%94.ipynb\" target=\"_parent\"><img src=\"https://colab.research.google.com/assets/colab-badge.svg\" alt=\"Open In Colab\"/></a>"
      ]
    },
    {
      "cell_type": "code",
      "metadata": {
        "id": "TrgdacMuzW3q",
        "colab_type": "code",
        "colab": {}
      },
      "source": [
        "import pandas as pd\n",
        "import numpy as np\n",
        "import matplotlib.pyplot as plt \n",
        "import seaborn as sns"
      ],
      "execution_count": 87,
      "outputs": []
    },
    {
      "cell_type": "code",
      "metadata": {
        "id": "lF-Xq4QazWUV",
        "colab_type": "code",
        "colab": {}
      },
      "source": [
        "all_tone = pd.read_csv('/content/drive/My Drive/Colab Notebooks/(All)tone_doc.csv')\n",
        "mpb_news_tone = pd.read_csv('/content/drive/My Drive/Colab Notebooks/(BoK_News)tone_doc.csv')\n",
        "mpb_tone = pd.read_csv('/content/drive/My Drive/Colab Notebooks/(BoK)tone_doc.csv')\n",
        "rate = pd.read_csv('/content/drive/My Drive/Colab Notebooks/policy_rate.csv')"
      ],
      "execution_count": 88,
      "outputs": []
    },
    {
      "cell_type": "code",
      "metadata": {
        "id": "2vbHZSzo0UCD",
        "colab_type": "code",
        "colab": {}
      },
      "source": [
        "# 데이터 전처리\n",
        "rate = rate.drop([0,1,2,3])\n",
        "rate.columns=['date','Rate']\n",
        "all_tone.columns=['date','ALL_TONE']\n",
        "all_tone['date'] = pd.to_datetime(all_tone['date'], format = \"%Y%m%d\").dt.strftime('%Y-%m-%d')\n",
        "mpb_news_tone.columns=['date','MPB_NEWS_TONE']\n",
        "mpb_news_tone['date'] = pd.to_datetime(mpb_news_tone['date'], format = \"%Y%m%d\").dt.strftime('%Y-%m-%d')\n",
        "mpb_tone.columns=['date','MPB_TONE']\n",
        "mpb_tone['date'] = pd.to_datetime(mpb_tone['date'], format = \"%Y%m%d\").dt.strftime('%Y-%m-%d')"
      ],
      "execution_count": 89,
      "outputs": []
    },
    {
      "cell_type": "code",
      "metadata": {
        "id": "O9lINOJQ1gZK",
        "colab_type": "code",
        "colab": {}
      },
      "source": [
        "# 데이터 병합\n",
        "tone1 = pd.merge(all_tone, rate, on='date', how='inner')\n",
        "tone2 = pd.merge(tone1, mpb_news_tone , on='date', how='inner')\n",
        "tone_final = pd.merge(tone2, mpb_tone, on='date', how='inner')"
      ],
      "execution_count": 90,
      "outputs": []
    },
    {
      "cell_type": "code",
      "metadata": {
        "id": "G7QiHeUv2RIs",
        "colab_type": "code",
        "colab": {
          "base_uri": "https://localhost:8080/",
          "height": 419
        },
        "outputId": "6bc78137-f589-4a86-ac8b-e729e63978bc"
      },
      "source": [
        "tone_final = tone_final[['date', 'Rate', 'ALL_TONE', 'MPB_NEWS_TONE', 'MPB_TONE']]\n",
        "tone_final"
      ],
      "execution_count": 91,
      "outputs": [
        {
          "output_type": "execute_result",
          "data": {
            "text/html": [
              "<div>\n",
              "<style scoped>\n",
              "    .dataframe tbody tr th:only-of-type {\n",
              "        vertical-align: middle;\n",
              "    }\n",
              "\n",
              "    .dataframe tbody tr th {\n",
              "        vertical-align: top;\n",
              "    }\n",
              "\n",
              "    .dataframe thead th {\n",
              "        text-align: right;\n",
              "    }\n",
              "</style>\n",
              "<table border=\"1\" class=\"dataframe\">\n",
              "  <thead>\n",
              "    <tr style=\"text-align: right;\">\n",
              "      <th></th>\n",
              "      <th>date</th>\n",
              "      <th>Rate</th>\n",
              "      <th>ALL_TONE</th>\n",
              "      <th>MPB_NEWS_TONE</th>\n",
              "      <th>MPB_TONE</th>\n",
              "    </tr>\n",
              "  </thead>\n",
              "  <tbody>\n",
              "    <tr>\n",
              "      <th>0</th>\n",
              "      <td>2005-05-12</td>\n",
              "      <td>3.25</td>\n",
              "      <td>-0.166667</td>\n",
              "      <td>-0.230769</td>\n",
              "      <td>0.818182</td>\n",
              "    </tr>\n",
              "    <tr>\n",
              "      <th>1</th>\n",
              "      <td>2005-06-09</td>\n",
              "      <td>3.25</td>\n",
              "      <td>0.111111</td>\n",
              "      <td>0.111111</td>\n",
              "      <td>0.500000</td>\n",
              "    </tr>\n",
              "    <tr>\n",
              "      <th>2</th>\n",
              "      <td>2005-07-07</td>\n",
              "      <td>3.25</td>\n",
              "      <td>0.142857</td>\n",
              "      <td>0.333333</td>\n",
              "      <td>-0.714286</td>\n",
              "    </tr>\n",
              "    <tr>\n",
              "      <th>3</th>\n",
              "      <td>2005-08-11</td>\n",
              "      <td>3.25</td>\n",
              "      <td>0.600000</td>\n",
              "      <td>0.625000</td>\n",
              "      <td>1.000000</td>\n",
              "    </tr>\n",
              "    <tr>\n",
              "      <th>4</th>\n",
              "      <td>2005-09-08</td>\n",
              "      <td>3.25</td>\n",
              "      <td>0.333333</td>\n",
              "      <td>0.333333</td>\n",
              "      <td>0.571429</td>\n",
              "    </tr>\n",
              "    <tr>\n",
              "      <th>...</th>\n",
              "      <td>...</td>\n",
              "      <td>...</td>\n",
              "      <td>...</td>\n",
              "      <td>...</td>\n",
              "      <td>...</td>\n",
              "    </tr>\n",
              "    <tr>\n",
              "      <th>156</th>\n",
              "      <td>2019-02-28</td>\n",
              "      <td>1.75</td>\n",
              "      <td>-0.428571</td>\n",
              "      <td>-0.368421</td>\n",
              "      <td>0.600000</td>\n",
              "    </tr>\n",
              "    <tr>\n",
              "      <th>157</th>\n",
              "      <td>2019-04-18</td>\n",
              "      <td>1.75</td>\n",
              "      <td>0.040000</td>\n",
              "      <td>0.040000</td>\n",
              "      <td>0.230769</td>\n",
              "    </tr>\n",
              "    <tr>\n",
              "      <th>158</th>\n",
              "      <td>2019-05-31</td>\n",
              "      <td>1.75</td>\n",
              "      <td>-0.120000</td>\n",
              "      <td>-0.040000</td>\n",
              "      <td>0.357143</td>\n",
              "    </tr>\n",
              "    <tr>\n",
              "      <th>159</th>\n",
              "      <td>2019-07-18</td>\n",
              "      <td>1.50</td>\n",
              "      <td>-0.360000</td>\n",
              "      <td>-0.320000</td>\n",
              "      <td>-0.785714</td>\n",
              "    </tr>\n",
              "    <tr>\n",
              "      <th>160</th>\n",
              "      <td>2019-08-30</td>\n",
              "      <td>1.50</td>\n",
              "      <td>-0.590909</td>\n",
              "      <td>-0.534884</td>\n",
              "      <td>-0.017544</td>\n",
              "    </tr>\n",
              "  </tbody>\n",
              "</table>\n",
              "<p>161 rows × 5 columns</p>\n",
              "</div>"
            ],
            "text/plain": [
              "           date  Rate  ALL_TONE  MPB_NEWS_TONE  MPB_TONE\n",
              "0    2005-05-12  3.25 -0.166667      -0.230769  0.818182\n",
              "1    2005-06-09  3.25  0.111111       0.111111  0.500000\n",
              "2    2005-07-07  3.25  0.142857       0.333333 -0.714286\n",
              "3    2005-08-11  3.25  0.600000       0.625000  1.000000\n",
              "4    2005-09-08  3.25  0.333333       0.333333  0.571429\n",
              "..          ...   ...       ...            ...       ...\n",
              "156  2019-02-28  1.75 -0.428571      -0.368421  0.600000\n",
              "157  2019-04-18  1.75  0.040000       0.040000  0.230769\n",
              "158  2019-05-31  1.75 -0.120000      -0.040000  0.357143\n",
              "159  2019-07-18  1.50 -0.360000      -0.320000 -0.785714\n",
              "160  2019-08-30  1.50 -0.590909      -0.534884 -0.017544\n",
              "\n",
              "[161 rows x 5 columns]"
            ]
          },
          "metadata": {
            "tags": []
          },
          "execution_count": 91
        }
      ]
    },
    {
      "cell_type": "code",
      "metadata": {
        "id": "785zLnFm24-R",
        "colab_type": "code",
        "colab": {
          "base_uri": "https://localhost:8080/",
          "height": 173
        },
        "outputId": "74eab966-712e-4ee7-a3b5-ff2475cfeda8"
      },
      "source": [
        "tone_final.corr()"
      ],
      "execution_count": 92,
      "outputs": [
        {
          "output_type": "execute_result",
          "data": {
            "text/html": [
              "<div>\n",
              "<style scoped>\n",
              "    .dataframe tbody tr th:only-of-type {\n",
              "        vertical-align: middle;\n",
              "    }\n",
              "\n",
              "    .dataframe tbody tr th {\n",
              "        vertical-align: top;\n",
              "    }\n",
              "\n",
              "    .dataframe thead th {\n",
              "        text-align: right;\n",
              "    }\n",
              "</style>\n",
              "<table border=\"1\" class=\"dataframe\">\n",
              "  <thead>\n",
              "    <tr style=\"text-align: right;\">\n",
              "      <th></th>\n",
              "      <th>Rate</th>\n",
              "      <th>ALL_TONE</th>\n",
              "      <th>MPB_NEWS_TONE</th>\n",
              "      <th>MPB_TONE</th>\n",
              "    </tr>\n",
              "  </thead>\n",
              "  <tbody>\n",
              "    <tr>\n",
              "      <th>Rate</th>\n",
              "      <td>1.000000</td>\n",
              "      <td>0.512576</td>\n",
              "      <td>0.496704</td>\n",
              "      <td>0.354033</td>\n",
              "    </tr>\n",
              "    <tr>\n",
              "      <th>ALL_TONE</th>\n",
              "      <td>0.512576</td>\n",
              "      <td>1.000000</td>\n",
              "      <td>0.964687</td>\n",
              "      <td>0.676288</td>\n",
              "    </tr>\n",
              "    <tr>\n",
              "      <th>MPB_NEWS_TONE</th>\n",
              "      <td>0.496704</td>\n",
              "      <td>0.964687</td>\n",
              "      <td>1.000000</td>\n",
              "      <td>0.691521</td>\n",
              "    </tr>\n",
              "    <tr>\n",
              "      <th>MPB_TONE</th>\n",
              "      <td>0.354033</td>\n",
              "      <td>0.676288</td>\n",
              "      <td>0.691521</td>\n",
              "      <td>1.000000</td>\n",
              "    </tr>\n",
              "  </tbody>\n",
              "</table>\n",
              "</div>"
            ],
            "text/plain": [
              "                   Rate  ALL_TONE  MPB_NEWS_TONE  MPB_TONE\n",
              "Rate           1.000000  0.512576       0.496704  0.354033\n",
              "ALL_TONE       0.512576  1.000000       0.964687  0.676288\n",
              "MPB_NEWS_TONE  0.496704  0.964687       1.000000  0.691521\n",
              "MPB_TONE       0.354033  0.676288       0.691521  1.000000"
            ]
          },
          "metadata": {
            "tags": []
          },
          "execution_count": 92
        }
      ]
    },
    {
      "cell_type": "code",
      "metadata": {
        "id": "ZYW6bZpf27xK",
        "colab_type": "code",
        "colab": {
          "base_uri": "https://localhost:8080/",
          "height": 403
        },
        "outputId": "8c42e63a-a77a-4d0b-c303-1e58f137aa1d"
      },
      "source": [
        "plt.figure(figsize=(5,5))\n",
        "sns.heatmap(data = tone_final.corr(),\n",
        "            annot=True,\n",
        "            fmt = '.2f' ,\n",
        "            linewidths=.5,\n",
        "            cmap='Blues')\n",
        "\n",
        "plt.savefig('full_corrplot.png')"
      ],
      "execution_count": 93,
      "outputs": [
        {
          "output_type": "display_data",
          "data": {
            "image/png": "[encoded data removed]",
            "text/plain": [
              "<Figure size 360x360 with 2 Axes>"
            ]
          },
          "metadata": {
            "tags": [],
            "needs_background": "light"
          }
        }
      ]
    },
    {
      "cell_type": "code",
      "metadata": {
        "id": "q3DrdJSjFDz2",
        "colab_type": "code",
        "colab": {
          "base_uri": "https://localhost:8080/",
          "height": 417
        },
        "outputId": "83826cce-0591-43b6-cec4-224ec872bc45"
      },
      "source": [
        "mask = np.zeros_like(tone_final.corr(), dtype=np.bool)  # 하삼각만 남기기 위해 가릴 부분 지정\n",
        "mask[np.triu_indices_from(mask)] = True\n",
        "\n",
        "plt.figure(figsize=(5,5))\n",
        "\n",
        "sns.heatmap(data = tone_final.corr(),\n",
        "            annot=True, # 상관계수 값을 표시\n",
        "            fmt = '.2f',    # 표시값 포맷 설정\n",
        "            linewidths=.5,  # 경계면 실선으로 구분\n",
        "            mask=mask,  # 표시하지 않을 mask 부분 지정\n",
        "            cmap='Blues'    # 색상 설정\n",
        "            )\n",
        "plt.show()\n",
        "\n",
        "plt.savefig('diagonal_corrplot.png')"
      ],
      "execution_count": 94,
      "outputs": [
        {
          "output_type": "display_data",
          "data": {
            "image/png": "[encoded data removed]",
            "text/plain": [
              "<Figure size 360x360 with 2 Axes>"
            ]
          },
          "metadata": {
            "tags": [],
            "needs_background": "light"
          }
        },
        {
          "output_type": "display_data",
          "data": {
            "text/plain": [
              "<Figure size 432x288 with 0 Axes>"
            ]
          },
          "metadata": {
            "tags": []
          }
        }
      ]
    }
  ]
}