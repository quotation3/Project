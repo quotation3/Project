{
  "nbformat": 4,
  "nbformat_minor": 0,
  "metadata": {
    "colab": {
      "name": "corpus_라벨링.ipynb",
      "provenance": [],
      "mount_file_id": "17edjTvg_-fQTMxlINBcmzX0D9R9kagEK",
      "authorship_tag": "ABX9TyPuMr8cBQDszr1/b6vsN3zW",
      "include_colab_link": true
    },
    "kernelspec": {
      "name": "python3",
      "display_name": "Python 3"
    }
  },
  "cells": [
    {
      "cell_type": "markdown",
      "metadata": {
        "id": "view-in-github",
        "colab_type": "text"
      },
      "source": [
        "<a href=\"https://colab.research.google.com/github/quotation3/project/blob/master/corpus_%EB%9D%BC%EB%B2%A8%EB%A7%81.ipynb\" target=\"_parent\"><img src=\"https://colab.research.google.com/assets/colab-badge.svg\" alt=\"Open In Colab\"/></a>"
      ]
    },
    {
      "cell_type": "code",
      "metadata": {
        "id": "f27IHIfNzlBq",
        "colab_type": "code",
        "colab": {}
      },
      "source": [
        "import pandas as pd"
      ],
      "execution_count": 32,
      "outputs": []
    },
    {
      "cell_type": "code",
      "metadata": {
        "id": "xO-AQTFyzpW-",
        "colab_type": "code",
        "colab": {}
      },
      "source": [
        "news = pd.read_csv('/content/drive/My Drive/Colab Notebooks/news_preprocessed.csv')"
      ],
      "execution_count": 33,
      "outputs": []
    },
    {
      "cell_type": "code",
      "metadata": {
        "id": "INm2v68H2oXx",
        "colab_type": "code",
        "colab": {}
      },
      "source": [
        "rates = pd.read_csv('/content/drive/My Drive/Colab Notebooks/label_call_rate.csv')"
      ],
      "execution_count": 34,
      "outputs": []
    },
    {
      "cell_type": "code",
      "metadata": {
        "id": "yo-jFTIT2o1e",
        "colab_type": "code",
        "colab": {}
      },
      "source": [
        "minutes = pd.read_csv('/content/drive/My Drive/Colab Notebooks/minutes_preprocessed.csv')"
      ],
      "execution_count": 35,
      "outputs": []
    },
    {
      "cell_type": "code",
      "metadata": {
        "id": "d15aUCIz3HVN",
        "colab_type": "code",
        "colab": {}
      },
      "source": [
        "from datetime import datetime"
      ],
      "execution_count": 36,
      "outputs": []
    },
    {
      "cell_type": "code",
      "metadata": {
        "id": "MfS_w9bt3LTd",
        "colab_type": "code",
        "colab": {
          "base_uri": "https://localhost:8080/",
          "height": 306
        },
        "outputId": "2f361a7c-9b9b-4e11-9940-5a995f622da5"
      },
      "source": [
        "news.head()"
      ],
      "execution_count": 37,
      "outputs": [
        {
          "output_type": "execute_result",
          "data": {
            "text/html": [
              "<div>\n",
              "<style scoped>\n",
              "    .dataframe tbody tr th:only-of-type {\n",
              "        vertical-align: middle;\n",
              "    }\n",
              "\n",
              "    .dataframe tbody tr th {\n",
              "        vertical-align: top;\n",
              "    }\n",
              "\n",
              "    .dataframe thead th {\n",
              "        text-align: right;\n",
              "    }\n",
              "</style>\n",
              "<table border=\"1\" class=\"dataframe\">\n",
              "  <thead>\n",
              "    <tr style=\"text-align: right;\">\n",
              "      <th></th>\n",
              "      <th>Unnamed: 0</th>\n",
              "      <th>date</th>\n",
              "      <th>media</th>\n",
              "      <th>title</th>\n",
              "      <th>content</th>\n",
              "      <th>ngram</th>\n",
              "    </tr>\n",
              "  </thead>\n",
              "  <tbody>\n",
              "    <tr>\n",
              "      <th>0</th>\n",
              "      <td>0</td>\n",
              "      <td>2005-01-01</td>\n",
              "      <td>연합인포맥스</td>\n",
              "      <td>내년 美국채수익률 5% 넘어서기 어려울 듯</td>\n",
              "      <td>2005년 10년만기 미국 국채수익률이  연방준비제도이사회(FRB)의 금리인상 지속...</td>\n",
              "      <td>['만기/NNG', '국채/NNG', '수익률/NNG', 'fed/NNG', 'fe...</td>\n",
              "    </tr>\n",
              "    <tr>\n",
              "      <th>1</th>\n",
              "      <td>1</td>\n",
              "      <td>2005-01-01</td>\n",
              "      <td>연합인포맥스</td>\n",
              "      <td>[뉴욕채권-마감] 10년만기 국채수익률 작년보다 낮은 수준서 마쳐</td>\n",
              "      <td>2년만기 국채가격 4년래 최악의 한해 보내     10년만기 미국  국채수익률이  ...</td>\n",
              "      <td>['만기/NNG', '국채/NNG', '가격/NNG', '최악/NNG', '보내/V...</td>\n",
              "    </tr>\n",
              "    <tr>\n",
              "      <th>2</th>\n",
              "      <td>2</td>\n",
              "      <td>2005-01-01</td>\n",
              "      <td>연합인포맥스</td>\n",
              "      <td>[뉴욕환시] `내년초 달러-엔에 주력'..달러 對엔 하락</td>\n",
              "      <td>2004년 마지막 거래일인 31일  뉴욕환시에서 미국 달러화는 개장초 102엔 근처...</td>\n",
              "      <td>['마지막/NNG', '거래일/NNG', '뉴욕/NNG', '환시/NNG', '달러...</td>\n",
              "    </tr>\n",
              "    <tr>\n",
              "      <th>3</th>\n",
              "      <td>3</td>\n",
              "      <td>2005-01-01</td>\n",
              "      <td>연합인포맥스</td>\n",
              "      <td>[31일 뉴욕금융시장 요약] 한산한 거래속 새해 준비</td>\n",
              "      <td>) 한해 마지막 날인 31일 뉴욕 주요 금융시장은 한산한 거래속에 새해를 준비하는 ...</td>\n",
              "      <td>['마지막/NNG', '날/NNG', '뉴욕/NNG', '금융시장/NNG', '한산...</td>\n",
              "    </tr>\n",
              "    <tr>\n",
              "      <th>4</th>\n",
              "      <td>4</td>\n",
              "      <td>2005-01-02</td>\n",
              "      <td>연합인포맥스</td>\n",
              "      <td>美 증시 기술주 주도로 2년 연속 상승..'01년래 최고</td>\n",
              "      <td>지난해 뉴욕증시는 기술주 주도로 2년  연속연초 대비 상승하면서 대표지수들을 지난 ...</td>\n",
              "      <td>['주도/NNG', '연속/NNG', '대비/NNG', '상승/NNG', '하/XS...</td>\n",
              "    </tr>\n",
              "  </tbody>\n",
              "</table>\n",
              "</div>"
            ],
            "text/plain": [
              "   Unnamed: 0  ...                                              ngram\n",
              "0           0  ...  ['만기/NNG', '국채/NNG', '수익률/NNG', 'fed/NNG', 'fe...\n",
              "1           1  ...  ['만기/NNG', '국채/NNG', '가격/NNG', '최악/NNG', '보내/V...\n",
              "2           2  ...  ['마지막/NNG', '거래일/NNG', '뉴욕/NNG', '환시/NNG', '달러...\n",
              "3           3  ...  ['마지막/NNG', '날/NNG', '뉴욕/NNG', '금융시장/NNG', '한산...\n",
              "4           4  ...  ['주도/NNG', '연속/NNG', '대비/NNG', '상승/NNG', '하/XS...\n",
              "\n",
              "[5 rows x 6 columns]"
            ]
          },
          "metadata": {
            "tags": []
          },
          "execution_count": 37
        }
      ]
    },
    {
      "cell_type": "code",
      "metadata": {
        "id": "PB8tyD9E3TD1",
        "colab_type": "code",
        "colab": {
          "base_uri": "https://localhost:8080/",
          "height": 204
        },
        "outputId": "3459b5af-6253-4c6d-b5ad-42b8cd9a3c86"
      },
      "source": [
        "rates.head()"
      ],
      "execution_count": 38,
      "outputs": [
        {
          "output_type": "execute_result",
          "data": {
            "text/html": [
              "<div>\n",
              "<style scoped>\n",
              "    .dataframe tbody tr th:only-of-type {\n",
              "        vertical-align: middle;\n",
              "    }\n",
              "\n",
              "    .dataframe tbody tr th {\n",
              "        vertical-align: top;\n",
              "    }\n",
              "\n",
              "    .dataframe thead th {\n",
              "        text-align: right;\n",
              "    }\n",
              "</style>\n",
              "<table border=\"1\" class=\"dataframe\">\n",
              "  <thead>\n",
              "    <tr style=\"text-align: right;\">\n",
              "      <th></th>\n",
              "      <th>date</th>\n",
              "      <th>call_rate</th>\n",
              "      <th>rate_before30</th>\n",
              "      <th>rate_gap</th>\n",
              "      <th>label</th>\n",
              "    </tr>\n",
              "  </thead>\n",
              "  <tbody>\n",
              "    <tr>\n",
              "      <th>0</th>\n",
              "      <td>2020-07-27</td>\n",
              "      <td>0.49</td>\n",
              "      <td>0.47</td>\n",
              "      <td>0.02</td>\n",
              "      <td>no_change</td>\n",
              "    </tr>\n",
              "    <tr>\n",
              "      <th>1</th>\n",
              "      <td>2020-07-24</td>\n",
              "      <td>0.48</td>\n",
              "      <td>0.48</td>\n",
              "      <td>0.00</td>\n",
              "      <td>no_change</td>\n",
              "    </tr>\n",
              "    <tr>\n",
              "      <th>2</th>\n",
              "      <td>2020-07-23</td>\n",
              "      <td>0.46</td>\n",
              "      <td>0.47</td>\n",
              "      <td>-0.01</td>\n",
              "      <td>no_change</td>\n",
              "    </tr>\n",
              "    <tr>\n",
              "      <th>3</th>\n",
              "      <td>2020-07-22</td>\n",
              "      <td>0.45</td>\n",
              "      <td>0.47</td>\n",
              "      <td>-0.02</td>\n",
              "      <td>no_change</td>\n",
              "    </tr>\n",
              "    <tr>\n",
              "      <th>4</th>\n",
              "      <td>2020-07-21</td>\n",
              "      <td>0.46</td>\n",
              "      <td>0.46</td>\n",
              "      <td>0.00</td>\n",
              "      <td>no_change</td>\n",
              "    </tr>\n",
              "  </tbody>\n",
              "</table>\n",
              "</div>"
            ],
            "text/plain": [
              "         date  call_rate  rate_before30  rate_gap      label\n",
              "0  2020-07-27       0.49           0.47      0.02  no_change\n",
              "1  2020-07-24       0.48           0.48      0.00  no_change\n",
              "2  2020-07-23       0.46           0.47     -0.01  no_change\n",
              "3  2020-07-22       0.45           0.47     -0.02  no_change\n",
              "4  2020-07-21       0.46           0.46      0.00  no_change"
            ]
          },
          "metadata": {
            "tags": []
          },
          "execution_count": 38
        }
      ]
    },
    {
      "cell_type": "code",
      "metadata": {
        "id": "ZzKvzDSD3mBt",
        "colab_type": "code",
        "colab": {}
      },
      "source": [
        "minutes['date'] = pd.to_datetime(minutes['date'], format = \"%Y%m%d\").dt.strftime('%Y-%m-%d')"
      ],
      "execution_count": 39,
      "outputs": []
    },
    {
      "cell_type": "code",
      "metadata": {
        "id": "ZbA762CA5zWr",
        "colab_type": "code",
        "colab": {}
      },
      "source": [
        "minutes['date'] = pd.to_datetime(minutes['date'], format='%Y-%m-%d')"
      ],
      "execution_count": 40,
      "outputs": []
    },
    {
      "cell_type": "code",
      "metadata": {
        "id": "cY9IHeNl3b79",
        "colab_type": "code",
        "colab": {
          "base_uri": "https://localhost:8080/",
          "height": 723
        },
        "outputId": "5a6b02d8-aa5b-4390-a4c3-9b94423f2eff"
      },
      "source": [
        "minutes.head(3)"
      ],
      "execution_count": 41,
      "outputs": [
        {
          "output_type": "execute_result",
          "data": {
            "text/html": [
              "<div>\n",
              "<style scoped>\n",
              "    .dataframe tbody tr th:only-of-type {\n",
              "        vertical-align: middle;\n",
              "    }\n",
              "\n",
              "    .dataframe tbody tr th {\n",
              "        vertical-align: top;\n",
              "    }\n",
              "\n",
              "    .dataframe thead th {\n",
              "        text-align: right;\n",
              "    }\n",
              "</style>\n",
              "<table border=\"1\" class=\"dataframe\">\n",
              "  <thead>\n",
              "    <tr style=\"text-align: right;\">\n",
              "      <th></th>\n",
              "      <th>date</th>\n",
              "      <th>minutes</th>\n",
              "      <th>Economic Situation</th>\n",
              "      <th>Foreign Currency</th>\n",
              "      <th>Financial Markets</th>\n",
              "      <th>Monetary Policy</th>\n",
              "      <th>Participant Views</th>\n",
              "      <th>Government View</th>\n",
              "      <th>Economic Situation count</th>\n",
              "      <th>Foreign Currency count</th>\n",
              "      <th>Financial Markets count</th>\n",
              "      <th>Monetary Policy count</th>\n",
              "      <th>Participant Views count</th>\n",
              "      <th>Government View count</th>\n",
              "      <th>ngram</th>\n",
              "    </tr>\n",
              "  </thead>\n",
              "  <tbody>\n",
              "    <tr>\n",
              "      <th>0</th>\n",
              "      <td>2005-05-12</td>\n",
              "      <td>金融通貨委員會 議事錄\\n\\n\\t\\t\\t\\t\\t\\t\\t\\t\\t\\t\\t\\t\\t\\t\\t\\...</td>\n",
              "      <td>일부 위원은 지난해 풍작에 따른 효과와 금년초 담배가격 인상에 따른 생산 감소 등 ...</td>\n",
              "      <td>일부 위원은 내외금리차 역전에 따라 자금의 해외유출이 대규모로 발생될 가능성을 상당...</td>\n",
              "      <td>일부 위원은 4월중 연기금의 주식매매 패턴이 주식시장의 안정과 역행하는 방향으로 작...</td>\n",
              "      <td>일부 위원은 주택가격 급등에 대해 중앙은행이 정책금리 인상으로 대응했던 영국과 호주...</td>\n",
              "      <td>NaN</td>\n",
              "      <td>NaN</td>\n",
              "      <td>16</td>\n",
              "      <td>6</td>\n",
              "      <td>7</td>\n",
              "      <td>46</td>\n",
              "      <td>0</td>\n",
              "      <td>0</td>\n",
              "      <td>내외/NNG,금리갭/NNG,역전/NNG,자금/NNG,해외/NNG,유출/NNG,대규모...</td>\n",
              "    </tr>\n",
              "    <tr>\n",
              "      <th>1</th>\n",
              "      <td>2005-06-09</td>\n",
              "      <td>金融通貨委員會 議事錄\\n\\n\\n\\n\\t\\t\\t\\t\\t\\t\\t\\t\\t\\t\\t\\t\\t\\...</td>\n",
              "      <td>일부 위원은 최근 소비재판매액 증가세가 다소 둔화되고 있으나 GDP 상의 소비와 소...</td>\n",
              "      <td>일부 위원은 우리나라 경제가 일본경제에 비해 더 나아질 특별한 요인이 없음에도 불구...</td>\n",
              "      <td>일부 위원은 M1이 실물경제와 어느 정도의 시차를 두고 밀접한 연관성을 지니는지, ...</td>\n",
              "      <td>일부 위원은 금년 상반기 재정 조기집행에 따른 반사효과로 하반기에는 재정기조가 긴축...</td>\n",
              "      <td>일부 위원은 다음과 같은 점을 종합적으로 고려할 때 콜금리 목표를 현 수준에서 유지...</td>\n",
              "      <td>NaN</td>\n",
              "      <td>18</td>\n",
              "      <td>4</td>\n",
              "      <td>5</td>\n",
              "      <td>6</td>\n",
              "      <td>35</td>\n",
              "      <td>0</td>\n",
              "      <td>경제/NNG,경제/NNG,비해/VV,더/MAG,낫/VV,특별/NNG,요인/NNG,없...</td>\n",
              "    </tr>\n",
              "    <tr>\n",
              "      <th>2</th>\n",
              "      <td>2005-07-07</td>\n",
              "      <td>金融通貨委員會 議事錄\\n\\n\\t\\t\\t\\t\\t\\t\\t\\t\\t\\t\\t\\t\\t\\t\\t\\...</td>\n",
              "      <td>일부 위원은 최근 이란의 새 대통령 취임 이후 자국경제 보호주의 강화 등으로 중동산...</td>\n",
              "      <td>일부 위원은 6월 들어 국제유가가 크게 오르고 원화와 엔화간 동조화 현상이 뚜렷해지...</td>\n",
              "      <td>일부 위원은 단기적으로 대출이 급격히 증가한 후에는 반드시 조정이 이어지고 민간소비...</td>\n",
              "      <td>일부 위원은 금년 상반기중 아파트가격 급등세는 전국적인 현상은 아닌 것으로 보인다며...</td>\n",
              "      <td>일부 위원은 다음과 같은 점을 종합적으로 고려할 때 다음 결정시까지 콜금리 목표를 ...</td>\n",
              "      <td>NaN</td>\n",
              "      <td>10</td>\n",
              "      <td>5</td>\n",
              "      <td>2</td>\n",
              "      <td>11</td>\n",
              "      <td>47</td>\n",
              "      <td>0</td>\n",
              "      <td>들/VV,국제/NNG,유가/NNG,크/VA,오르/VV,원화/NNG,엔/NNG,화간/...</td>\n",
              "    </tr>\n",
              "  </tbody>\n",
              "</table>\n",
              "</div>"
            ],
            "text/plain": [
              "        date  ...                                              ngram\n",
              "0 2005-05-12  ...  내외/NNG,금리갭/NNG,역전/NNG,자금/NNG,해외/NNG,유출/NNG,대규모...\n",
              "1 2005-06-09  ...  경제/NNG,경제/NNG,비해/VV,더/MAG,낫/VV,특별/NNG,요인/NNG,없...\n",
              "2 2005-07-07  ...  들/VV,국제/NNG,유가/NNG,크/VA,오르/VV,원화/NNG,엔/NNG,화간/...\n",
              "\n",
              "[3 rows x 15 columns]"
            ]
          },
          "metadata": {
            "tags": []
          },
          "execution_count": 41
        }
      ]
    },
    {
      "cell_type": "code",
      "metadata": {
        "id": "L4Qvr5Th4ZF0",
        "colab_type": "code",
        "colab": {}
      },
      "source": [
        "news['date'] = pd.to_datetime(news['date'], format='%Y-%m-%d')"
      ],
      "execution_count": 42,
      "outputs": []
    },
    {
      "cell_type": "code",
      "metadata": {
        "id": "y534GSeA4ZQD",
        "colab_type": "code",
        "colab": {}
      },
      "source": [
        "rates['date'] = pd.to_datetime(rates['date'], format='%Y-%m-%d')"
      ],
      "execution_count": 43,
      "outputs": []
    },
    {
      "cell_type": "code",
      "metadata": {
        "id": "GaMmjakR4ZUj",
        "colab_type": "code",
        "colab": {
          "base_uri": "https://localhost:8080/",
          "height": 204
        },
        "outputId": "8a6d0f26-60f4-4247-f11f-293edc3e2524"
      },
      "source": [
        "df1 = pd.merge(minutes,rates, on='date', how='inner') # 의사록 데이터와 금리를 date기준으로 inner 조인\n",
        "minutes_label=df1[['date','ngram','call_rate','rate_before30','rate_gap','label']]\n",
        "minutes_label.head()"
      ],
      "execution_count": 44,
      "outputs": [
        {
          "output_type": "execute_result",
          "data": {
            "text/html": [
              "<div>\n",
              "<style scoped>\n",
              "    .dataframe tbody tr th:only-of-type {\n",
              "        vertical-align: middle;\n",
              "    }\n",
              "\n",
              "    .dataframe tbody tr th {\n",
              "        vertical-align: top;\n",
              "    }\n",
              "\n",
              "    .dataframe thead th {\n",
              "        text-align: right;\n",
              "    }\n",
              "</style>\n",
              "<table border=\"1\" class=\"dataframe\">\n",
              "  <thead>\n",
              "    <tr style=\"text-align: right;\">\n",
              "      <th></th>\n",
              "      <th>date</th>\n",
              "      <th>ngram</th>\n",
              "      <th>call_rate</th>\n",
              "      <th>rate_before30</th>\n",
              "      <th>rate_gap</th>\n",
              "      <th>label</th>\n",
              "    </tr>\n",
              "  </thead>\n",
              "  <tbody>\n",
              "    <tr>\n",
              "      <th>0</th>\n",
              "      <td>2005-05-12</td>\n",
              "      <td>내외/NNG,금리갭/NNG,역전/NNG,자금/NNG,해외/NNG,유출/NNG,대규모...</td>\n",
              "      <td>3.30</td>\n",
              "      <td>3.24</td>\n",
              "      <td>0.06</td>\n",
              "      <td>hawkish</td>\n",
              "    </tr>\n",
              "    <tr>\n",
              "      <th>1</th>\n",
              "      <td>2005-06-09</td>\n",
              "      <td>경제/NNG,경제/NNG,비해/VV,더/MAG,낫/VV,특별/NNG,요인/NNG,없...</td>\n",
              "      <td>3.28</td>\n",
              "      <td>3.30</td>\n",
              "      <td>-0.02</td>\n",
              "      <td>no_change</td>\n",
              "    </tr>\n",
              "    <tr>\n",
              "      <th>2</th>\n",
              "      <td>2005-07-07</td>\n",
              "      <td>들/VV,국제/NNG,유가/NNG,크/VA,오르/VV,원화/NNG,엔/NNG,화간/...</td>\n",
              "      <td>3.03</td>\n",
              "      <td>3.20</td>\n",
              "      <td>-0.17</td>\n",
              "      <td>dovish</td>\n",
              "    </tr>\n",
              "    <tr>\n",
              "      <th>3</th>\n",
              "      <td>2005-08-11</td>\n",
              "      <td>위안/NNG,절상/NNG,원화/NNG,절상/NNG,가장/MAG,크/VA,추가/NNG...</td>\n",
              "      <td>3.26</td>\n",
              "      <td>3.21</td>\n",
              "      <td>0.05</td>\n",
              "      <td>hawkish</td>\n",
              "    </tr>\n",
              "    <tr>\n",
              "      <th>4</th>\n",
              "      <td>2005-09-08</td>\n",
              "      <td>금융/NNG,불안사태/NNG,발생/NNG,하/VV,가운데/NNG,국제/NNG,환투기...</td>\n",
              "      <td>3.24</td>\n",
              "      <td>3.26</td>\n",
              "      <td>-0.02</td>\n",
              "      <td>no_change</td>\n",
              "    </tr>\n",
              "  </tbody>\n",
              "</table>\n",
              "</div>"
            ],
            "text/plain": [
              "        date  ...      label\n",
              "0 2005-05-12  ...    hawkish\n",
              "1 2005-06-09  ...  no_change\n",
              "2 2005-07-07  ...     dovish\n",
              "3 2005-08-11  ...    hawkish\n",
              "4 2005-09-08  ...  no_change\n",
              "\n",
              "[5 rows x 6 columns]"
            ]
          },
          "metadata": {
            "tags": []
          },
          "execution_count": 44
        }
      ]
    },
    {
      "cell_type": "code",
      "metadata": {
        "id": "lDkdPpf749FB",
        "colab_type": "code",
        "colab": {
          "base_uri": "https://localhost:8080/",
          "height": 289
        },
        "outputId": "c4cb0012-34dd-42c8-a09e-848f340de3d1"
      },
      "source": [
        "df2 = pd.merge(news,rates, on='date', how='inner') # 뉴스 데이터와 금리를 date기준으로 inner 조인\n",
        "news_label=df2[['date','media','title','ngram','call_rate','rate_before30','rate_gap','label']]\n",
        "news_label.head()"
      ],
      "execution_count": 45,
      "outputs": [
        {
          "output_type": "execute_result",
          "data": {
            "text/html": [
              "<div>\n",
              "<style scoped>\n",
              "    .dataframe tbody tr th:only-of-type {\n",
              "        vertical-align: middle;\n",
              "    }\n",
              "\n",
              "    .dataframe tbody tr th {\n",
              "        vertical-align: top;\n",
              "    }\n",
              "\n",
              "    .dataframe thead th {\n",
              "        text-align: right;\n",
              "    }\n",
              "</style>\n",
              "<table border=\"1\" class=\"dataframe\">\n",
              "  <thead>\n",
              "    <tr style=\"text-align: right;\">\n",
              "      <th></th>\n",
              "      <th>date</th>\n",
              "      <th>media</th>\n",
              "      <th>title</th>\n",
              "      <th>ngram</th>\n",
              "      <th>call_rate</th>\n",
              "      <th>rate_before30</th>\n",
              "      <th>rate_gap</th>\n",
              "      <th>label</th>\n",
              "    </tr>\n",
              "  </thead>\n",
              "  <tbody>\n",
              "    <tr>\n",
              "      <th>0</th>\n",
              "      <td>2005-01-01</td>\n",
              "      <td>연합인포맥스</td>\n",
              "      <td>내년 美국채수익률 5% 넘어서기 어려울 듯</td>\n",
              "      <td>['만기/NNG', '국채/NNG', '수익률/NNG', 'fed/NNG', 'fe...</td>\n",
              "      <td>3.29</td>\n",
              "      <td>3.26</td>\n",
              "      <td>0.03</td>\n",
              "      <td>hawkish</td>\n",
              "    </tr>\n",
              "    <tr>\n",
              "      <th>1</th>\n",
              "      <td>2005-01-01</td>\n",
              "      <td>연합인포맥스</td>\n",
              "      <td>[뉴욕채권-마감] 10년만기 국채수익률 작년보다 낮은 수준서 마쳐</td>\n",
              "      <td>['만기/NNG', '국채/NNG', '가격/NNG', '최악/NNG', '보내/V...</td>\n",
              "      <td>3.29</td>\n",
              "      <td>3.26</td>\n",
              "      <td>0.03</td>\n",
              "      <td>hawkish</td>\n",
              "    </tr>\n",
              "    <tr>\n",
              "      <th>2</th>\n",
              "      <td>2005-01-01</td>\n",
              "      <td>연합인포맥스</td>\n",
              "      <td>[뉴욕환시] `내년초 달러-엔에 주력'..달러 對엔 하락</td>\n",
              "      <td>['마지막/NNG', '거래일/NNG', '뉴욕/NNG', '환시/NNG', '달러...</td>\n",
              "      <td>3.29</td>\n",
              "      <td>3.26</td>\n",
              "      <td>0.03</td>\n",
              "      <td>hawkish</td>\n",
              "    </tr>\n",
              "    <tr>\n",
              "      <th>3</th>\n",
              "      <td>2005-01-01</td>\n",
              "      <td>연합인포맥스</td>\n",
              "      <td>[31일 뉴욕금융시장 요약] 한산한 거래속 새해 준비</td>\n",
              "      <td>['마지막/NNG', '날/NNG', '뉴욕/NNG', '금융시장/NNG', '한산...</td>\n",
              "      <td>3.29</td>\n",
              "      <td>3.26</td>\n",
              "      <td>0.03</td>\n",
              "      <td>hawkish</td>\n",
              "    </tr>\n",
              "    <tr>\n",
              "      <th>4</th>\n",
              "      <td>2005-01-01</td>\n",
              "      <td>이데일리</td>\n",
              "      <td>(월가시각)내일에는 내일의 태양이</td>\n",
              "      <td>['마지막/NNG', '거래일/NNG', '부진/NNG', '아쉽/VA', '하/V...</td>\n",
              "      <td>3.29</td>\n",
              "      <td>3.26</td>\n",
              "      <td>0.03</td>\n",
              "      <td>hawkish</td>\n",
              "    </tr>\n",
              "  </tbody>\n",
              "</table>\n",
              "</div>"
            ],
            "text/plain": [
              "        date   media  ... rate_gap    label\n",
              "0 2005-01-01  연합인포맥스  ...     0.03  hawkish\n",
              "1 2005-01-01  연합인포맥스  ...     0.03  hawkish\n",
              "2 2005-01-01  연합인포맥스  ...     0.03  hawkish\n",
              "3 2005-01-01  연합인포맥스  ...     0.03  hawkish\n",
              "4 2005-01-01    이데일리  ...     0.03  hawkish\n",
              "\n",
              "[5 rows x 8 columns]"
            ]
          },
          "metadata": {
            "tags": []
          },
          "execution_count": 45
        }
      ]
    },
    {
      "cell_type": "code",
      "metadata": {
        "id": "a-9dXeaI4Zh7",
        "colab_type": "code",
        "colab": {}
      },
      "source": [
        "news_label.to_csv('news_label.csv', index=False, encoding=\"utf-8\")"
      ],
      "execution_count": 46,
      "outputs": []
    },
    {
      "cell_type": "code",
      "metadata": {
        "id": "1kDTtU0T99wX",
        "colab_type": "code",
        "colab": {}
      },
      "source": [
        "minutes_label.to_csv('minutes_label.csv', index=False, encoding=\"utf-8\")"
      ],
      "execution_count": 47,
      "outputs": []
    }
  ]
}