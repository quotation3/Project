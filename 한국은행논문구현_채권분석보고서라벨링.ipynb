{
  "nbformat": 4,
  "nbformat_minor": 0,
  "metadata": {
    "colab": {
      "name": "한국은행논문구현_채권분석보고서라벨링.ipynb",
      "provenance": [],
      "mount_file_id": "1f-Zt88G_6EmwrfzYEvuaH3bMrk_2sGn1",
      "authorship_tag": "ABX9TyNEb1Ey7NB0sQTwIIwBld8U",
      "include_colab_link": true
    },
    "kernelspec": {
      "name": "python3",
      "display_name": "Python 3"
    }
  },
  "cells": [
    {
      "cell_type": "markdown",
      "metadata": {
        "id": "view-in-github",
        "colab_type": "text"
      },
      "source": [
        "<a href=\"https://colab.research.google.com/github/quotation3/project/blob/master/%ED%95%9C%EA%B5%AD%EC%9D%80%ED%96%89%EB%85%BC%EB%AC%B8%EA%B5%AC%ED%98%84_%EC%B1%84%EA%B6%8C%EB%B6%84%EC%84%9D%EB%B3%B4%EA%B3%A0%EC%84%9C%EB%9D%BC%EB%B2%A8%EB%A7%81.ipynb\" target=\"_parent\"><img src=\"https://colab.research.google.com/assets/colab-badge.svg\" alt=\"Open In Colab\"/></a>"
      ]
    },
    {
      "cell_type": "code",
      "metadata": {
        "id": "KFzMtWwVG337",
        "colab_type": "code",
        "colab": {}
      },
      "source": [
        "import pandas as pd\n",
        "from datetime import datetime"
      ],
      "execution_count": 1,
      "outputs": []
    },
    {
      "cell_type": "code",
      "metadata": {
        "id": "ZO0-Za_NG5us",
        "colab_type": "code",
        "colab": {}
      },
      "source": [
        "rates = pd.read_csv('/content/drive/My Drive/Colab Notebooks/label_call_rate.csv')\n",
        "reports = pd.read_csv('/content/drive/My Drive/Colab Notebooks/report_preprocessed.csv')"
      ],
      "execution_count": 2,
      "outputs": []
    },
    {
      "cell_type": "code",
      "metadata": {
        "id": "fuq9exu5HRmU",
        "colab_type": "code",
        "colab": {}
      },
      "source": [
        "reports['date'] = pd.to_datetime(reports['date'], format = \"%y.%m.%d\").dt.strftime('%Y-%m-%d')"
      ],
      "execution_count": 4,
      "outputs": []
    },
    {
      "cell_type": "code",
      "metadata": {
        "id": "RzczwEyHHKTu",
        "colab_type": "code",
        "colab": {
          "base_uri": "https://localhost:8080/",
          "height": 606
        },
        "outputId": "70f43f2d-fd32-415e-ea91-ac617f2c6884"
      },
      "source": [
        "reports"
      ],
      "execution_count": 10,
      "outputs": [
        {
          "output_type": "execute_result",
          "data": {
            "text/html": [
              "<div>\n",
              "<style scoped>\n",
              "    .dataframe tbody tr th:only-of-type {\n",
              "        vertical-align: middle;\n",
              "    }\n",
              "\n",
              "    .dataframe tbody tr th {\n",
              "        vertical-align: top;\n",
              "    }\n",
              "\n",
              "    .dataframe thead th {\n",
              "        text-align: right;\n",
              "    }\n",
              "</style>\n",
              "<table border=\"1\" class=\"dataframe\">\n",
              "  <thead>\n",
              "    <tr style=\"text-align: right;\">\n",
              "      <th></th>\n",
              "      <th>Unnamed: 0</th>\n",
              "      <th>date</th>\n",
              "      <th>company</th>\n",
              "      <th>title</th>\n",
              "      <th>content</th>\n",
              "      <th>view</th>\n",
              "      <th>ngram</th>\n",
              "    </tr>\n",
              "  </thead>\n",
              "  <tbody>\n",
              "    <tr>\n",
              "      <th>0</th>\n",
              "      <td>0</td>\n",
              "      <td>2008-04-01</td>\n",
              "      <td>대우증권</td>\n",
              "      <td>대우증권 월간 채권투자 4월</td>\n",
              "      <td>ㅎㅎㅎ2008_04  월간채권투자채 권 시 장 전 망금 융 시 장 차 트 북對應과 ...</td>\n",
              "      <td>208</td>\n",
              "      <td>['가/VV', '권투/NNG', '자채/NNG', '시장/NNG', '전망/NNG...</td>\n",
              "    </tr>\n",
              "    <tr>\n",
              "      <th>1</th>\n",
              "      <td>1</td>\n",
              "      <td>2008-04-07</td>\n",
              "      <td>대우증권</td>\n",
              "      <td>돌아온 박스권</td>\n",
              "      <td>Microsoft Word - 0407.docFixed Income Weekly 2...</td>\n",
              "      <td>1665</td>\n",
              "      <td>['돌아온/VV', '박스권/NNG', '하단/NNG', '상단/NNG', '테스트...</td>\n",
              "    </tr>\n",
              "    <tr>\n",
              "      <th>2</th>\n",
              "      <td>2</td>\n",
              "      <td>2008-04-07</td>\n",
              "      <td>대우증권</td>\n",
              "      <td>시간차 공격</td>\n",
              "      <td>Microsoft Word - 0407.docFixed Income Weekly 2...</td>\n",
              "      <td>93</td>\n",
              "      <td>['돌아온/VV', '박스권/NNG', '하단/NNG', '상단/NNG', '테스트...</td>\n",
              "    </tr>\n",
              "    <tr>\n",
              "      <th>3</th>\n",
              "      <td>3</td>\n",
              "      <td>2008-04-14</td>\n",
              "      <td>대우증권</td>\n",
              "      <td>총재의 변신은 무죄다</td>\n",
              "      <td>Microsoft Word - Fixedincome0414.doc    4월 금통위...</td>\n",
              "      <td>114</td>\n",
              "      <td>['믹스/NNG', '합의/NNG', '반영/NNG', '예상/NNG', '경제/N...</td>\n",
              "    </tr>\n",
              "    <tr>\n",
              "      <th>4</th>\n",
              "      <td>4</td>\n",
              "      <td>2008-04-21</td>\n",
              "      <td>대우증권</td>\n",
              "      <td>항상 열려는 있는 가능성</td>\n",
              "      <td>Microsoft Word - 920_0421_Fixed Income Weekly....</td>\n",
              "      <td>233</td>\n",
              "      <td>['경기/NNG', '전망/NNG', '비교적/VAX', '분명/MAG', '인플레...</td>\n",
              "    </tr>\n",
              "    <tr>\n",
              "      <th>...</th>\n",
              "      <td>...</td>\n",
              "      <td>...</td>\n",
              "      <td>...</td>\n",
              "      <td>...</td>\n",
              "      <td>...</td>\n",
              "      <td>...</td>\n",
              "      <td>...</td>\n",
              "    </tr>\n",
              "    <tr>\n",
              "      <th>3566</th>\n",
              "      <td>3576</td>\n",
              "      <td>2020-01-23</td>\n",
              "      <td>하나금융투자</td>\n",
              "      <td>브라질 기대보다 더딘 발걸음</td>\n",
              "      <td>2013년 0월 0일          브라질, 기대보다 더딘 발걸음 Investme...</td>\n",
              "      <td>148</td>\n",
              "      <td>['기대/NNG', '더디/VA', '발걸음/NNG', '외채/NNG', '해외/N...</td>\n",
              "    </tr>\n",
              "    <tr>\n",
              "      <th>3567</th>\n",
              "      <td>3577</td>\n",
              "      <td>2020-01-28</td>\n",
              "      <td>미래에셋대우</td>\n",
              "      <td>1월 회사채 순발행 전년대비 감소</td>\n",
              "      <td>Microsoft Word - 2020012318512405.docx        ...</td>\n",
              "      <td>31</td>\n",
              "      <td>['크레딧/NNG', '투자전략/NNG', '신용/NNG', '분석/NNG', '민...</td>\n",
              "    </tr>\n",
              "    <tr>\n",
              "      <th>3568</th>\n",
              "      <td>3578</td>\n",
              "      <td>2020-01-28</td>\n",
              "      <td>이베스트증권</td>\n",
              "      <td>증권사 채권의 투자매력도</td>\n",
              "      <td>(Microsoft Word - 20200128_Market Inside_Credi...</td>\n",
              "      <td>53</td>\n",
              "      <td>['크레딧/NNG', '이슈/NNG', '신용스프레드/NNG', '동향/NNG', ...</td>\n",
              "    </tr>\n",
              "    <tr>\n",
              "      <th>3569</th>\n",
              "      <td>3579</td>\n",
              "      <td>2020-01-28</td>\n",
              "      <td>키움증권</td>\n",
              "      <td>이벤트 없이 지나갈 FOMC</td>\n",
              "      <td>고지사항  - 본 조사분석자료는 당사의 리서치센터가 신뢰할 수 있는 자료 및 정보로...</td>\n",
              "      <td>59</td>\n",
              "      <td>['고지/NNG', '사항/NNG', '조사/NNG', '분석/NNG', '자료/N...</td>\n",
              "    </tr>\n",
              "    <tr>\n",
              "      <th>3570</th>\n",
              "      <td>3580</td>\n",
              "      <td>2020-01-29</td>\n",
              "      <td>하나금융투자</td>\n",
              "      <td>한밤중에 흔들다리 건너가기</td>\n",
              "      <td>2013년 0월 0일 `        한밤중에 흔들다리 건너가기  Issue Com...</td>\n",
              "      <td>49</td>\n",
              "      <td>['밤중/NNG', '흔들/VV', '건너/VV', '의현/NNG', '보/VV',...</td>\n",
              "    </tr>\n",
              "  </tbody>\n",
              "</table>\n",
              "<p>3571 rows × 7 columns</p>\n",
              "</div>"
            ],
            "text/plain": [
              "      Unnamed: 0  ...                                              ngram\n",
              "0              0  ...  ['가/VV', '권투/NNG', '자채/NNG', '시장/NNG', '전망/NNG...\n",
              "1              1  ...  ['돌아온/VV', '박스권/NNG', '하단/NNG', '상단/NNG', '테스트...\n",
              "2              2  ...  ['돌아온/VV', '박스권/NNG', '하단/NNG', '상단/NNG', '테스트...\n",
              "3              3  ...  ['믹스/NNG', '합의/NNG', '반영/NNG', '예상/NNG', '경제/N...\n",
              "4              4  ...  ['경기/NNG', '전망/NNG', '비교적/VAX', '분명/MAG', '인플레...\n",
              "...          ...  ...                                                ...\n",
              "3566        3576  ...  ['기대/NNG', '더디/VA', '발걸음/NNG', '외채/NNG', '해외/N...\n",
              "3567        3577  ...  ['크레딧/NNG', '투자전략/NNG', '신용/NNG', '분석/NNG', '민...\n",
              "3568        3578  ...  ['크레딧/NNG', '이슈/NNG', '신용스프레드/NNG', '동향/NNG', ...\n",
              "3569        3579  ...  ['고지/NNG', '사항/NNG', '조사/NNG', '분석/NNG', '자료/N...\n",
              "3570        3580  ...  ['밤중/NNG', '흔들/VV', '건너/VV', '의현/NNG', '보/VV',...\n",
              "\n",
              "[3571 rows x 7 columns]"
            ]
          },
          "metadata": {
            "tags": []
          },
          "execution_count": 10
        }
      ]
    },
    {
      "cell_type": "code",
      "metadata": {
        "id": "2rOwpluNHcN8",
        "colab_type": "code",
        "colab": {}
      },
      "source": [
        "reports['date'] = pd.to_datetime(reports['date'], format='%Y-%m-%d')"
      ],
      "execution_count": 7,
      "outputs": []
    },
    {
      "cell_type": "code",
      "metadata": {
        "id": "WPDjJa_iHo_E",
        "colab_type": "code",
        "colab": {}
      },
      "source": [
        "rates['date'] = pd.to_datetime(rates['date'], format='%Y-%m-%d')"
      ],
      "execution_count": 8,
      "outputs": []
    },
    {
      "cell_type": "code",
      "metadata": {
        "id": "Fg_p2VDkHpy0",
        "colab_type": "code",
        "colab": {
          "base_uri": "https://localhost:8080/",
          "height": 419
        },
        "outputId": "8a8e4b94-5eab-4db2-c79d-762980eab11e"
      },
      "source": [
        "df1 = pd.merge(reports,rates, on='date', how='inner') # 분석보고서 데이터와 금리를 date기준으로 inner 조인\n",
        "reports_label=df1[['date','ngram','label']]\n",
        "reports_label"
      ],
      "execution_count": 11,
      "outputs": [
        {
          "output_type": "execute_result",
          "data": {
            "text/html": [
              "<div>\n",
              "<style scoped>\n",
              "    .dataframe tbody tr th:only-of-type {\n",
              "        vertical-align: middle;\n",
              "    }\n",
              "\n",
              "    .dataframe tbody tr th {\n",
              "        vertical-align: top;\n",
              "    }\n",
              "\n",
              "    .dataframe thead th {\n",
              "        text-align: right;\n",
              "    }\n",
              "</style>\n",
              "<table border=\"1\" class=\"dataframe\">\n",
              "  <thead>\n",
              "    <tr style=\"text-align: right;\">\n",
              "      <th></th>\n",
              "      <th>date</th>\n",
              "      <th>ngram</th>\n",
              "      <th>label</th>\n",
              "    </tr>\n",
              "  </thead>\n",
              "  <tbody>\n",
              "    <tr>\n",
              "      <th>0</th>\n",
              "      <td>2008-04-01</td>\n",
              "      <td>['가/VV', '권투/NNG', '자채/NNG', '시장/NNG', '전망/NNG...</td>\n",
              "      <td>no_change</td>\n",
              "    </tr>\n",
              "    <tr>\n",
              "      <th>1</th>\n",
              "      <td>2008-04-07</td>\n",
              "      <td>['돌아온/VV', '박스권/NNG', '하단/NNG', '상단/NNG', '테스트...</td>\n",
              "      <td>hawkish</td>\n",
              "    </tr>\n",
              "    <tr>\n",
              "      <th>2</th>\n",
              "      <td>2008-04-07</td>\n",
              "      <td>['돌아온/VV', '박스권/NNG', '하단/NNG', '상단/NNG', '테스트...</td>\n",
              "      <td>hawkish</td>\n",
              "    </tr>\n",
              "    <tr>\n",
              "      <th>3</th>\n",
              "      <td>2008-04-14</td>\n",
              "      <td>['믹스/NNG', '합의/NNG', '반영/NNG', '예상/NNG', '경제/N...</td>\n",
              "      <td>no_change</td>\n",
              "    </tr>\n",
              "    <tr>\n",
              "      <th>4</th>\n",
              "      <td>2008-04-21</td>\n",
              "      <td>['경기/NNG', '전망/NNG', '비교적/VAX', '분명/MAG', '인플레...</td>\n",
              "      <td>no_change</td>\n",
              "    </tr>\n",
              "    <tr>\n",
              "      <th>...</th>\n",
              "      <td>...</td>\n",
              "      <td>...</td>\n",
              "      <td>...</td>\n",
              "    </tr>\n",
              "    <tr>\n",
              "      <th>3566</th>\n",
              "      <td>2020-01-23</td>\n",
              "      <td>['기대/NNG', '더디/VA', '발걸음/NNG', '외채/NNG', '해외/N...</td>\n",
              "      <td>no_change</td>\n",
              "    </tr>\n",
              "    <tr>\n",
              "      <th>3567</th>\n",
              "      <td>2020-01-28</td>\n",
              "      <td>['크레딧/NNG', '투자전략/NNG', '신용/NNG', '분석/NNG', '민...</td>\n",
              "      <td>dovish</td>\n",
              "    </tr>\n",
              "    <tr>\n",
              "      <th>3568</th>\n",
              "      <td>2020-01-28</td>\n",
              "      <td>['크레딧/NNG', '이슈/NNG', '신용스프레드/NNG', '동향/NNG', ...</td>\n",
              "      <td>dovish</td>\n",
              "    </tr>\n",
              "    <tr>\n",
              "      <th>3569</th>\n",
              "      <td>2020-01-28</td>\n",
              "      <td>['고지/NNG', '사항/NNG', '조사/NNG', '분석/NNG', '자료/N...</td>\n",
              "      <td>dovish</td>\n",
              "    </tr>\n",
              "    <tr>\n",
              "      <th>3570</th>\n",
              "      <td>2020-01-29</td>\n",
              "      <td>['밤중/NNG', '흔들/VV', '건너/VV', '의현/NNG', '보/VV',...</td>\n",
              "      <td>dovish</td>\n",
              "    </tr>\n",
              "  </tbody>\n",
              "</table>\n",
              "<p>3571 rows × 3 columns</p>\n",
              "</div>"
            ],
            "text/plain": [
              "           date                                              ngram      label\n",
              "0    2008-04-01  ['가/VV', '권투/NNG', '자채/NNG', '시장/NNG', '전망/NNG...  no_change\n",
              "1    2008-04-07  ['돌아온/VV', '박스권/NNG', '하단/NNG', '상단/NNG', '테스트...    hawkish\n",
              "2    2008-04-07  ['돌아온/VV', '박스권/NNG', '하단/NNG', '상단/NNG', '테스트...    hawkish\n",
              "3    2008-04-14  ['믹스/NNG', '합의/NNG', '반영/NNG', '예상/NNG', '경제/N...  no_change\n",
              "4    2008-04-21  ['경기/NNG', '전망/NNG', '비교적/VAX', '분명/MAG', '인플레...  no_change\n",
              "...         ...                                                ...        ...\n",
              "3566 2020-01-23  ['기대/NNG', '더디/VA', '발걸음/NNG', '외채/NNG', '해외/N...  no_change\n",
              "3567 2020-01-28  ['크레딧/NNG', '투자전략/NNG', '신용/NNG', '분석/NNG', '민...     dovish\n",
              "3568 2020-01-28  ['크레딧/NNG', '이슈/NNG', '신용스프레드/NNG', '동향/NNG', ...     dovish\n",
              "3569 2020-01-28  ['고지/NNG', '사항/NNG', '조사/NNG', '분석/NNG', '자료/N...     dovish\n",
              "3570 2020-01-29  ['밤중/NNG', '흔들/VV', '건너/VV', '의현/NNG', '보/VV',...     dovish\n",
              "\n",
              "[3571 rows x 3 columns]"
            ]
          },
          "metadata": {
            "tags": []
          },
          "execution_count": 11
        }
      ]
    },
    {
      "cell_type": "code",
      "metadata": {
        "id": "S9rO_aqQIAXW",
        "colab_type": "code",
        "colab": {}
      },
      "source": [
        "reports_label.to_csv('reports_label.csv', index=False, encoding=\"utf-8\")"
      ],
      "execution_count": 12,
      "outputs": []
    }
  ]
}