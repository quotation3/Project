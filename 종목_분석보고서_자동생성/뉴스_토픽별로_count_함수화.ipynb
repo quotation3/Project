{
 "cells": [
  {
   "cell_type": "code",
   "execution_count": 2,
   "metadata": {},
   "outputs": [],
   "source": [
    "import pandas as pd\n",
    "import json\n",
    "import numpy as np"
   ]
  },
  {
   "cell_type": "code",
   "execution_count": 5,
   "metadata": {},
   "outputs": [],
   "source": [
    "news_df = pd.read_json('C:/Users/user/Desktop/news_df.json')\n",
    "topic_df = pd.read_json('C:/Users/user/Desktop/3_topic.json')"
   ]
  },
  {
   "cell_type": "code",
   "execution_count": 17,
   "metadata": {},
   "outputs": [],
   "source": [
    "def news_count(topic_df, news_df):\n",
    "    \n",
    "    # 토픽 3개 다 들어가있는 기사에 1 라벨링하기\n",
    "    cnt_lis = []\n",
    "    for a,b,c in topic_df['topic']:\n",
    "        tmp = []\n",
    "        for text in news_df['text']:\n",
    "            if a in text and b in text and c in text:\n",
    "                tmp.append(1)\n",
    "            else:\n",
    "                tmp.append(0)\n",
    "        cnt_lis.append(tmp)\n",
    "    \n",
    "    # 기사 별로 라벨링된 리스트 news_df에 붙이기\n",
    "    topic_count = pd.DataFrame(np.array(cnt_lis).T, columns=['topic'+str(n+1) for n in range(len(topic_df))])\n",
    "    total = pd.concat([news,topic_count], axis=1)\n",
    "    \n",
    "    # 날짜별로 그룹묶어서 count\n",
    "    cnt_by_date = []\n",
    "    for i in range(3):\n",
    "        cnt_by_date.append(total['topic{}'.format(i+1)].groupby(total['date']).sum())\n",
    "    \n",
    "    df = pd.DataFrame(cnt_by_date)\n",
    "    count_df = df.transpose()\n",
    "    \n",
    "    return count_df"
   ]
  },
  {
   "cell_type": "code",
   "execution_count": 18,
   "metadata": {},
   "outputs": [
    {
     "data": {
      "text/html": [
       "<div>\n",
       "<style scoped>\n",
       "    .dataframe tbody tr th:only-of-type {\n",
       "        vertical-align: middle;\n",
       "    }\n",
       "\n",
       "    .dataframe tbody tr th {\n",
       "        vertical-align: top;\n",
       "    }\n",
       "\n",
       "    .dataframe thead th {\n",
       "        text-align: right;\n",
       "    }\n",
       "</style>\n",
       "<table border=\"1\" class=\"dataframe\">\n",
       "  <thead>\n",
       "    <tr style=\"text-align: right;\">\n",
       "      <th></th>\n",
       "      <th>topic1</th>\n",
       "      <th>topic2</th>\n",
       "      <th>topic3</th>\n",
       "    </tr>\n",
       "    <tr>\n",
       "      <th>date</th>\n",
       "      <th></th>\n",
       "      <th></th>\n",
       "      <th></th>\n",
       "    </tr>\n",
       "  </thead>\n",
       "  <tbody>\n",
       "    <tr>\n",
       "      <th>2005-01-01</th>\n",
       "      <td>0</td>\n",
       "      <td>0</td>\n",
       "      <td>0</td>\n",
       "    </tr>\n",
       "    <tr>\n",
       "      <th>2005-01-02</th>\n",
       "      <td>0</td>\n",
       "      <td>0</td>\n",
       "      <td>0</td>\n",
       "    </tr>\n",
       "  </tbody>\n",
       "</table>\n",
       "</div>"
      ],
      "text/plain": [
       "            topic1  topic2  topic3\n",
       "date                              \n",
       "2005-01-01       0       0       0\n",
       "2005-01-02       0       0       0"
      ]
     },
     "execution_count": 18,
     "metadata": {},
     "output_type": "execute_result"
    }
   ],
   "source": [
    "news_count(topic_df, news_df)"
   ]
  }
 ],
 "metadata": {
  "kernelspec": {
   "display_name": "Python 3",
   "language": "python",
   "name": "python3"
  },
  "language_info": {
   "codemirror_mode": {
    "name": "ipython",
    "version": 3
   },
   "file_extension": ".py",
   "mimetype": "text/x-python",
   "name": "python",
   "nbconvert_exporter": "python",
   "pygments_lexer": "ipython3",
   "version": "3.8.3"
  }
 },
 "nbformat": 4,
 "nbformat_minor": 4
}
